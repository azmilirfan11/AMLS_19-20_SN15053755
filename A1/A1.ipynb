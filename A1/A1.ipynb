{
 "cells": [
  {
   "cell_type": "markdown",
   "metadata": {},
   "source": [
    "# Task A1 - Gender Detection\n",
    "by MOHAMED AZMIL IRFAN MOHAMED AMIRUDDIN\n",
    "\n",
    "(AMLS 19/20 ASSIGNMENT)"
   ]
  },
  {
   "cell_type": "markdown",
   "metadata": {},
   "source": [
    "## Import Libraries"
   ]
  },
  {
   "cell_type": "code",
   "execution_count": 1,
   "metadata": {},
   "outputs": [
    {
     "name": "stderr",
     "output_type": "stream",
     "text": [
      "Using TensorFlow backend.\n",
      "C:\\Users\\Bear-\\Anaconda3\\lib\\site-packages\\tensorflow\\python\\framework\\dtypes.py:526: FutureWarning: Passing (type, 1) or '1type' as a synonym of type is deprecated; in a future version of numpy, it will be understood as (type, (1,)) / '(1,)type'.\n",
      "  _np_qint8 = np.dtype([(\"qint8\", np.int8, 1)])\n",
      "C:\\Users\\Bear-\\Anaconda3\\lib\\site-packages\\tensorflow\\python\\framework\\dtypes.py:527: FutureWarning: Passing (type, 1) or '1type' as a synonym of type is deprecated; in a future version of numpy, it will be understood as (type, (1,)) / '(1,)type'.\n",
      "  _np_quint8 = np.dtype([(\"quint8\", np.uint8, 1)])\n",
      "C:\\Users\\Bear-\\Anaconda3\\lib\\site-packages\\tensorflow\\python\\framework\\dtypes.py:528: FutureWarning: Passing (type, 1) or '1type' as a synonym of type is deprecated; in a future version of numpy, it will be understood as (type, (1,)) / '(1,)type'.\n",
      "  _np_qint16 = np.dtype([(\"qint16\", np.int16, 1)])\n",
      "C:\\Users\\Bear-\\Anaconda3\\lib\\site-packages\\tensorflow\\python\\framework\\dtypes.py:529: FutureWarning: Passing (type, 1) or '1type' as a synonym of type is deprecated; in a future version of numpy, it will be understood as (type, (1,)) / '(1,)type'.\n",
      "  _np_quint16 = np.dtype([(\"quint16\", np.uint16, 1)])\n",
      "C:\\Users\\Bear-\\Anaconda3\\lib\\site-packages\\tensorflow\\python\\framework\\dtypes.py:530: FutureWarning: Passing (type, 1) or '1type' as a synonym of type is deprecated; in a future version of numpy, it will be understood as (type, (1,)) / '(1,)type'.\n",
      "  _np_qint32 = np.dtype([(\"qint32\", np.int32, 1)])\n",
      "C:\\Users\\Bear-\\Anaconda3\\lib\\site-packages\\tensorflow\\python\\framework\\dtypes.py:535: FutureWarning: Passing (type, 1) or '1type' as a synonym of type is deprecated; in a future version of numpy, it will be understood as (type, (1,)) / '(1,)type'.\n",
      "  np_resource = np.dtype([(\"resource\", np.ubyte, 1)])\n"
     ]
    }
   ],
   "source": [
    "import os\n",
    "import cv2\n",
    "import dlib\n",
    "import numpy as np\n",
    "import pandas as pd\n",
    "from pandas import DataFrame\n",
    "from keras.preprocessing import image\n",
    "from sklearn import svm\n",
    "from sklearn.dummy import DummyClassifier\n",
    "from sklearn.svm import SVC\n",
    "from sklearn.model_selection import train_test_split, GridSearchCV, learning_curve, ShuffleSplit\n",
    "from sklearn.metrics import classification_report, accuracy_score, confusion_matrix, recall_score, precision_score, f1_score\n",
    "import matplotlib.pyplot as plt\n",
    "\n",
    "%matplotlib inline\n",
    "# required magic function\n",
    "\n",
    "# import sys\n",
    "# np.set_printoptions(threshold=sys.maxsize)"
   ]
  },
  {
   "cell_type": "markdown",
   "metadata": {},
   "source": [
    "## Change directory to one level up\n",
    "relevant folder\n",
    "1. Image directory : ..\\AMLS_19-20_SN15053755\\dataset\\celeba\\img\n",
    "2. Label CSV file directory : ..\\AMLS_19-20_SN15053755\\dataset\\celeba\\labels.csv"
   ]
  },
  {
   "cell_type": "code",
   "execution_count": 2,
   "metadata": {},
   "outputs": [
    {
     "name": "stdout",
     "output_type": "stream",
     "text": [
      "C:\\Users\\Bear-\\Desktop\\AMLS_19-20_SN15053755\n"
     ]
    }
   ],
   "source": [
    "os.chdir(\"..\")\n",
    "print(os.path.abspath(os.curdir))"
   ]
  },
  {
   "cell_type": "markdown",
   "metadata": {},
   "source": [
    "## Setting all directories"
   ]
  },
  {
   "cell_type": "code",
   "execution_count": 3,
   "metadata": {},
   "outputs": [],
   "source": [
    "# global basedir, dataset_dir, image_paths, target_size\n",
    "\n",
    "labels_filename = 'labels.csv'\n",
    "\n",
    "basedir = os.path.abspath(os.curdir)\n",
    "dataset_dir = os.path.join(basedir,'dataset')\n",
    "celeba_dir = os.path.join(dataset_dir,'celeba')\n",
    "images_dir = os.path.join(celeba_dir,'img')\n",
    "labels_dir = os.path.join(celeba_dir,labels_filename)\n",
    "\n",
    "# print(os.path.abspath(images_dir))"
   ]
  },
  {
   "cell_type": "code",
   "execution_count": 4,
   "metadata": {},
   "outputs": [],
   "source": [
    "detector = dlib.get_frontal_face_detector()\n",
    "predictor = dlib.shape_predictor('shape_predictor_68_face_landmarks.dat')"
   ]
  },
  {
   "cell_type": "markdown",
   "metadata": {},
   "source": [
    "## Feature Extraction function"
   ]
  },
  {
   "cell_type": "code",
   "execution_count": 5,
   "metadata": {},
   "outputs": [],
   "source": [
    "def extract_features_labels(images_dir, labels_dir):\n",
    "    \"\"\" return:\n",
    "        landmark_features:  an array containing 68 landmark points for each image in celeba folder\n",
    "        gender_labels:      an array containing the gender label (male=0 and female=1) for each image\n",
    "    \"\"\"\n",
    "    image_paths = [os.path.join(images_dir, l) for l in os.listdir(images_dir)] ##filename in matrix\n",
    "    target_size = None\n",
    "    labels_file = open(labels_dir, 'r')\n",
    "    lines = labels_file.readlines()\n",
    "    gender_labels = {line.split('\\t')[0] : int(line.split('\\t')[2]) for line in lines[1:]} ##fetch filename + label gender\n",
    "    if os.path.isdir(images_dir):\n",
    "        all_features = []\n",
    "        all_labels = []\n",
    "        error_features = []\n",
    "        for img_path in image_paths:\n",
    "            file_name= img_path.split('.')[0].split('\\\\')[-1] ##getting name of file; remove png/jpg + dir\n",
    "\n",
    "            # load image\n",
    "            img = image.img_to_array(\n",
    "                image.load_img(img_path,\n",
    "                               target_size=target_size,\n",
    "                               interpolation='bicubic'))\n",
    "            features, _ = run_dlib_shape(img)\n",
    "            if features is not None:\n",
    "                all_features.append(features)\n",
    "                all_labels.append(gender_labels[file_name])\n",
    "            if features is None:\n",
    "                error_features.append(file_name)\n",
    "                \n",
    "\n",
    "    landmark_features = np.array(all_features)\n",
    "    gender_labels = (np.array(all_labels) + 1)/2 # converts the -1 into 0, so male=0 and female=1\n",
    "    return landmark_features, gender_labels, error_features\n",
    "\n",
    "def shape_to_np(shape, dtype=\"int\"):\n",
    "    # initialize the list of (x, y)-coordinates\n",
    "    coords = np.zeros((shape.num_parts, 2), dtype=dtype)\n",
    "\n",
    "    # loop over all facial landmarks and convert them\n",
    "    # to a 2-tuple of (x, y)-coordinates\n",
    "    for i in range(0, shape.num_parts):\n",
    "        coords[i] = (shape.part(i).x, shape.part(i).y)\n",
    "\n",
    "    # return the list of (x, y)-coordinates\n",
    "    return coords\n",
    "\n",
    "def rect_to_bb(rect):\n",
    "    # take a bounding predicted by dlib and convert it\n",
    "    # to the format (x, y, w, h) as we would normally do\n",
    "    # with OpenCV\n",
    "    x = rect.left()\n",
    "    y = rect.top()\n",
    "    w = rect.right() - x\n",
    "    h = rect.bottom() - y\n",
    "\n",
    "    # return a tuple of (x, y, w, h)\n",
    "    return (x, y, w, h)\n",
    "\n",
    "\n",
    "def run_dlib_shape(image):\n",
    "    # in this function we load the image, detect the landmarks of the face, and then return the image and the landmarks\n",
    "    # load the input image, resize it, and convert it to grayscale\n",
    "    resized_image = image.astype('uint8')\n",
    "\n",
    "    gray = cv2.cvtColor(resized_image, cv2.COLOR_BGR2GRAY)\n",
    "    gray = gray.astype('uint8')\n",
    "\n",
    "    # detect faces in the grayscale image\n",
    "    rects = detector(gray, 1)\n",
    "    num_faces = len(rects)\n",
    "\n",
    "    if num_faces == 0:\n",
    "        return None, resized_image\n",
    "\n",
    "    face_areas = np.zeros((1, num_faces))\n",
    "    face_shapes = np.zeros((136, num_faces), dtype=np.int64)\n",
    "\n",
    "    # loop over the face detections\n",
    "    for (i, rect) in enumerate(rects):\n",
    "        # determine the facial landmarks for the face region, then\n",
    "        # convert the facial landmark (x, y)-coordinates to a NumPy\n",
    "        # array\n",
    "        temp_shape = predictor(gray, rect)\n",
    "        temp_shape = shape_to_np(temp_shape)\n",
    "\n",
    "        # convert dlib's rectangle to a OpenCV-style bounding box\n",
    "        # [i.e., (x, y, w, h)],\n",
    "        #   (x, y, w, h) = face_utils.rect_to_bb(rect)\n",
    "        (x, y, w, h) = rect_to_bb(rect)\n",
    "        face_shapes[:, i] = np.reshape(temp_shape, [136])\n",
    "        face_areas[0, i] = w * h\n",
    "    # find largest face and keep\n",
    "    dlibout = np.reshape(np.transpose(face_shapes[:, np.argmax(face_areas)]), [68, 2])\n",
    "\n",
    "    return dlibout, resized_image\n",
    "    \n",
    "def totuple(a):\n",
    "    try:\n",
    "        return tuple(totuple(i) for i in a)\n",
    "    except TypeError:\n",
    "        return a"
   ]
  },
  {
   "cell_type": "markdown",
   "metadata": {},
   "source": [
    "## Testing and displaying feature extraction\n",
    "Taking one image from dataset to display how feature extraction is done (ie image 11.jpg)\n",
    "\n",
    "Jaw: [1,17]\n",
    "\n",
    "Right Eyebrow: [18,22]\n",
    "\n",
    "Left Eyebrow: [23,27]\n",
    "\n",
    "Nose: [28,36]\n",
    "\n",
    "Right Eye: [37,42]\n",
    "\n",
    "Left Eye: [43,48]\n",
    "\n",
    "Mouth: [49,68]"
   ]
  },
  {
   "cell_type": "code",
   "execution_count": 6,
   "metadata": {},
   "outputs": [
    {
     "data": {
      "image/png": "[encoded data removed]",
      "text/plain": [
       "<Figure size 720x720 with 1 Axes>"
      ]
     },
     "metadata": {
      "needs_background": "light"
     },
     "output_type": "display_data"
    }
   ],
   "source": [
    "ex_img_path = os.path.join(images_dir, '11.jpg')\n",
    "ex_image = image.img_to_array(image.load_img(ex_img_path, target_size = None, interpolation='bicubic'))\n",
    "ex_feat, _ = run_dlib_shape(ex_image)\n",
    "\n",
    "x, y  = np.split(ex_feat, 2, axis=1)\n",
    "cv_image = cv2.imread(ex_img_path)\n",
    "fig = plt.figure(figsize=(10,10))\n",
    "image_plot = plt.imshow(cv_image)\n",
    "plt.title(\"Example of Feature Extraction on an image\")\n",
    "plt.scatter(x,y, c='red')\n",
    "plt.show()"
   ]
  },
  {
   "cell_type": "markdown",
   "metadata": {},
   "source": [
    "The blue colour face is due to cv2 BGR default. Since colour is not relevant, hence dont need to convert to RGB"
   ]
  },
  {
   "cell_type": "markdown",
   "metadata": {},
   "source": [
    "## Processing Image using Feature Extraction"
   ]
  },
  {
   "cell_type": "code",
   "execution_count": 7,
   "metadata": {},
   "outputs": [
    {
     "name": "stdout",
     "output_type": "stream",
     "text": [
      "4800\n",
      "4800\n"
     ]
    }
   ],
   "source": [
    "feature, label, error = extract_features_labels(images_dir, labels_dir)\n",
    "\n",
    "print(len(feature))\n",
    "print(len(label))"
   ]
  },
  {
   "cell_type": "markdown",
   "metadata": {},
   "source": [
    "As it can be seen, not every picture can be feature extraction. This maybe due to the image is not front-faced or not clear"
   ]
  },
  {
   "cell_type": "code",
   "execution_count": 8,
   "metadata": {},
   "outputs": [
    {
     "name": "stdout",
     "output_type": "stream",
     "text": [
      "Number of error images :\n",
      "200\n",
      "\n",
      "\n",
      "Name of error images :\n",
      "['1015', '1037', '1045', '1109', '1119', '1153', '1162', '1183', '119', '123', '1254', '1285', '1297', '1305', '1337', '1343', '1354', '136', '137', '1400', '143', '1468', '1479', '148', '149', '1505', '1522', '153', '1532', '1558', '158', '1602', '1605', '1641', '165', '1651', '1666', '1676', '1703', '1793', '187', '1877', '1939', '1945', '1956', '198', '1994', '1997', '2', '2012', '2013', '2040', '2054', '2060', '2145', '219', '2201', '2213', '223', '2248', '2261', '2267', '2285', '2294', '2314', '2344', '2345', '2347', '239', '2416', '2447', '2480', '2486', '2512', '2582', '2605', '2622', '2631', '2696', '2728', '2828', '2851', '2919', '292', '2961', '2971', '2975', '3', '3012', '3054', '3107', '3130', '3135', '3142', '315', '3168', '3171', '3197', '3199', '3211', '3291', '330', '3319', '3382', '3399', '3454', '3492', '35', '3514', '3564', '3569', '3625', '3626', '3639', '365', '3650', '3662', '3731', '3757', '3785', '3823', '3824', '3853', '3865', '3907', '3927', '3945', '4006', '4009', '4080', '4101', '4103', '4112', '416', '4222', '4241', '425', '4251', '4302', '4309', '4322', '433', '4335', '4386', '4400', '4411', '4421', '4447', '4449', '4454', '4473', '4476', '4500', '452', '4522', '4524', '4531', '4540', '4550', '4555', '4595', '4597', '4666', '4668', '4672', '4680', '4688', '4699', '4709', '4712', '4717', '4745', '4758', '4789', '4796', '4802', '4830', '4881', '4893', '4987', '519', '556', '572', '602', '622', '623', '626', '645', '66', '701', '756', '806', '840', '88', '880', '881', '887', '92', '948', '982']\n"
     ]
    }
   ],
   "source": [
    "print(\"Number of error images :\")\n",
    "print(len(error))\n",
    "print(\"\\n\")\n",
    "print(\"Name of error images :\")\n",
    "print(error)"
   ]
  },
  {
   "cell_type": "markdown",
   "metadata": {},
   "source": [
    "## Displaying some error images"
   ]
  },
  {
   "cell_type": "code",
   "execution_count": null,
   "metadata": {},
   "outputs": [],
   "source": [
    "error_images =[]\n",
    "\n",
    "error1 = os.path.join(images_dir, '982.jpg')\n",
    "error_images.append(cv2.imread(error1))\n",
    "error2 = os.path.join(images_dir, '626.jpg')\n",
    "error_images.append(cv2.imread(error2))\n",
    "error3 = os.path.join(images_dir, '602.jpg')\n",
    "error_images.append(cv2.imread(error3))\n",
    "error4 = os.path.join(images_dir, '1997.jpg')\n",
    "error_images.append(cv2.imread(error4))\n",
    "\n",
    "num_images = len(error_images)\n",
    "\n",
    "fig =plt.figure(figsize = (10,10))\n",
    "for image_idx in range(num_images):\n",
    "    # Keep an incrementing count of each image\n",
    "    a=fig.add_subplot(1, num_images, image_idx+1)\n",
    "    # Add the image to the plot\n",
    "    image_plot = plt.imshow(error_images[image_idx])\n",
    "    # Add a caption with the folder name\n",
    "    a.set_title(\"Image \" + str(image_idx+1))\n",
    "\n",
    "plt.show()"
   ]
  },
  {
   "cell_type": "markdown",
   "metadata": {},
   "source": [
    "Image 1 and 2 has different orientation and not front-faced.\n",
    "Image 3 is blocked.\n",
    "Image 4 has shaded half the face."
   ]
  },
  {
   "cell_type": "markdown",
   "metadata": {},
   "source": [
    "## Splitting data into training and testing "
   ]
  },
  {
   "cell_type": "code",
   "execution_count": null,
   "metadata": {},
   "outputs": [],
   "source": [
    "def split_data(image_feature, image_label):\n",
    "    i,j,k,l = train_test_split(image_feature, image_label, test_size = 0.2, random_state=42)\n",
    "    train_image = i.reshape((len(i), 68*2))\n",
    "#     train_image = i\n",
    "    train_label = totuple(k)\n",
    "    test_image = j.reshape((len(j), 68*2))\n",
    "#     test_image = j\n",
    "    test_label = totuple(l)\n",
    "    \n",
    "    return train_image, train_label, test_image, test_label\n",
    "\n",
    "train_image, train_label, test_image, test_label = split_data(feature, label)"
   ]
  },
  {
   "cell_type": "markdown",
   "metadata": {},
   "source": [
    "## Training Data"
   ]
  },
  {
   "cell_type": "markdown",
   "metadata": {},
   "source": [
    "### 1. Using dummy classifier\n",
    "Predicting output based on the most frequent"
   ]
  },
  {
   "cell_type": "code",
   "execution_count": null,
   "metadata": {},
   "outputs": [],
   "source": [
    "clf_dummy = DummyClassifier(strategy= 'most_frequent').fit(train_image, train_label)\n",
    "pred1 = clf_dummy.predict(test_image)\n",
    "print(accuracy_score(test_label, pred1))"
   ]
  },
  {
   "cell_type": "markdown",
   "metadata": {},
   "source": [
    "### 2. Using rbf kernel\n",
    "Using GridSearch to optimise hyper-parameter"
   ]
  },
  {
   "cell_type": "code",
   "execution_count": 12,
   "metadata": {},
   "outputs": [
    {
     "name": "stderr",
     "output_type": "stream",
     "text": [
      "[Parallel(n_jobs=4)]: Done 100 out of 100 | elapsed:  1.7min finished\n"
     ]
    },
    {
     "data": {
      "text/plain": [
       "SVC(C=10, break_ties=False, cache_size=200, class_weight=None, coef0=0.0,\n",
       "    decision_function_shape='ovr', degree=3, gamma=0.001, kernel='rbf',\n",
       "    max_iter=-1, probability=False, random_state=None, shrinking=True,\n",
       "    tol=0.001, verbose=False)"
      ]
     },
     "execution_count": 12,
     "metadata": {},
     "output_type": "execute_result"
    }
   ],
   "source": [
    "# defining parameter range \n",
    "param_grid_1 = {'C': [0.001, 0.01, 0.1, 10],  \n",
    "              'gamma': [0.001, 0.01, 0.1, 1, 10], \n",
    "              'kernel': ['rbf']}\n",
    "\n",
    "# run grid search\n",
    "grid_1 = GridSearchCV(SVC(), param_grid_1, n_jobs = 4, refit = True, verbose = 3) \n",
    "grid_1 = grid_1.fit(train_image, train_label)\n",
    "\n",
    "# set clf_rbf to best hyper-parameter\n",
    "clf_rbf = grid_1.best_estimator_\n",
    "clf_rbf.fit(train_image, train_label)"
   ]
  },
  {
   "cell_type": "code",
   "execution_count": 13,
   "metadata": {},
   "outputs": [
    {
     "name": "stdout",
     "output_type": "stream",
     "text": [
      "Best hyper-parameter tuning :\n",
      "{'C': 10, 'gamma': 0.001, 'kernel': 'rbf'}\n"
     ]
    }
   ],
   "source": [
    "print(\"Best hyper-parameter tuning :\")\n",
    "print(grid_1.best_params_)"
   ]
  },
  {
   "cell_type": "code",
   "execution_count": 14,
   "metadata": {},
   "outputs": [
    {
     "name": "stdout",
     "output_type": "stream",
     "text": [
      "0.878125\n"
     ]
    }
   ],
   "source": [
    "pred2 = clf_rbf.predict(test_image)\n",
    "print(accuracy_score(test_label, pred2))"
   ]
  },
  {
   "cell_type": "markdown",
   "metadata": {},
   "source": [
    "### 3. Using linear kernel\n",
    "Using Gridsearch to optimise hyper-parameter"
   ]
  },
  {
   "cell_type": "code",
   "execution_count": null,
   "metadata": {},
   "outputs": [
    {
     "name": "stdout",
     "output_type": "stream",
     "text": [
      "Fitting 5 folds for each of 15 candidates, totalling 75 fits\n"
     ]
    },
    {
     "name": "stderr",
     "output_type": "stream",
     "text": [
      "[Parallel(n_jobs=4)]: Using backend LokyBackend with 4 concurrent workers.\n",
      "[Parallel(n_jobs=4)]: Done  24 tasks      | elapsed:   11.7s\n"
     ]
    }
   ],
   "source": [
    "# defining parameter range \n",
    "param_grid_2 = {'C': [0.01, 0.1, 10],  \n",
    "              'gamma': [0.001, 0.01, 0.1, 1, 10], \n",
    "              'kernel': ['linear']}\n",
    "\n",
    "# run grid search\n",
    "grid_2 = GridSearchCV(SVC(), param_grid_2, n_jobs = 4, refit = True, verbose = 3) \n",
    "grid_2 = grid_2.fit(train_image, train_label)\n",
    "\n",
    "# set clf_rbf to best hyper-parameter\n",
    "clf_lin = grid_2.best_estimator_\n",
    "clf_lin.fit(train_image, train_label)"
   ]
  },
  {
   "cell_type": "code",
   "execution_count": null,
   "metadata": {},
   "outputs": [],
   "source": [
    "print(\"Best hyper-parameter tuning :\")\n",
    "print(grid_2.best_params_)"
   ]
  },
  {
   "cell_type": "code",
   "execution_count": null,
   "metadata": {},
   "outputs": [],
   "source": [
    "pred3 = clf_lin.predict(test_image)\n",
    "print(accuracy_score(test_label, pred3))"
   ]
  },
  {
   "cell_type": "markdown",
   "metadata": {},
   "source": [
    "### Model Validation by plotting Learning Curve"
   ]
  },
  {
   "cell_type": "code",
   "execution_count": null,
   "metadata": {},
   "outputs": [],
   "source": [
    "newclf_rbf = SVC(C=10, gamma = 0.001, kernel='rbf')\n",
    "newclf_lin = SVC(C=0.01 , gamma = 0.001, kernel = 'linear')"
   ]
  },
  {
   "cell_type": "code",
   "execution_count": null,
   "metadata": {
    "scrolled": true
   },
   "outputs": [],
   "source": [
    "def plot_learning_curve(estimator, title, X, y, axes=None, ylim=None, cv=None,\n",
    "                        n_jobs=None, train_sizes=np.linspace(.1, 1.0, 5)):\n",
    "    \"\"\"\n",
    "    Generate 3 plots: the test and training learning curve, the training\n",
    "    samples vs fit times curve, the fit times vs score curve.\n",
    "\n",
    "    Parameters\n",
    "    ----------\n",
    "    estimator : object type that implements the \"fit\" and \"predict\" methods\n",
    "        An object of that type which is cloned for each validation.\n",
    "\n",
    "    title : string\n",
    "        Title for the chart.\n",
    "\n",
    "    X : array-like, shape (n_samples, n_features)\n",
    "        Training vector, where n_samples is the number of samples and\n",
    "        n_features is the number of features.\n",
    "\n",
    "    y : array-like, shape (n_samples) or (n_samples, n_features), optional\n",
    "        Target relative to X for classification or regression;\n",
    "        None for unsupervised learning.\n",
    "\n",
    "    axes : array of 3 axes, optional (default=None)\n",
    "        Axes to use for plotting the curves.\n",
    "\n",
    "    ylim : tuple, shape (ymin, ymax), optional\n",
    "        Defines minimum and maximum yvalues plotted.\n",
    "\n",
    "    cv : int, cross-validation generator or an iterable, optional\n",
    "        Determines the cross-validation splitting strategy.\n",
    "        Possible inputs for cv are:\n",
    "          - None, to use the default 5-fold cross-validation,\n",
    "          - integer, to specify the number of folds.\n",
    "          - :term:`CV splitter`,\n",
    "          - An iterable yielding (train, test) splits as arrays of indices.\n",
    "\n",
    "        For integer/None inputs, if ``y`` is binary or multiclass,\n",
    "        :class:`StratifiedKFold` used. If the estimator is not a classifier\n",
    "        or if ``y`` is neither binary nor multiclass, :class:`KFold` is used.\n",
    "\n",
    "        Refer :ref:`User Guide <cross_validation>` for the various\n",
    "        cross-validators that can be used here.\n",
    "\n",
    "    n_jobs : int or None, optional (default=None)\n",
    "        Number of jobs to run in parallel.\n",
    "        ``None`` means 1 unless in a :obj:`joblib.parallel_backend` context.\n",
    "        ``-1`` means using all processors. See :term:`Glossary <n_jobs>`\n",
    "        for more details.\n",
    "\n",
    "    train_sizes : array-like, shape (n_ticks,), dtype float or int\n",
    "        Relative or absolute numbers of training examples that will be used to\n",
    "        generate the learning curve. If the dtype is float, it is regarded as a\n",
    "        fraction of the maximum size of the training set (that is determined\n",
    "        by the selected validation method), i.e. it has to be within (0, 1].\n",
    "        Otherwise it is interpreted as absolute sizes of the training sets.\n",
    "        Note that for classification the number of samples usually have to\n",
    "        be big enough to contain at least one sample from each class.\n",
    "        (default: np.linspace(0.1, 1.0, 5))\n",
    "    \"\"\"\n",
    "    if axes is None:\n",
    "        _, axes = plt.subplots(1, 3, figsize=(20, 5))\n",
    "\n",
    "    axes[0].set_title(title)\n",
    "    if ylim is not None:\n",
    "        axes[0].set_ylim(*ylim)\n",
    "    axes[0].set_xlabel(\"Training examples\")\n",
    "    axes[0].set_ylabel(\"Score\")\n",
    "\n",
    "    train_sizes, train_scores, test_scores, fit_times, _ = learning_curve(estimator, X, y,\n",
    "                                                                          cv=cv, n_jobs=n_jobs,\n",
    "                                                                          train_sizes=train_sizes,\n",
    "                                                                          return_times=True)\n",
    "    train_scores_mean = np.mean(train_scores, axis=1)\n",
    "    train_scores_std = np.std(train_scores, axis=1)\n",
    "    test_scores_mean = np.mean(test_scores, axis=1)\n",
    "    test_scores_std = np.std(test_scores, axis=1)\n",
    "    fit_times_mean = np.mean(fit_times, axis=1)\n",
    "    fit_times_std = np.std(fit_times, axis=1)\n",
    "\n",
    "    # Plot learning curve\n",
    "    axes[0].grid()\n",
    "    axes[0].fill_between(train_sizes, train_scores_mean - train_scores_std,\n",
    "                         train_scores_mean + train_scores_std, alpha=0.1,\n",
    "                         color=\"r\")\n",
    "    axes[0].fill_between(train_sizes, test_scores_mean - test_scores_std,\n",
    "                         test_scores_mean + test_scores_std, alpha=0.1,\n",
    "                         color=\"g\")\n",
    "    axes[0].plot(train_sizes, train_scores_mean, 'o-', color=\"r\",\n",
    "                 label=\"Training score\")\n",
    "    axes[0].plot(train_sizes, test_scores_mean, 'o-', color=\"g\",\n",
    "                 label=\"Cross-validation score\")\n",
    "    axes[0].legend(loc=\"best\")\n",
    "\n",
    "    # Plot n_samples vs fit_times\n",
    "    axes[1].grid()\n",
    "    axes[1].plot(train_sizes, fit_times_mean, 'o-')\n",
    "    axes[1].fill_between(train_sizes, fit_times_mean - fit_times_std,\n",
    "                         fit_times_mean + fit_times_std, alpha=0.1)\n",
    "    axes[1].set_xlabel(\"Training examples\")\n",
    "    axes[1].set_ylabel(\"fit_times\")\n",
    "    axes[1].set_title(\"Scalability of the model\")\n",
    "\n",
    "    # Plot fit_time vs score\n",
    "    axes[2].grid()\n",
    "    axes[2].plot(fit_times_mean, test_scores_mean, 'o-')\n",
    "    axes[2].fill_between(fit_times_mean, test_scores_mean - test_scores_std,\n",
    "                         test_scores_mean + test_scores_std, alpha=0.1)\n",
    "    axes[2].set_xlabel(\"fit_times\")\n",
    "    axes[2].set_ylabel(\"Score\")\n",
    "    axes[2].set_title(\"Performance of the model\")\n",
    "\n",
    "    return plt, train_scores_mean, test_scores_mean\n",
    "\n",
    "\n",
    "fig, axes = plt.subplots(3, 2, figsize=(10, 15))\n",
    "\n",
    "X = feature.reshape((len(feature), 68*2))\n",
    "y = totuple(label)\n",
    "\n",
    "title = \"Learning Curves (Kernel = rbf)\"\n",
    "cv = ShuffleSplit(n_splits=100, test_size=0.2, random_state=0)\n",
    "\n",
    "estimator = newclf_rbf\n",
    "plt1, _, _ = plot_learning_curve(estimator, title, X, y, axes=axes[:, 0],\n",
    "                    cv=cv, n_jobs=4)\n",
    "\n",
    "title = r\"Learning Curves (Kernel = linear)\"\n",
    "cv = ShuffleSplit(n_splits=10, test_size=0.2, random_state=0)\n",
    "estimator = newclf_lin\n",
    "plt2, k1,k2 = plot_learning_curve(estimator, title, X, y, axes=axes[:, 1],\n",
    "                    cv=cv, n_jobs=4)\n",
    "\n",
    "plt.show()"
   ]
  },
  {
   "cell_type": "code",
   "execution_count": null,
   "metadata": {},
   "outputs": [],
   "source": [
    "print(k1)\n",
    "print(k2)"
   ]
  },
  {
   "cell_type": "markdown",
   "metadata": {},
   "source": [
    "## Model Evaluation\n",
    "### Using Confusion Matrix"
   ]
  },
  {
   "cell_type": "code",
   "execution_count": 20,
   "metadata": {},
   "outputs": [
    {
     "name": "stdout",
     "output_type": "stream",
     "text": [
      "Generating predictions from validation data..\n"
     ]
    },
    {
     "data": {
      "image/png": "[encoded data removed]",
      "text/plain": [
       "<Figure size 720x720 with 6 Axes>"
      ]
     },
     "metadata": {
      "needs_background": "light"
     },
     "output_type": "display_data"
    }
   ],
   "source": [
    "print(\"Generating predictions from validation data..\")\n",
    "\n",
    "cm1 = confusion_matrix(test_label, pred1)\n",
    "cm2 = confusion_matrix(test_label, pred2)\n",
    "cm3 = confusion_matrix(test_label, pred3)\n",
    "\n",
    "\n",
    "fig, axs = plt.subplots(1, 3 ,figsize=(10, 10))\n",
    "\n",
    "im1 = axs[0].imshow(cm1)\n",
    "fig.colorbar(im1, ax=axs[0])\n",
    "axs[0].set_title(\"Dummy Classifier\")\n",
    "\n",
    "im2 = axs[1].imshow(cm2)\n",
    "fig.colorbar(im2, ax=axs[1])\n",
    "axs[1].set_title(\"SVC with RBF kernel\")\n",
    "\n",
    "im3 = axs[2].imshow(cm3)\n",
    "fig.colorbar(im3, ax=axs[2])\n",
    "axs[2].set_title(\"SVC with Linear kernel\")\n",
    "\n",
    "fig.suptitle('Confusion Matrix', fontsize=16)\n",
    "\n",
    "plt.show()"
   ]
  },
  {
   "cell_type": "markdown",
   "metadata": {},
   "source": [
    "### Evaluation Matrix for each classifier\n",
    "Calulating evaluation matrix"
   ]
  },
  {
   "cell_type": "code",
   "execution_count": 21,
   "metadata": {},
   "outputs": [
    {
     "name": "stdout",
     "output_type": "stream",
     "text": [
      "             Classifier  Accuracy Score  Precision Score  Recall Score  \\\n",
      "0                 Dummy        0.464583         0.464583      1.000000   \n",
      "1     SVC w/ RBF kernel        0.878125         0.853763      0.890135   \n",
      "2  SVC w/ Linear kernel        0.914583         0.909910      0.905830   \n",
      "\n",
      "   F1 Score  \n",
      "0  0.634424  \n",
      "1  0.871570  \n",
      "2  0.907865  \n"
     ]
    }
   ],
   "source": [
    "evaluation = {'Classifier': ['Dummy','SVC w/ RBF kernel','SVC w/ Linear kernel'],\n",
    "              'Accuracy Score' : [accuracy_score(test_label,pred1),\n",
    "                                  accuracy_score(test_label, pred2),\n",
    "                                  accuracy_score(test_label, pred3)],\n",
    "              'Precision Score' : [precision_score(test_label, pred1),\n",
    "                                   precision_score(test_label, pred2),\n",
    "                                   precision_score(test_label, pred3)],\n",
    "              'Recall Score' : [recall_score(test_label, pred1),\n",
    "                                recall_score(test_label, pred2),\n",
    "                                recall_score(test_label, pred3)],\n",
    "              'F1 Score': [f1_score(test_label, pred1),\n",
    "                           f1_score(test_label, pred2),\n",
    "                           f1_score(test_label, pred3)]}\n",
    "\n",
    "evaldf = DataFrame(evaluation, columns = ['Classifier', 'Accuracy Score', 'Precision Score', 'Recall Score' , 'F1 Score'])\n",
    "\n",
    "print(evaldf)"
   ]
  },
  {
   "cell_type": "code",
   "execution_count": null,
   "metadata": {},
   "outputs": [],
   "source": []
  },
  {
   "cell_type": "code",
   "execution_count": null,
   "metadata": {},
   "outputs": [],
   "source": []
  },
  {
   "cell_type": "markdown",
   "metadata": {},
   "source": [
    "# IGNORE CODE BELOW"
   ]
  },
  {
   "cell_type": "code",
   "execution_count": 22,
   "metadata": {},
   "outputs": [],
   "source": [
    "# def bestclf():\n",
    "#     clf = SVC(C=0.01 , gamma = 0.001, kernel = 'linear')\n",
    "#     print(\"Classifier loaded\")\n",
    "#     return clf\n",
    "\n",
    "#     def train(training_image, training_label):\n",
    "#         clf.fit(training_image, training_label)\n",
    "#         print(\"Training Complete\")\n",
    "#         return clf\n",
    "    \n",
    "#     def test(testing_image, testing_label):\n",
    "#         clfPred = clf.predict(testing_image)\n",
    "#         print(\"SVC Classifier with Linear kernel Accuracy: \", accuracy_score(testing_label, clfPred))\n",
    "#         print(classification_report(testing_label, clfPred))\n",
    "#         return clf"
   ]
  },
  {
   "cell_type": "code",
   "execution_count": 34,
   "metadata": {},
   "outputs": [
    {
     "name": "stdout",
     "output_type": "stream",
     "text": [
      "0.9255208333333333\n"
     ]
    }
   ],
   "source": [
    "print(grid_2.best_score_)"
   ]
  },
  {
   "cell_type": "code",
   "execution_count": 36,
   "metadata": {},
   "outputs": [],
   "source": [
    "from sklearn.svm._base import BaseSVC\n",
    "from sklearn.svm import SVC\n",
    "from sklearn.metrics import accuracy_score\n",
    "\n",
    "class A1(BaseSVC):\n",
    "    def __init__(self, C=1.0, kernel='linear', gamma='scale'):\n",
    "        self = SVC(C=C , kernel=kernel, gamma=gamma)\n",
    "        \n",
    "        return self\n",
    "    \n",
    "#     def __init__(self, C=1.0, kernel='rbf', degree=3, gamma='scale',\n",
    "#         coef0=0.0, shrinking=True, probability=False,\n",
    "#         tol=1e-3, cache_size=200, class_weight=None,\n",
    "#         verbose=False, max_iter=-1, decision_function_shape='ovr',\n",
    "#         break_ties=False, random_state=None):\n",
    "\n",
    "#         super().__init__(\n",
    "#             kernel=kernel, degree=degree, gamma=gamma,\n",
    "#             coef0=coef0, tol=tol, C=C, nu=0., shrinking=shrinking,\n",
    "#             probability=probability, cache_size=cache_size,\n",
    "#             class_weight=class_weight, verbose=verbose, max_iter=max_iter,\n",
    "#             decision_function_shape=decision_function_shape,\n",
    "#             break_ties=break_ties,\n",
    "#             random_state=random_state)\n",
    "        \n",
    "    def train(self, X, y=None):\n",
    "        self.fit(X,y)\n",
    "        print(\"done\")\n",
    "        \n",
    "        return self\n",
    "    \n",
    "    def test(self, X, y=None):\n",
    "        pred = self.predict(X)\n",
    "        \n",
    "        print(\"goodjob\")\n",
    "        return accuracy_score(y,pred)\n",
    "        "
   ]
  },
  {
   "cell_type": "code",
   "execution_count": 37,
   "metadata": {},
   "outputs": [],
   "source": [
    "modelA1 = A1"
   ]
  },
  {
   "cell_type": "code",
   "execution_count": 38,
   "metadata": {},
   "outputs": [
    {
     "ename": "AttributeError",
     "evalue": "'numpy.ndarray' object has no attribute 'fit'",
     "output_type": "error",
     "traceback": [
      "\u001b[1;31m---------------------------------------------------------------------------\u001b[0m",
      "\u001b[1;31mAttributeError\u001b[0m                            Traceback (most recent call last)",
      "\u001b[1;32m<ipython-input-38-49a05ffc3bc6>\u001b[0m in \u001b[0;36m<module>\u001b[1;34m\u001b[0m\n\u001b[1;32m----> 1\u001b[1;33m \u001b[0mmodelA1\u001b[0m\u001b[1;33m.\u001b[0m\u001b[0mtrain\u001b[0m\u001b[1;33m(\u001b[0m\u001b[0mtrain_image\u001b[0m\u001b[1;33m,\u001b[0m \u001b[0mtrain_label\u001b[0m\u001b[1;33m)\u001b[0m\u001b[1;33m\u001b[0m\u001b[1;33m\u001b[0m\u001b[0m\n\u001b[0m",
      "\u001b[1;32m<ipython-input-36-d83b0c0dc3d6>\u001b[0m in \u001b[0;36mtrain\u001b[1;34m(self, X, y)\u001b[0m\n\u001b[0;32m     25\u001b[0m \u001b[1;33m\u001b[0m\u001b[0m\n\u001b[0;32m     26\u001b[0m     \u001b[1;32mdef\u001b[0m \u001b[0mtrain\u001b[0m\u001b[1;33m(\u001b[0m\u001b[0mself\u001b[0m\u001b[1;33m,\u001b[0m \u001b[0mX\u001b[0m\u001b[1;33m,\u001b[0m \u001b[0my\u001b[0m\u001b[1;33m=\u001b[0m\u001b[1;32mNone\u001b[0m\u001b[1;33m)\u001b[0m\u001b[1;33m:\u001b[0m\u001b[1;33m\u001b[0m\u001b[1;33m\u001b[0m\u001b[0m\n\u001b[1;32m---> 27\u001b[1;33m         \u001b[0mself\u001b[0m\u001b[1;33m.\u001b[0m\u001b[0mfit\u001b[0m\u001b[1;33m(\u001b[0m\u001b[0mX\u001b[0m\u001b[1;33m,\u001b[0m\u001b[0my\u001b[0m\u001b[1;33m)\u001b[0m\u001b[1;33m\u001b[0m\u001b[1;33m\u001b[0m\u001b[0m\n\u001b[0m\u001b[0;32m     28\u001b[0m         \u001b[0mprint\u001b[0m\u001b[1;33m(\u001b[0m\u001b[1;34m\"done\"\u001b[0m\u001b[1;33m)\u001b[0m\u001b[1;33m\u001b[0m\u001b[1;33m\u001b[0m\u001b[0m\n\u001b[0;32m     29\u001b[0m \u001b[1;33m\u001b[0m\u001b[0m\n",
      "\u001b[1;31mAttributeError\u001b[0m: 'numpy.ndarray' object has no attribute 'fit'"
     ]
    }
   ],
   "source": [
    "modelA1.train(train_image, train_label)"
   ]
  },
  {
   "cell_type": "code",
   "execution_count": 23,
   "metadata": {},
   "outputs": [],
   "source": [
    "## oldies"
   ]
  },
  {
   "cell_type": "code",
   "execution_count": 24,
   "metadata": {},
   "outputs": [],
   "source": [
    "# gender_labels = []\n",
    "# labels_file = open(labels_dir, 'r')\n",
    "# lines = labels_file.readlines()\n",
    "# gender_labels = {line.split('\\t')[0] : int(line.split('\\t')[2]) for line in lines[1:]} #for gender\n",
    "# # gender_labels = {line.split('\\t')[0] : int(line.split('\\t')[3]) for line in lines[1:]} #for smiling\n",
    "\n",
    "# print(gender_labels)"
   ]
  }
 ],
 "metadata": {
  "kernelspec": {
   "display_name": "Python 3",
   "language": "python",
   "name": "python3"
  },
  "language_info": {
   "codemirror_mode": {
    "name": "ipython",
    "version": 3
   },
   "file_extension": ".py",
   "mimetype": "text/x-python",
   "name": "python",
   "nbconvert_exporter": "python",
   "pygments_lexer": "ipython3",
   "version": "3.6.9"
  }
 },
 "nbformat": 4,
 "nbformat_minor": 2
}
