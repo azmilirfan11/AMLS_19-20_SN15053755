{
 "cells": [
  {
   "cell_type": "code",
   "execution_count": 1,
   "metadata": {},
   "outputs": [
    {
     "name": "stderr",
     "output_type": "stream",
     "text": [
      "Using TensorFlow backend.\n",
      "C:\\Users\\Bear-\\Anaconda3\\lib\\site-packages\\tensorflow\\python\\framework\\dtypes.py:526: FutureWarning: Passing (type, 1) or '1type' as a synonym of type is deprecated; in a future version of numpy, it will be understood as (type, (1,)) / '(1,)type'.\n",
      "  _np_qint8 = np.dtype([(\"qint8\", np.int8, 1)])\n",
      "C:\\Users\\Bear-\\Anaconda3\\lib\\site-packages\\tensorflow\\python\\framework\\dtypes.py:527: FutureWarning: Passing (type, 1) or '1type' as a synonym of type is deprecated; in a future version of numpy, it will be understood as (type, (1,)) / '(1,)type'.\n",
      "  _np_quint8 = np.dtype([(\"quint8\", np.uint8, 1)])\n",
      "C:\\Users\\Bear-\\Anaconda3\\lib\\site-packages\\tensorflow\\python\\framework\\dtypes.py:528: FutureWarning: Passing (type, 1) or '1type' as a synonym of type is deprecated; in a future version of numpy, it will be understood as (type, (1,)) / '(1,)type'.\n",
      "  _np_qint16 = np.dtype([(\"qint16\", np.int16, 1)])\n",
      "C:\\Users\\Bear-\\Anaconda3\\lib\\site-packages\\tensorflow\\python\\framework\\dtypes.py:529: FutureWarning: Passing (type, 1) or '1type' as a synonym of type is deprecated; in a future version of numpy, it will be understood as (type, (1,)) / '(1,)type'.\n",
      "  _np_quint16 = np.dtype([(\"quint16\", np.uint16, 1)])\n",
      "C:\\Users\\Bear-\\Anaconda3\\lib\\site-packages\\tensorflow\\python\\framework\\dtypes.py:530: FutureWarning: Passing (type, 1) or '1type' as a synonym of type is deprecated; in a future version of numpy, it will be understood as (type, (1,)) / '(1,)type'.\n",
      "  _np_qint32 = np.dtype([(\"qint32\", np.int32, 1)])\n",
      "C:\\Users\\Bear-\\Anaconda3\\lib\\site-packages\\tensorflow\\python\\framework\\dtypes.py:535: FutureWarning: Passing (type, 1) or '1type' as a synonym of type is deprecated; in a future version of numpy, it will be understood as (type, (1,)) / '(1,)type'.\n",
      "  np_resource = np.dtype([(\"resource\", np.ubyte, 1)])\n"
     ]
    }
   ],
   "source": [
    "import os\n",
    "import cv2\n",
    "import dlib\n",
    "import requests\n",
    "import numpy as np\n",
    "import pandas as pd\n",
    "from math import hypot\n",
    "import matplotlib.pyplot as plt\n",
    "from keras.preprocessing import image\n",
    "from sklearn.model_selection import train_test_split\n"
   ]
  },
  {
   "cell_type": "code",
   "execution_count": 2,
   "metadata": {},
   "outputs": [
    {
     "name": "stdout",
     "output_type": "stream",
     "text": [
      "C:\\Users\\Bear-\\Desktop\\AMLS_19-20_SN15053755\n"
     ]
    }
   ],
   "source": [
    "os.chdir(\"..\")\n",
    "print(os.path.abspath(os.curdir))\n",
    "\n",
    "labels_filename = 'labels.csv'\n",
    "\n",
    "basedir = os.path.abspath(os.curdir)\n",
    "dataset_dir = os.path.join(basedir,'dataset')\n",
    "cartoon_dir = os.path.join(dataset_dir,'cartoon_set')\n",
    "images_dir = os.path.join(cartoon_dir,'img')\n",
    "labels_dir = os.path.join(cartoon_dir,labels_filename)"
   ]
  },
  {
   "cell_type": "code",
   "execution_count": 3,
   "metadata": {},
   "outputs": [],
   "source": [
    "## Colour B-G-R code (0-255) -- High priority has better range\n",
    "# Green 67-147-114 // priority in G\n",
    "# lowGreen 47-107-94  # highGreen 87-187-134\n",
    "\n",
    "# Black 0-0-0 // all priority in low\n",
    "# lowBlack 0-0-0  ## highBlack 30-30-30\n",
    "\n",
    "# Brown 53-72-124 // priority in R\n",
    "# lowBrown 33-52-84  ## highBrown 73-92-164\n",
    "\n",
    "# Gray/Torq 160-164-148 // priority in high\n",
    "# lowGray 145-139-113  ## highGray 185-189-168\n",
    "\n",
    "# Blue 160-114-52 // priority in B\n",
    "# lowBlue 120-94-32  ## highBlue 200-134-72\n",
    "\n",
    "boundaries = [([47,107,94],[87,187,134]),\n",
    "              ([120,94,32],[200,134,72]),\n",
    "              ([33,52,84],[73,92,164]),\n",
    "              ([145,139,113],[185,189,168]),\n",
    "              ([0,0,0],[30,30,30])]"
   ]
  },
  {
   "cell_type": "code",
   "execution_count": 38,
   "metadata": {},
   "outputs": [],
   "source": [
    "def cropeye(images_dir, path):\n",
    "    img_path = os.path.join(images_dir, path)\n",
    "    img =  cv2.imread(img_path)\n",
    "    cropped = img[230:230+58, 175:175+58]\n",
    "    \n",
    "    return cropped\n",
    "\n",
    "def checkbound(b,g,r):\n",
    "    cflag =0\n",
    "    for lb in range(len(boundaries)):\n",
    "        if b>= boundaries[lb][0][0] and b<= boundaries[lb][1][0]:\n",
    "            cflag += 1\n",
    "        if g>= boundaries[lb][0][1] and g<= boundaries[lb][1][1]:\n",
    "            cflag += 1\n",
    "        if r>= boundaries[lb][0][2] and r<= boundaries[lb][1][2]:\n",
    "            cflag += 1\n",
    "\n",
    "        if cflag ==3: ## if all three colours are within range\n",
    "            return True\n",
    "        else:\n",
    "            cflag=0\n",
    "    return False\n",
    "\n",
    "def extract_feature_colour(images_dir, labels_dir):\n",
    "    \"\"\" return:\n",
    "        colour_features: an array contain argmax colour for BGR\n",
    "        eye_labels: an array containing eye colour 1-5\n",
    "    \"\"\"\n",
    "    image_paths = [os.path.join(images_dir, l) for l in os.listdir(images_dir)]\n",
    "    target_size = None\n",
    "    labels_file = open(labels_dir, 'r')\n",
    "    lines = labels_file.readlines()\n",
    "    eye_label = {line.split('\\t')[0] : int(line.split('\\t')[1]) for line in lines[1:]}\n",
    "    if os.path.isdir(images_dir):\n",
    "        all_features = []\n",
    "        all_labels = []\n",
    "        true_filename = []\n",
    "        error_features = []\n",
    "        for img_path in image_paths:\n",
    "            file_name = img_path.split('.')[0].split('\\\\')[-1]\n",
    "            crop = cropeye(images_dir, img_path.split('\\\\')[-1])\n",
    "            gray = cv2.cvtColor(crop, cv2.COLOR_BGR2GRAY)\n",
    "            gray = cv2.medianBlur(gray,5)\n",
    "            circles = cv2.HoughCircles(gray, cv2.HOUGH_GRADIENT, 1,\n",
    "                                       20,param1=50, param2=30,\n",
    "                                       minRadius=3, maxRadius=40)\n",
    "            \n",
    "            # Could not find eye circle\n",
    "            if circles is None:\n",
    "                error_features.append(file_name)\n",
    "                \n",
    "            # Eye circle found\n",
    "            else:\n",
    "                circles = np.uint16(np.around(circles))\n",
    "                x,y,r = circles[0,:][0]\n",
    "                mask = crop.copy() ## Copy crop\n",
    "                \n",
    "                rows, cols = gray.shape\n",
    "                for i in range(cols):\n",
    "                    for j in range(rows):\n",
    "                        if hypot(i-x, j-y) > r:\n",
    "                            mask[j,i] = 255 ## white background\n",
    "\n",
    "                rgb = []\n",
    "                colour = ('b', 'g', 'r')\n",
    "                for i, col in enumerate(colour):\n",
    "                    histr = cv2.calcHist([mask],[i], None, [256], [0,256])\n",
    "                    temp = np.delete(histr, 255)\n",
    "                    bgr.append(np.argmax(temp))\n",
    "\n",
    "                # check rgb within range and apply penalty if its not\n",
    "                b,g,r = bgr\n",
    "                if(checkbound(b,g,r) == False):\n",
    "                    bgr.append(0)\n",
    "                else:\n",
    "                    bgr.append(1)\n",
    "                \n",
    "                all_features.append(bgr)\n",
    "                all_labels.append(eye_label[file_name])\n",
    "                \n",
    "    colour_features = np.array(all_features)\n",
    "    eye_labels = np.array(all_labels)\n",
    "    \n",
    "    return colour_features, eye_labels, error_features, true_filename"
   ]
  },
  {
   "cell_type": "code",
   "execution_count": 39,
   "metadata": {},
   "outputs": [],
   "source": [
    "feat, lab, err, namefile = extract_feature_colour(images_dir, labels_dir)"
   ]
  },
  {
   "cell_type": "code",
   "execution_count": 41,
   "metadata": {},
   "outputs": [
    {
     "name": "stdout",
     "output_type": "stream",
     "text": [
      "7760\n",
      "7760\n",
      "2240\n",
      "7760\n"
     ]
    }
   ],
   "source": [
    "print(len(feat))\n",
    "print(len(lab))\n",
    "print(len(err))\n",
    "print(len(namefile))"
   ]
  },
  {
   "cell_type": "code",
   "execution_count": 43,
   "metadata": {},
   "outputs": [
    {
     "name": "stdout",
     "output_type": "stream",
     "text": [
      "['1004', '1007', '1012', '1015', '102', '1020', '1023', '1033', '1041', '1042', '1045', '1048', '1049', '1055', '1063', '1066', '1094', '11', '1104', '1108', '1109', '1110', '1115', '1119', '112', '1132', '1134', '1138', '1141', '1142', '1143', '1144', '1148', '115', '1154', '1158', '1159', '116', '1160', '1162', '1163', '1164', '1165', '1166', '1167', '1178', '1187', '1188', '1191', '1194', '1198', '1199', '1204', '1205', '1208', '1209', '1211', '1217', '1219', '1224', '1225', '1232', '1237', '1239', '124', '1241', '1243', '1244', '1246', '1262', '1266', '127', '1276', '1278', '1279', '1283', '1285', '1291', '1293', '1294', '1295', '13', '1300', '1301', '1303', '1305', '1306', '1307', '1311', '1315', '1318', '1319', '1320', '1321', '1322', '1326', '1331', '1337', '1348', '1349', '135', '1356', '136', '1361', '1366', '137', '1376', '1381', '1386', '1389', '1390', '1392', '1395', '1400', '1403', '1407', '1412', '1414', '1420', '1423', '1426', '1431', '1436', '144', '1446', '1451', '1458', '1460', '1469', '147', '1470', '1471', '1473', '1477', '1483', '1488', '1489', '1501', '1502', '1506', '151', '1512', '1518', '1521', '1525', '1528', '1532', '1536', '1537', '1543', '1548', '155', '1550', '1561', '1563', '1566', '157', '1570', '1579', '1582', '1583', '1591', '1596', '1601', '1602', '1608', '1617', '1622', '1625', '1634', '1637', '1638', '1645', '1647', '1655', '1657', '1658', '1659', '166', '1663', '1671', '1673', '1683', '1685', '1686', '169', '1696', '1702', '1705', '1729', '1731', '1732', '1750', '1753', '1754', '1758', '1766', '177', '1778', '1784', '1786', '1789', '1790', '1795', '1797', '1806', '1816', '1823', '1824', '1830', '1835', '1837', '184', '1842', '1850', '1854', '1862', '1865', '1866', '187', '1872', '1874', '1876', '1886', '1888', '1890', '1891', '1893', '1899', '1902', '1908', '191', '1913', '1918', '1923', '1929', '1932', '1938', '1939', '1947', '1950', '1955', '1957', '1958', '1961', '1968', '1969', '197', '1971', '1973', '198', '1985', '1986', '1994', '1996', '1999', '200', '2000', '2002', '2003', '2007', '2009', '2018', '2019', '2027', '2028', '2035', '2037', '2041', '2043', '2046', '2050', '2067', '207', '2073', '2074', '2076', '2077', '208', '2080', '2104', '2106', '2108', '211', '2116', '2117', '2118', '2120', '2124', '2128', '2131', '2135', '2138', '2142', '2144', '2153', '2157', '2158', '2159', '216', '2165', '2166', '217', '2177', '2184', '219', '2197', '220', '2210', '2215', '2217', '2218', '2219', '2220', '2226', '2230', '2233', '2237', '224', '2241', '2242', '2247', '2252', '2257', '2265', '2266', '227', '2274', '2277', '2278', '2284', '2290', '2291', '2293', '2297', '23', '2304', '2310', '2311', '2312', '2314', '2317', '2322', '2323', '2325', '2334', '234', '2348', '2352', '2353', '2354', '2358', '2360', '237', '2376', '2377', '2383', '2389', '2390', '2391', '2394', '2395', '2399', '2403', '2409', '2410', '2412', '2415', '2418', '242', '2428', '2438', '2445', '2449', '2451', '2453', '2465', '2466', '2468', '2470', '2471', '2473', '2475', '248', '2482', '2488', '2492', '2494', '2500', '2504', '2505', '2507', '2508', '2515', '2525', '2529', '2534', '2541', '2542', '2544', '2546', '2547', '2549', '255', '2552', '2553', '2556', '2561', '2562', '2564', '2570', '2571', '2577', '2581', '2586', '2599', '2602', '2603', '2607', '2616', '2618', '2624', '2629', '2634', '2635', '2641', '2645', '2648', '2653', '2656', '2657', '2661', '2665', '2668', '267', '2670', '2672', '268', '2689', '2696', '27', '2708', '2709', '2712', '2713', '2715', '272', '2725', '2735', '2737', '2740', '2752', '2754', '2762', '2778', '2783', '2791', '280', '2808', '2812', '2815', '2822', '2832', '2838', '2842', '2846', '2850', '2858', '2859', '2861', '2863', '2865', '2882', '2893', '2899', '29', '290', '2900', '2902', '2911', '2912', '2916', '2920', '2922', '2923', '293', '2930', '2931', '2932', '2933', '2939', '294', '2947', '2950', '2952', '2954', '2956', '2959', '2961', '2985', '2987', '2990', '2994', '2995', '30', '3000', '3010', '3011', '3024', '303', '3030', '3033', '3041', '3049', '305', '3051', '3056', '3064', '3065', '3066', '3069', '3074', '3075', '3093', '3096', '3102', '3104', '3107', '3116', '3118', '3125', '3128', '3129', '3136', '3139', '314', '3141', '3143', '3147', '3148', '3157', '3162', '3164', '3167', '3171', '3173', '3177', '3183', '3187', '3188', '3193', '3194', '3197', '3201', '3208', '3211', '3219', '322', '3224', '3225', '3231', '3232', '3234', '3236', '3238', '3239', '3250', '3251', '3253', '3255', '3256', '3261', '3262', '3268', '3275', '3279', '3284', '3289', '3291', '3304', '3309', '3313', '3319', '3320', '3323', '333', '3331', '3332', '3333', '3335', '3339', '334', '3342', '3343', '3344', '3345', '335', '3355', '3357', '3359', '3360', '3365', '3366', '3369', '337', '3370', '3371', '3373', '338', '3382', '3384', '3385', '3388', '3389', '339', '3393', '3395', '3406', '3414', '3416', '3420', '3423', '3426', '343', '3430', '3432', '3444', '345', '3450', '3454', '3463', '347', '3478', '348', '3484', '3486', '3493', '3499', '3504', '3506', '3507', '3515', '3516', '3525', '3526', '3530', '3531', '354', '3544', '3546', '3549', '3559', '3567', '3569', '3570', '3577', '3584', '3585', '3587', '3591', '3592', '3595', '3596', '3604', '361', '3611', '3614', '3617', '3628', '363', '3630', '3635', '3637', '3638', '364', '3642', '3644', '3652', '3666', '3672', '3676', '368', '3681', '3682', '3690', '3697', '37', '3703', '3705', '3709', '3714', '3715', '3716', '3717', '3718', '3724', '3729', '373', '374', '3750', '3753', '3755', '3758', '3760', '3764', '3766', '3774', '3775', '3780', '3781', '38', '3803', '3814', '3818', '3824', '3829', '3835', '3843', '3856', '3878', '3879', '388', '3884', '3885', '3886', '3889', '389', '3898', '3907', '391', '3911', '3916', '3922', '3926', '3929', '3934', '3936', '394', '3941', '3942', '3949', '395', '3953', '3959', '3962', '3970', '3983', '3984', '399', '3993', '3997', '4002', '4003', '4007', '4008', '4014', '4021', '4023', '4028', '403', '4032', '4040', '4043', '4048', '4054', '4061', '4065', '4068', '4069', '4087', '4094', '41', '4100', '4102', '4105', '4109', '4113', '4114', '4116', '4117', '4118', '4122', '4127', '413', '4139', '4140', '4146', '4153', '416', '4161', '4163', '4165', '4166', '4168', '4169', '418', '4182', '4185', '4194', '4206', '4210', '4211', '4212', '4221', '4225', '4227', '4229', '423', '4236', '4238', '424', '4241', '4245', '4254', '4255', '426', '4263', '4264', '4265', '4266', '4272', '4279', '4280', '4292', '4293', '4295', '4299', '43', '4300', '4305', '4324', '433', '4342', '4343', '4346', '4351', '4352', '4354', '4355', '4356', '4360', '4361', '4372', '4373', '438', '4380', '4386', '4387', '439', '4404', '4410', '4411', '4412', '4417', '4422', '4423', '4429', '443', '4435', '4436', '4437', '4442', '4451', '4455', '4461', '4462', '4472', '4476', '4477', '4483', '4488', '4491', '4492', '4494', '4500', '4502', '4504', '451', '4515', '4519', '4520', '4525', '4529', '4530', '4531', '4542', '4543', '455', '4552', '4558', '4569', '4573', '4577', '4578', '458', '4582', '4583', '4585', '4587', '4588', '4590', '4592', '4598', '4602', '4603', '461', '4614', '4618', '4620', '4621', '4624', '4635', '4637', '4644', '4646', '4648', '4653', '4656', '4658', '466', '4667', '4671', '4692', '4695', '47', '4703', '4705', '4707', '4708', '4714', '4715', '4724', '4726', '4727', '4730', '4733', '4735', '4742', '4762', '4766', '4767', '4769', '4778', '4790', '4791', '4792', '4793', '4796', '480', '4800', '4802', '4803', '4804', '4816', '4823', '4824', '4834', '4836', '4838', '4845', '4847', '4850', '4861', '4862', '4863', '4864', '4865', '4866', '4867', '4871', '4885', '4886', '4889', '4891', '4901', '4907', '4914', '4916', '4917', '4922', '4926', '4930', '4936', '4942', '4954', '4962', '4968', '4972', '498', '4987', '4990', '4991', '4996', '5', '50', '500', '5002', '5008', '5018', '5019', '5025', '5029', '5033', '5034', '5040', '5052', '5053', '5055', '506', '5063', '5064', '5067', '5068', '507', '5075', '5077', '5078', '509', '5094', '5097', '510', '5108', '5109', '511', '5114', '513', '5132', '5146', '5147', '5161', '5183', '5190', '5191', '5199', '5204', '5209', '521', '5219', '5221', '5223', '5238', '5253', '5259', '526', '5261', '5265', '5274', '5275', '5277', '5279', '5282', '5284', '5292', '5294', '5298', '5303', '5306', '5310', '5312', '5315', '5317', '5318', '5320', '5323', '5326', '5327', '5328', '5344', '5348', '5353', '5356', '5358', '5360', '5362', '5368', '5378', '5380', '5383', '5387', '5388', '5389', '5392', '5394', '5396', '5400', '5406', '5410', '5413', '5416', '5417', '5423', '5424', '5427', '5432', '5439', '5441', '5442', '5447', '5450', '5452', '5458', '5460', '5462', '5466', '5468', '5476', '5482', '5483', '5489', '5490', '5491', '5496', '5512', '5515', '5518', '552', '5523', '5529', '5531', '5538', '5539', '5542', '5546', '5549', '5552', '5555', '5557', '5564', '5573', '5575', '5585', '5586', '5590', '5591', '5593', '5600', '5601', '5607', '5608', '5611', '5612', '5617', '5619', '5621', '5625', '5633', '5636', '5651', '5652', '5653', '5665', '5667', '5675', '5679', '568', '5686', '5690', '5716', '572', '5727', '5729', '5734', '5736', '5737', '5740', '5748', '5749', '5753', '5754', '5755', '5758', '5765', '5766', '5767', '5772', '5777', '5778', '5779', '5784', '5787', '5795', '5796', '5798', '5804', '5809', '5810', '5813', '5820', '5823', '5824', '5828', '5831', '5833', '5841', '5844', '5847', '5848', '5849', '5855', '5857', '5858', '586', '5864', '5878', '5879', '5880', '5888', '5892', '5893', '5897', '5898', '5899', '59', '590', '5900', '5904', '5906', '5914', '5915', '5916', '5917', '5922', '5923', '5925', '593', '5933', '5946', '5947', '5953', '5968', '5972', '5977', '5978', '5980', '5981', '5982', '5992', '5999', '6001', '6005', '6006', '6008', '6013', '6014', '6015', '6021', '6023', '6024', '6042', '6044', '6050', '6052', '6053', '6054', '6056', '6059', '6061', '6064', '607', '6074', '6085', '6086', '6087', '6101', '6107', '611', '6110', '6114', '6118', '6122', '6130', '6136', '6143', '6146', '615', '6153', '6154', '6156', '6158', '6159', '6165', '6173', '6175', '6179', '6187', '6191', '6192', '6196', '6197', '62', '6204', '6209', '6212', '6215', '6216', '6219', '6225', '6226', '6229', '6230', '6236', '6237', '6239', '6242', '6250', '6251', '6252', '6257', '626', '6260', '6265', '6266', '6274', '6276', '6278', '6284', '6286', '6287', '629', '6292', '6299', '6300', '6301', '6307', '6311', '6312', '6315', '6323', '6324', '6327', '6329', '6338', '634', '6343', '6347', '6352', '6355', '6356', '636', '6360', '6383', '6384', '6389', '640', '6402', '6406', '6407', '6409', '6412', '6421', '6425', '6428', '643', '6431', '6433', '6435', '6437', '6439', '6448', '645', '6453', '646', '6464', '6476', '6477', '648', '6481', '6482', '6485', '6486', '6488', '6490', '6498', '6505', '6512', '6516', '6522', '6523', '6525', '6526', '6533', '654', '6540', '6544', '6558', '6568', '657', '6570', '6572', '6580', '6581', '6585', '6588', '6596', '660', '6603', '6604', '6609', '6611', '6615', '663', '6631', '6638', '6643', '6645', '6647', '665', '6653', '6656', '6663', '6667', '6670', '6675', '6682', '6683', '6685', '6689', '6692', '6694', '6697', '67', '6702', '6709', '6712', '6715', '6719', '6720', '6723', '6726', '6727', '6729', '6731', '6733', '6738', '6739', '674', '6747', '6748', '6759', '6763', '6769', '6775', '6777', '6782', '6784', '6785', '6788', '6789', '6792', '6793', '6799', '6808', '6814', '6815', '6817', '6823', '6839', '6840', '6841', '6845', '6848', '6851', '6857', '6860', '6864', '6872', '6880', '6881', '6882', '6883', '6886', '6894', '6899', '6902', '6903', '6907', '6909', '6910', '6921', '6922', '6924', '6929', '693', '6939', '6941', '6942', '6952', '6957', '6958', '6959', '696', '6960', '6978', '6983', '6991', '6997', '6999', '7005', '7007', '7010', '7015', '7017', '7021', '7022', '7027', '703', '7032', '7035', '704', '7044', '7049', '705', '706', '7064', '7065', '7068', '707', '7071', '7078', '7081', '7082', '7084', '7097', '7101', '7114', '7116', '7117', '7119', '7123', '7129', '7130', '7132', '7138', '7144', '7146', '7147', '7149', '7150', '7160', '7164', '7169', '7174', '7175', '718', '7180', '7183', '7185', '7193', '7195', '7196', '7198', '720', '7202', '7203', '7207', '7209', '7215', '7216', '7217', '7219', '7223', '723', '7237', '724', '7241', '7249', '7250', '7267', '7273', '7276', '7282', '7283', '7286', '7287', '7288', '729', '7295', '7301', '7309', '7310', '732', '7323', '7328', '7338', '734', '7340', '7341', '7342', '7355', '7356', '7357', '7359', '7360', '7363', '7367', '737', '7375', '7377', '7380', '7382', '7385', '7388', '7391', '7395', '7396', '7399', '7418', '7421', '7426', '7428', '7436', '7438', '7442', '7446', '7455', '7460', '7463', '7466', '7468', '7472', '7475', '7478', '7482', '7483', '7487', '749', '7501', '751', '7510', '7511', '7512', '7516', '7519', '7520', '7522', '7529', '7531', '7537', '7538', '7540', '755', '7551', '7554', '756', '7560', '7561', '7562', '7566', '757', '7572', '7576', '7584', '7589', '759', '7596', '7597', '7598', '7599', '7613', '7615', '762', '7625', '7628', '7630', '7633', '7635', '7640', '7642', '7643', '765', '7651', '7652', '7653', '7656', '7668', '767', '7676', '7693', '7694', '7697', '7699', '7703', '7704', '7706', '7709', '7710', '7714', '7718', '7724', '7725', '7726', '7733', '7735', '7736', '7737', '7738', '7741', '7753', '7756', '7765', '7770', '7785', '7789', '7790', '7792', '7796', '7798', '780', '7800', '7801', '7806', '7810', '7811', '7812', '7816', '7818', '7819', '7825', '7826', '783', '7840', '7843', '7844', '7845', '7846', '7852', '7854', '7855', '7858', '7861', '7867', '787', '7873', '7876', '7878', '7879', '788', '7881', '7889', '7890', '7892', '7893', '7906', '7907', '7908', '791', '7914', '7915', '7929', '7932', '7938', '7941', '7946', '7947', '7949', '7950', '7960', '7965', '7967', '7968', '7969', '7972', '7976', '7979', '7988', '7992', '7995', '8002', '8010', '8011', '8013', '8016', '8027', '8032', '8033', '8035', '8039', '8041', '8046', '8053', '8054', '8067', '807', '8070', '8071', '8077', '808', '8090', '8100', '8101', '8104', '8106', '8119', '812', '8125', '8128', '8129', '8133', '8134', '8139', '8142', '815', '8150', '8154', '8166', '8168', '8170', '8173', '8174', '8180', '8187', '8188', '8196', '8198', '8199', '82', '8201', '8206', '8212', '8213', '8228', '8233', '8235', '8236', '8238', '8239', '8242', '8243', '8259', '8263', '8264', '8275', '8282', '8283', '8289', '8299', '831', '8312', '8315', '8317', '8320', '8324', '8332', '8333', '8334', '8341', '8342', '8343', '8352', '8365', '8366', '8367', '8368', '837', '8370', '8375', '8381', '8383', '8385', '8386', '8395', '8399', '8408', '8410', '8414', '8418', '8423', '8424', '8425', '8428', '8433', '8435', '8436', '844', '8442', '845', '8452', '8456', '8466', '8467', '8470', '8471', '8476', '848', '8485', '8501', '8505', '8513', '8520', '8522', '8524', '8525', '8527', '8531', '8534', '8536', '8537', '8539', '8562', '8564', '8566', '8568', '8585', '8589', '8590', '8592', '8599', '860', '8601', '8609', '861', '8623', '8635', '8638', '8645', '8647', '8654', '8655', '8657', '8658', '8666', '8667', '8668', '8671', '8672', '8673', '8681', '8682', '8688', '8692', '8693', '8704', '8708', '8714', '872', '8723', '8738', '8740', '8741', '8745', '8749', '875', '8750', '8751', '8757', '8759', '876', '8760', '8761', '8762', '8765', '8768', '8771', '8772', '8777', '8778', '878', '8784', '8788', '879', '8793', '8794', '8795', '8800', '8806', '8807', '8808', '8809', '8810', '8812', '8815', '8817', '8825', '8829', '8837', '8839', '8845', '8860', '8868', '8871', '8876', '8878', '8888', '889', '890', '8915', '8918', '892', '8928', '893', '8937', '894', '8940', '8947', '8951', '8956', '8965', '8973', '8980', '8981', '8983', '8985', '8988', '8990', '8994', '9000', '9002', '9005', '9009', '9012', '902', '9025', '9027', '9029', '9037', '9039', '9042', '9044', '9045', '9046', '9051', '9056', '9063', '907', '9070', '9072', '9088', '909', '9097', '9098', '9103', '9104', '9105', '9114', '9119', '912', '9121', '9124', '9126', '9128', '913', '9132', '9140', '9143', '9145', '9148', '9153', '9156', '9158', '9169', '9177', '918', '9184', '9196', '9200', '9201', '9202', '9204', '9217', '9221', '9223', '9226', '9232', '9235', '9238', '924', '9242', '9246', '9256', '9261', '9263', '9264', '9268', '927', '9275', '9291', '9295', '9296', '9300', '9305', '9306', '9307', '931', '9313', '9317', '9335', '9351', '9360', '9364', '9368', '9378', '9385', '9389', '9390', '9392', '9393', '9394', '9404', '9412', '9416', '9424', '9429', '9430', '9434', '9435', '9441', '9446', '9449', '945', '9458', '947', '9472', '9475', '9482', '9489', '9496', '9498', '95', '9502', '9506', '9512', '9521', '9522', '9529', '9530', '9532', '9535', '9537', '954', '9545', '9549', '9556', '9562', '9563', '9568', '9569', '9571', '9578', '958', '9585', '9589', '9593', '9594', '9597', '9598', '9600', '9603', '9610', '9613', '9617', '9620', '9621', '9624', '9628', '963', '9632', '9646', '9655', '966', '9665', '9666', '9668', '9669', '9674', '9678', '9684', '9687', '9689', '9697', '9698', '9699', '9704', '9712', '9717', '9721', '9723', '9725', '9729', '9739', '9759', '9761', '9767', '9778', '9784', '979', '9791', '9793', '9794', '9797', '9804', '9805', '9817', '9818', '982', '9824', '983', '9831', '9835', '984', '9842', '9858', '9865', '9866', '9867', '9869', '987', '9890', '9894', '9896', '99', '990', '9904', '9905', '9907', '9908', '9910', '9914', '9917', '9918', '9919', '9926', '9927', '9928', '993', '9937', '994', '9944', '9949', '9956', '9966', '9969', '9972', '9980', '9983', '9986', '9988', '9989', '9991', '9992', '9998']\n"
     ]
    }
   ],
   "source": [
    "print(err)"
   ]
  },
  {
   "cell_type": "code",
   "execution_count": null,
   "metadata": {},
   "outputs": [],
   "source": []
  },
  {
   "cell_type": "code",
   "execution_count": null,
   "metadata": {},
   "outputs": [],
   "source": []
  },
  {
   "cell_type": "code",
   "execution_count": null,
   "metadata": {},
   "outputs": [],
   "source": [
    "def detection(images_dir, image):\n",
    "    img_path = os.path.join(images_dir, image)\n",
    "    img = cv2.imread(img_path)\n",
    "    img_gray = cv2.cvtColor(img, cv2.COLOR_BGR2GRAY)\n",
    "    eyes = eye_cascade.detectMultiScale(img_gray, 1.7, 3)\n",
    "    for (ex,ey,ew,eh) in eyes:\n",
    "        cv2.rectangle(img, (ex,ex), (ex+ew,ey+eh), (0,255,0), 2)\n",
    "        print(ex+)\n",
    "    \n",
    "    \n",
    "    \n",
    "    img_path = os.path.join(images_dir, image)\n",
    "    img = cv2.imread(img_path, cv2.IMREAD_UNCHANGED)\n",
    "    trans_mask = img[:,:,3] == 0\n",
    "    img[trans_mask] = [255,0,255,255] ## Purple BGRA\n",
    "    purple_img = cv2.cvtColor(img, cv2.COLOR_BGRA2BGR)\n",
    "    img_gray = cv2.cvtColor(purple_img, cv2.COLOR_BGR2GRAY)\n",
    "    \n",
    "    faces = face_cascade.detectMultiScale(img_gray, 1.7, 3)\n",
    "    for (x,y,w,h) in faces:\n",
    "        purple_img = cv2.rectangle(img,(x,y),(x+w,y+h), (255,0,0), 2)\n",
    "        roi_gray = img_gray[y:y+h, x:x+w]\n",
    "        roi_color = purple_img[y:y+h, x:x+w]\n",
    "        print(x,y,w,h)\n",
    "        \n",
    "    eyes = eye_cascade.detectMultiScale(roi_gray, 1.7, 3)\n",
    "    for (ex,ey,ew,eh) in eyes:\n",
    "        cv2.rectangle(roi_color,(ex,ey),(ex+ew,ey+eh), (0,255,0), 2)\n",
    "        print(ex+x,ey+y,ew,eh)\n",
    "            \n",
    "    return purple_img\n",
    "\n",
    "example_image = '4.png'\n",
    "extract_image = detection(images_dir, example_image)\n",
    "\n",
    "image_plot = plt.imshow(extract_image)"
   ]
  },
  {
   "cell_type": "code",
   "execution_count": 95,
   "metadata": {},
   "outputs": [],
   "source": [
    "## Colour B-G-R code (0-255) -- High priority has better range\n",
    "# Green 67-147-114 // priority in G\n",
    "# lowGreen 47-107-94  # highGreen 87-187-134\n",
    "\n",
    "# Black 0-0-0 // all priority in low\n",
    "# lowBlack 0-0-0  ## highBlack 30-30-30\n",
    "\n",
    "# Brown 53-72-124 // priority in R\n",
    "# lowBrown 33-52-84  ## highBrown 73-92-164\n",
    "\n",
    "# Gray/Torq 160-164-148 // priority in high\n",
    "# lowGray 145-139-113  ## highGray 185-189-168\n",
    "\n",
    "# Blue 160-114-52 // priority in B\n",
    "# lowBlue 120-94-32  ## highBlue 200-134-72\n",
    "\n",
    "boundaries = [([47,107,94],[87,187,134]),\n",
    "              ([120,94,32],[200,134,72]),\n",
    "              ([33,52,84],[73,92,164]),\n",
    "              ([145,139,113],[185,189,168]),\n",
    "              ([0,0,0],[30,30,30])]"
   ]
  },
  {
   "cell_type": "code",
   "execution_count": 117,
   "metadata": {},
   "outputs": [
    {
     "name": "stdout",
     "output_type": "stream",
     "text": [
      "True\n"
     ]
    }
   ],
   "source": [
    "## boundaries[color][0 for lower, 1 for upper][b = 0, g = 1, r =2]\n",
    "bgr = [114, 147, 67]\n",
    "r,g,b = bgr\n",
    "\n",
    "def checkbound(b,g,r):\n",
    "    cflag =0\n",
    "    for lb in range(len(boundaries)):\n",
    "        if b>= boundaries[lb][0][0] and b<= boundaries[lb][1][0]:\n",
    "            cflag += 1\n",
    "        if g>= boundaries[lb][0][1] and g<= boundaries[lb][1][1]:\n",
    "            cflag += 1\n",
    "        if r>= boundaries[lb][0][2] and r<= boundaries[lb][1][2]:\n",
    "            cflag += 1\n",
    "\n",
    "        if cflag ==3: ## if all three colours are within range\n",
    "            return True\n",
    "        else:\n",
    "            cflag=0\n",
    "\n",
    "    return False\n",
    "\n",
    "print(checkbound(b,g,r))"
   ]
  },
  {
   "cell_type": "code",
   "execution_count": 112,
   "metadata": {},
   "outputs": [
    {
     "name": "stdout",
     "output_type": "stream",
     "text": [
      "187\n"
     ]
    }
   ],
   "source": [
    "print(boundaries[0][1][1])\n"
   ]
  },
  {
   "cell_type": "code",
   "execution_count": 131,
   "metadata": {},
   "outputs": [
    {
     "name": "stdout",
     "output_type": "stream",
     "text": [
      "2207\n"
     ]
    }
   ],
   "source": [
    "def cropeye(images_dir, file):\n",
    "    img_path = os.path.join(images_dir, file)\n",
    "    img =  cv2.imread(img_path)\n",
    "    cropped = img[230:230+58, 175:175+58]\n",
    "    \n",
    "    return cropped\n",
    "\n",
    "def extract_feature_colour(images_dir):\n",
    "    \"\"\" return:\n",
    "        colour_features: an array contain argmax colour for BGR\n",
    "        eye_labels: an array containing eye colour 1-5\n",
    "    \"\"\"\n",
    "    image_paths = [os.path.join(images_dir, l) for l in os.listdir(images_dir)]\n",
    "    target_size = None\n",
    "    if os.path.isdir(images_dir):\n",
    "        error_features = []\n",
    "        for img_path in image_paths:\n",
    "            file_name = img_path.split('.')[0].split('\\\\')[-1]\n",
    "            crop = cropeye(images_dir, img_path.split('\\\\')[-1])\n",
    "            gray = cv2.cvtColor(crop, cv2.COLOR_BGR2GRAY)\n",
    "            gray = cv2.medianBlur(gray,5)\n",
    "            circles = cv2.HoughCircles(gray, cv2.HOUGH_GRADIENT, 1,\n",
    "                                       20,param1=50, param2=30,\n",
    "                                       minRadius=3, maxRadius=100)\n",
    "            \n",
    "            if circles is not None:\n",
    "                circles = np.uint16(np.around(circles))\n",
    "            else:\n",
    "                error_features.append(file_name)\n",
    "\n",
    "    return error_features\n",
    "\n",
    "error = extract_feature_colour(images_dir)\n",
    "print(len(error))"
   ]
  },
  {
   "cell_type": "code",
   "execution_count": 130,
   "metadata": {},
   "outputs": [
    {
     "name": "stdout",
     "output_type": "stream",
     "text": [
      "[[238, 175, 148], [52, 114, 160], [52, 114, 160], [238, 175, 148], [52, 114, 160]]\n"
     ]
    },
    {
     "data": {
      "image/png": "[encoded data removed]",
      "text/plain": [
       "<Figure size 432x288 with 1 Axes>"
      ]
     },
     "metadata": {
      "needs_background": "light"
     },
     "output_type": "display_data"
    }
   ],
   "source": [
    "example_images = ['56.png', '65.png', '219.png', '228.png', '238.png']\n",
    "# example_images = ['.png']\n",
    "all_features = []\n",
    "\n",
    "def cropeye(images_dir, image):\n",
    "    img_path = os.path.join(images_dir, image)\n",
    "    img =  cv2.imread(img_path)\n",
    "    cropped = img[230:230+58, 175:175+58]\n",
    "    \n",
    "    return cropped\n",
    "\n",
    "error_features = []\n",
    "for img_path in example_images:\n",
    "    \n",
    "#     img = cv2.imread(os.path.join(images_dir, img_path))\n",
    "#     image_plot=plt.imshow(img)\n",
    "    crop = cropeye(images_dir, img_path)\n",
    "    gray = cv2.cvtColor(crop, cv2.COLOR_BGR2GRAY)\n",
    "    gray = cv2.medianBlur(gray,5)\n",
    "    circles = cv2.HoughCircles(gray, cv2.HOUGH_GRADIENT, 1,\n",
    "                               20,param1=50, param2=30,\n",
    "                               minRadius=3, maxRadius=30)\n",
    "    \n",
    "    if circles is not None:\n",
    "        circles = np.uint16(np.around(circles))\n",
    "\n",
    "        for i in circles[0,:]:\n",
    "        # draw the outer circle\n",
    "            cv2.circle(gray,(i[0],i[1]),i[2],(0,255,0),2)\n",
    "\n",
    "        x,y,r = circles[0,:][0]\n",
    "        rows, cols = gray.shape\n",
    "        for i in range(cols):\n",
    "            for j in range(rows):\n",
    "                if hypot(i-x, j-y) > r:\n",
    "                    gray[j,i] = 0\n",
    "\n",
    "        invreal = cv2.bitwise_not(cv2.cvtColor(crop, cv2.COLOR_BGR2RGB))\n",
    "        final = cv2.bitwise_and(invreal, invreal, mask = gray)\n",
    "        final = cv2.bitwise_not(final)\n",
    "        bgr = []\n",
    "        colour = ('b', 'g', 'r')\n",
    "        for i, col in enumerate(colour):\n",
    "            histr = cv2.calcHist([final],[i], None, [256], [0,256])\n",
    "            temp = np.delete(histr, 255)\n",
    "            bgr.append(np.argmax(temp))\n",
    "            plt.plot(histr,color = col)\n",
    "            plt.xlim([-5,256])\n",
    "            \n",
    "    else:\n",
    "        error_features.append\n",
    "\n",
    "    all_features.append(bgr)\n",
    "\n",
    "print(all_features)"
   ]
  },
  {
   "cell_type": "code",
   "execution_count": 77,
   "metadata": {},
   "outputs": [
    {
     "name": "stdout",
     "output_type": "stream",
     "text": [
      "[[114, 147, 67], [246, 216, 193], [114, 147, 67], [96, 61, 48], [114, 147, 67]]\n"
     ]
    }
   ],
   "source": [
    "print(all_features)"
   ]
  },
  {
   "cell_type": "code",
   "execution_count": null,
   "metadata": {},
   "outputs": [],
   "source": []
  },
  {
   "cell_type": "code",
   "execution_count": null,
   "metadata": {},
   "outputs": [],
   "source": []
  },
  {
   "cell_type": "code",
   "execution_count": 3,
   "metadata": {},
   "outputs": [],
   "source": [
    "def cropeye(images_dir, image):\n",
    "    img_path = os.path.join(images_dir, image)\n",
    "    img =  cv2.imread(img_path)\n",
    "    cropped = img[230:230+58, 175:175+58]\n",
    "    \n",
    "    return cropped"
   ]
  },
  {
   "cell_type": "code",
   "execution_count": 5,
   "metadata": {},
   "outputs": [
    {
     "name": "stdout",
     "output_type": "stream",
     "text": [
      "Successful cropped eye\n"
     ]
    },
    {
     "data": {
      "image/png": "[encoded data removed]",
      "text/plain": [
       "<Figure size 432x288 with 1 Axes>"
      ]
     },
     "metadata": {
      "needs_background": "light"
     },
     "output_type": "display_data"
    }
   ],
   "source": [
    "import random\n",
    "image_name = str(random.randrange(1,9999)) + '.png'\n",
    "image_name = str(image_name)\n",
    "temp = cropeye(images_dir, image_name)\n",
    "realtemp = cv2.cvtColor(temp, cv2.COLOR_BGR2RGB)\n",
    "image_plot = plt.imshow(realtemp)\n",
    "print(\"Successful cropped eye\")"
   ]
  },
  {
   "cell_type": "code",
   "execution_count": 19,
   "metadata": {},
   "outputs": [
    {
     "data": {
      "image/png": "[encoded data removed]",
      "text/plain": [
       "<Figure size 432x288 with 1 Axes>"
      ]
     },
     "metadata": {},
     "output_type": "display_data"
    }
   ],
   "source": [
    "tempgray = cv2.cvtColor(temp, cv2.COLOR_BGR2GRAY)\n",
    "\n",
    "proimage = tempgray.copy()\n",
    "proimage = cv2.medianBlur(proimage,5)\n",
    "\n",
    "circles = cv2.HoughCircles(proimage,cv2.HOUGH_GRADIENT,1,20,\n",
    "                            param1=50,param2=30,minRadius=3,maxRadius=18)\n",
    "\n",
    "circles = np.uint16(np.around(circles))\n",
    "\n",
    "x, y, r = circles[0,:][0]\n",
    "rows, cols = proimage.shape\n",
    "\n",
    "for i in range(cols):\n",
    "    for j in range(rows):\n",
    "        if hypot(i-x, j-y) > r:\n",
    "            proimage[j,i] = 0\n",
    "\n",
    "plt.imshow(proimage, interpolation = 'bicubic')\n",
    "plt.xticks([]), plt.yticks([])\n",
    "plt.show()"
   ]
  },
  {
   "cell_type": "code",
   "execution_count": 54,
   "metadata": {},
   "outputs": [
    {
     "data": {
      "text/plain": [
       "<matplotlib.image.AxesImage at 0x22fbc157e48>"
      ]
     },
     "execution_count": 54,
     "metadata": {},
     "output_type": "execute_result"
    },
    {
     "data": {
      "image/png": "[encoded data removed]",
      "text/plain": [
       "<Figure size 432x288 with 1 Axes>"
      ]
     },
     "metadata": {
      "needs_background": "light"
     },
     "output_type": "display_data"
    }
   ],
   "source": [
    "# final  = cv2.bitwise_and(realtemp, realtemp, mask=proimage)\n",
    "# final2 = cv2.bitwise_not(final)\n",
    "# plt.imshow(final2)\n",
    "\n",
    "invtemp = cv2.bitwise_not(realtemp)\n",
    "final = cv2.bitwise_and(invtemp, invtemp, mask=proimage)\n",
    "final2 = cv2.bitwise_not(final)\n",
    "plt.imshow(final2)"
   ]
  },
  {
   "cell_type": "code",
   "execution_count": 55,
   "metadata": {},
   "outputs": [
    {
     "data": {
      "text/plain": [
       "114"
      ]
     },
     "metadata": {},
     "output_type": "display_data"
    },
    {
     "data": {
      "text/plain": [
       "147"
      ]
     },
     "metadata": {},
     "output_type": "display_data"
    },
    {
     "data": {
      "text/plain": [
       "67"
      ]
     },
     "metadata": {},
     "output_type": "display_data"
    },
    {
     "data": {
      "image/png": "[encoded data removed]",
      "text/plain": [
       "<Figure size 432x288 with 1 Axes>"
      ]
     },
     "metadata": {
      "needs_background": "light"
     },
     "output_type": "display_data"
    }
   ],
   "source": [
    "color = ('b','g','r')\n",
    "for i,col in enumerate(color):\n",
    "    histr = cv2.calcHist([final2],[i],None,[256],[0,256])\n",
    "    ayy = np.delete(histr, 255)\n",
    "    display(np.argmax(ayy))\n",
    "#     print(len(histr))\n",
    "    plt.plot(histr,color = col)\n",
    "    plt.xlim([-5,256])\n",
    "plt.show()"
   ]
  },
  {
   "cell_type": "code",
   "execution_count": 62,
   "metadata": {},
   "outputs": [
    {
     "name": "stdout",
     "output_type": "stream",
     "text": [
      "[[114, 147, 67], [255, 255, 255]]\n"
     ]
    }
   ],
   "source": [
    "bgr = [255, 255, 255]\n",
    "all_feat.append(bgr)\n",
    "print(all_feat)"
   ]
  },
  {
   "cell_type": "code",
   "execution_count": 32,
   "metadata": {},
   "outputs": [
    {
     "ename": "error",
     "evalue": "OpenCV(4.1.2) d:\\bld\\libopencv_1574456196901\\work\\modules\\imgproc\\src\\color.simd_helpers.hpp:92: error: (-2:Unspecified error) in function '__cdecl cv::impl::`anonymous-namespace'::CvtHelper<struct cv::impl::`anonymous namespace'::Set<3,4,-1>,struct cv::impl::A0x6104400d::Set<1,-1,-1>,struct cv::impl::A0x6104400d::Set<0,2,5>,2>::CvtHelper(const class cv::_InputArray &,const class cv::_OutputArray &,int)'\n> Invalid number of channels in input image:\n>     'VScn::contains(scn)'\n> where\n>     'scn' is 1\n",
     "output_type": "error",
     "traceback": [
      "\u001b[1;31m---------------------------------------------------------------------------\u001b[0m",
      "\u001b[1;31merror\u001b[0m                                     Traceback (most recent call last)",
      "\u001b[1;32m<ipython-input-32-d0eff209263f>\u001b[0m in \u001b[0;36m<module>\u001b[1;34m\u001b[0m\n\u001b[0;32m      1\u001b[0m \u001b[0mplt\u001b[0m\u001b[1;33m.\u001b[0m\u001b[0mimshow\u001b[0m\u001b[1;33m(\u001b[0m\u001b[0mproimage\u001b[0m\u001b[1;33m)\u001b[0m\u001b[1;33m\u001b[0m\u001b[1;33m\u001b[0m\u001b[0m\n\u001b[1;32m----> 2\u001b[1;33m \u001b[0mgrayproimage\u001b[0m \u001b[1;33m=\u001b[0m \u001b[0mcv2\u001b[0m\u001b[1;33m.\u001b[0m\u001b[0mcvtColor\u001b[0m\u001b[1;33m(\u001b[0m\u001b[0mproimage\u001b[0m\u001b[1;33m,\u001b[0m \u001b[0mcv2\u001b[0m\u001b[1;33m.\u001b[0m\u001b[0mCOLOR_BGR2GRAY\u001b[0m\u001b[1;33m)\u001b[0m\u001b[1;33m\u001b[0m\u001b[1;33m\u001b[0m\u001b[0m\n\u001b[0m\u001b[0;32m      3\u001b[0m \u001b[0m_\u001b[0m\u001b[1;33m,\u001b[0m\u001b[0mmask3\u001b[0m \u001b[1;33m=\u001b[0m \u001b[0mcv2\u001b[0m\u001b[1;33m.\u001b[0m\u001b[0mthreshold\u001b[0m\u001b[1;33m(\u001b[0m\u001b[0mgrayproimage\u001b[0m\u001b[1;33m,\u001b[0m \u001b[1;36m0\u001b[0m\u001b[1;33m,\u001b[0m\u001b[1;36m255\u001b[0m\u001b[1;33m,\u001b[0m\u001b[0mcv2\u001b[0m\u001b[1;33m.\u001b[0m\u001b[0mTHRESH_BINARY_INV\u001b[0m\u001b[1;33m)\u001b[0m\u001b[1;33m\u001b[0m\u001b[1;33m\u001b[0m\u001b[0m\n\u001b[0;32m      4\u001b[0m \u001b[1;31m# mask = cv2.bitwise_not(proimage)\u001b[0m\u001b[1;33m\u001b[0m\u001b[1;33m\u001b[0m\u001b[1;33m\u001b[0m\u001b[0m\n\u001b[0;32m      5\u001b[0m \u001b[1;31m# plt.imshow(mask)\u001b[0m\u001b[1;33m\u001b[0m\u001b[1;33m\u001b[0m\u001b[1;33m\u001b[0m\u001b[0m\n",
      "\u001b[1;31merror\u001b[0m: OpenCV(4.1.2) d:\\bld\\libopencv_1574456196901\\work\\modules\\imgproc\\src\\color.simd_helpers.hpp:92: error: (-2:Unspecified error) in function '__cdecl cv::impl::`anonymous-namespace'::CvtHelper<struct cv::impl::`anonymous namespace'::Set<3,4,-1>,struct cv::impl::A0x6104400d::Set<1,-1,-1>,struct cv::impl::A0x6104400d::Set<0,2,5>,2>::CvtHelper(const class cv::_InputArray &,const class cv::_OutputArray &,int)'\n> Invalid number of channels in input image:\n>     'VScn::contains(scn)'\n> where\n>     'scn' is 1\n"
     ]
    },
    {
     "data": {
      "image/png": "[encoded data removed]",
      "text/plain": [
       "<Figure size 432x288 with 1 Axes>"
      ]
     },
     "metadata": {
      "needs_background": "light"
     },
     "output_type": "display_data"
    }
   ],
   "source": [
    "plt.imshow(proimage)\n",
    "grayproimage = cv2.cvtColor(proimage, cv2.COLOR_BGR2GRAY)\n",
    "_,mask3 = cv2.threshold(grayproimage, 0,255,cv2.THRESH_BINARY_INV)\n",
    "# mask = cv2.bitwise_not(proimage)\n",
    "# plt.imshow(mask)\n",
    "masked = cv2.bitwise_and(bk,bk, mask=mask)\n",
    "plt.imshow(mask3)"
   ]
  },
  {
   "cell_type": "code",
   "execution_count": 50,
   "metadata": {},
   "outputs": [
    {
     "data": {
      "text/plain": [
       "<matplotlib.colorbar.Colorbar at 0x22fbbfd1860>"
      ]
     },
     "execution_count": 50,
     "metadata": {},
     "output_type": "execute_result"
    },
    {
     "data": {
      "image/png": "[encoded data removed]",
      "text/plain": [
       "<Figure size 432x288 with 2 Axes>"
      ]
     },
     "metadata": {
      "needs_background": "light"
     },
     "output_type": "display_data"
    }
   ],
   "source": [
    "bk = np.full(temp.shape, 255, dtype=np.uint8)  # white bk\n",
    "# mask = cv2.bitwise_not(proimage)\n",
    "_,masktry = cv2.threshold(mask, 230, 255, cv2.THRESH_BINARY)\n",
    "bk_masked = cv2.bitwise_and(bk, bk, mask=masktry)\n",
    "# bk_masked = cv2.bitwise_or(bk_masked)\n",
    "\n",
    "finalwhite = cv2.bitwise_and(final, bk_masked)\n",
    "\n",
    "plt.imshow(finalwhite)\n",
    "plt.colorbar()"
   ]
  },
  {
   "cell_type": "code",
   "execution_count": null,
   "metadata": {},
   "outputs": [],
   "source": []
  }
 ],
 "metadata": {
  "kernelspec": {
   "display_name": "Python 3",
   "language": "python",
   "name": "python3"
  },
  "language_info": {
   "codemirror_mode": {
    "name": "ipython",
    "version": 3
   },
   "file_extension": ".py",
   "mimetype": "text/x-python",
   "name": "python",
   "nbconvert_exporter": "python",
   "pygments_lexer": "ipython3",
   "version": "3.6.9"
  }
 },
 "nbformat": 4,
 "nbformat_minor": 2
}
