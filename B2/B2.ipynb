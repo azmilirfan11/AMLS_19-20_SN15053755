{
 "cells": [
  {
   "cell_type": "markdown",
   "metadata": {},
   "source": [
    "# Task B2 - Eye Colour Detector\n",
    "\n",
    "by Mohamed Azmil Irfan Mohamed Amiruddin\n",
    "\n",
    "(AMLS 19/20 ASSIGNMENT)"
   ]
  },
  {
   "cell_type": "markdown",
   "metadata": {},
   "source": [
    "## Import Library"
   ]
  },
  {
   "cell_type": "code",
   "execution_count": 1,
   "metadata": {},
   "outputs": [
    {
     "name": "stderr",
     "output_type": "stream",
     "text": [
      "Using TensorFlow backend.\n",
      "C:\\Users\\Bear-\\Anaconda3\\lib\\site-packages\\tensorflow\\python\\framework\\dtypes.py:526: FutureWarning: Passing (type, 1) or '1type' as a synonym of type is deprecated; in a future version of numpy, it will be understood as (type, (1,)) / '(1,)type'.\n",
      "  _np_qint8 = np.dtype([(\"qint8\", np.int8, 1)])\n",
      "C:\\Users\\Bear-\\Anaconda3\\lib\\site-packages\\tensorflow\\python\\framework\\dtypes.py:527: FutureWarning: Passing (type, 1) or '1type' as a synonym of type is deprecated; in a future version of numpy, it will be understood as (type, (1,)) / '(1,)type'.\n",
      "  _np_quint8 = np.dtype([(\"quint8\", np.uint8, 1)])\n",
      "C:\\Users\\Bear-\\Anaconda3\\lib\\site-packages\\tensorflow\\python\\framework\\dtypes.py:528: FutureWarning: Passing (type, 1) or '1type' as a synonym of type is deprecated; in a future version of numpy, it will be understood as (type, (1,)) / '(1,)type'.\n",
      "  _np_qint16 = np.dtype([(\"qint16\", np.int16, 1)])\n",
      "C:\\Users\\Bear-\\Anaconda3\\lib\\site-packages\\tensorflow\\python\\framework\\dtypes.py:529: FutureWarning: Passing (type, 1) or '1type' as a synonym of type is deprecated; in a future version of numpy, it will be understood as (type, (1,)) / '(1,)type'.\n",
      "  _np_quint16 = np.dtype([(\"quint16\", np.uint16, 1)])\n",
      "C:\\Users\\Bear-\\Anaconda3\\lib\\site-packages\\tensorflow\\python\\framework\\dtypes.py:530: FutureWarning: Passing (type, 1) or '1type' as a synonym of type is deprecated; in a future version of numpy, it will be understood as (type, (1,)) / '(1,)type'.\n",
      "  _np_qint32 = np.dtype([(\"qint32\", np.int32, 1)])\n",
      "C:\\Users\\Bear-\\Anaconda3\\lib\\site-packages\\tensorflow\\python\\framework\\dtypes.py:535: FutureWarning: Passing (type, 1) or '1type' as a synonym of type is deprecated; in a future version of numpy, it will be understood as (type, (1,)) / '(1,)type'.\n",
      "  np_resource = np.dtype([(\"resource\", np.ubyte, 1)])\n"
     ]
    }
   ],
   "source": [
    "import os\n",
    "import cv2\n",
    "import dlib\n",
    "import requests\n",
    "import numpy as np\n",
    "import pandas as pd\n",
    "from math import hypot\n",
    "import matplotlib.pyplot as plt\n",
    "from sklearn import preprocessing\n",
    "from keras.preprocessing import image\n",
    "from sklearn.model_selection import train_test_split"
   ]
  },
  {
   "cell_type": "markdown",
   "metadata": {},
   "source": [
    "## Directory List\n",
    "relevant folder\n",
    "1. Image directory : ..\\AMLS_19-20_SN15053755\\dataset\\cartoon_set\\img\n",
    "2. Label CSV file directory : ..\\AMLS_19-20_SN15053755\\dataset\\cartoon_set\\labels.csv"
   ]
  },
  {
   "cell_type": "code",
   "execution_count": 2,
   "metadata": {},
   "outputs": [
    {
     "name": "stdout",
     "output_type": "stream",
     "text": [
      "C:\\Users\\Bear-\\Desktop\\AMLS_19-20_SN15053755\n"
     ]
    }
   ],
   "source": [
    "os.chdir(\"..\")\n",
    "print(os.path.abspath(os.curdir))\n",
    "\n",
    "labels_filename = 'labels.csv'\n",
    "\n",
    "basedir = os.path.abspath(os.curdir)\n",
    "dataset_dir = os.path.join(basedir,'dataset')\n",
    "cartoon_dir = os.path.join(dataset_dir,'cartoon_set')\n",
    "images_dir = os.path.join(cartoon_dir,'img')\n",
    "labels_dir = os.path.join(cartoon_dir,labels_filename)"
   ]
  },
  {
   "cell_type": "markdown",
   "metadata": {},
   "source": [
    "## Using HaarCascade Eyes + Glasses"
   ]
  },
  {
   "cell_type": "code",
   "execution_count": 3,
   "metadata": {},
   "outputs": [
    {
     "name": "stdout",
     "output_type": "stream",
     "text": [
      "Downloading haarcascade for eye detection\n",
      "Downloading haarcascade for face detection\n",
      "Download Complete !\n"
     ]
    }
   ],
   "source": [
    "# Downloading haarcascade feature set from github\n",
    "def __downloadCascadeFF():\n",
    "    print(\"Downloading haarcascade for face detection\")\n",
    "    url = \"https://github.com/opencv/opencv/raw/master/data/haarcascades/haarcascade_frontalface_default.xml\"\n",
    "    folder = \"./B2/\"\n",
    "    local_filename = folder + url.split('/')[-1]\n",
    "    # Check if already exists on users disk\n",
    "    if not os.path.exists(folder):\n",
    "        os.makedirs(folder)\n",
    "    # Stream download dataset to local disk\n",
    "    r = requests.get(url, stream=True)\n",
    "    with open(local_filename, 'wb') as f:\n",
    "        for chunk in r.iter_content(chunk_size=1024):\n",
    "            if chunk:\n",
    "                f.write(chunk)\n",
    "\n",
    "def __downloadCascadeEye():\n",
    "    print(\"Downloading haarcascade for eye detection\")\n",
    "    url = \"https://github.com/opencv/opencv/raw/master/data/haarcascades/haarcascade_eye_tree_eyeglasses.xml\"\n",
    "    folder = \"./B2/\"\n",
    "    local_filename = folder + url.split('/')[-1]\n",
    "    # Check if already exists on users disk\n",
    "    if not os.path.exists(folder):\n",
    "        os.makedirs(folder)\n",
    "    # Stream download dataset to local disk\n",
    "    r = requests.get(url, stream=True)\n",
    "    with open(local_filename, 'wb') as f:\n",
    "        for chunk in r.iter_content(chunk_size=1024):\n",
    "            if chunk:\n",
    "                f.write(chunk)\n",
    "\n",
    "__downloadCascadeEye()\n",
    "__downloadCascadeFF()\n",
    "print(\"Download Complete !\")"
   ]
  },
  {
   "cell_type": "code",
   "execution_count": 4,
   "metadata": {},
   "outputs": [],
   "source": [
    "face_cascade = cv2.CascadeClassifier('C:\\\\Users\\\\Bear-\\\\Desktop\\\\AMLS_19-20_SN15053755\\\\B2\\\\haarcascade_frontalface_default.xml')\n",
    "eye_cascade = cv2.CascadeClassifier('C:\\\\Users\\\\Bear-\\\\Desktop\\\\AMLS_19-20_SN15053755\\\\B2\\\\haarcascade_eye_tree_eyeglasses.xml')"
   ]
  },
  {
   "cell_type": "markdown",
   "metadata": {},
   "source": [
    "### Get Coordinates from eye_cascade classifier\n",
    "Use any random image that can be detected using eye_cascade classifier"
   ]
  },
  {
   "cell_type": "code",
   "execution_count": 5,
   "metadata": {},
   "outputs": [
    {
     "name": "stdout",
     "output_type": "stream",
     "text": [
      "175 230 58 58\n"
     ]
    },
    {
     "data": {
      "image/png": "[encoded data removed]",
      "text/plain": [
       "<Figure size 432x288 with 1 Axes>"
      ]
     },
     "metadata": {
      "needs_background": "light"
     },
     "output_type": "display_data"
    }
   ],
   "source": [
    "def detection(images_dir, image):\n",
    "    img_path = os.path.join(images_dir, image)\n",
    "    img = cv2.imread(img_path, cv2.IMREAD_UNCHANGED)\n",
    "    trans_mask = img[:,:,3] == 0\n",
    "    img[trans_mask] = [255,0,255,255] ## Purple BGRA\n",
    "    purple_img = cv2.cvtColor(img, cv2.COLOR_BGRA2BGR)\n",
    "    img_gray = cv2.cvtColor(purple_img, cv2.COLOR_BGR2GRAY)\n",
    "    \n",
    "    faces = face_cascade.detectMultiScale(img_gray, 1.7, 3)\n",
    "    for (x,y,w,h) in faces:\n",
    "        purple_img = cv2.rectangle(img,(x,y),(x+w,y+h), (255,0,0), 2)\n",
    "        roi_gray = img_gray[y:y+h, x:x+w]\n",
    "        roi_color = purple_img[y:y+h, x:x+w]\n",
    "        \n",
    "        eyes = eye_cascade.detectMultiScale(roi_gray, 1.7, 3)\n",
    "        for (ex,ey,ew,eh) in eyes:\n",
    "            cv2.rectangle(roi_color,(ex,ey),(ex+ew,ey+eh), (0,255,0), 2)\n",
    "            print(ex+x,ey+y,ew,eh)\n",
    "            \n",
    "    return purple_img\n",
    "\n",
    "example_image = '4.png'\n",
    "extract_image = detection(images_dir, example_image)\n",
    "\n",
    "image_plot = plt.imshow(extract_image)"
   ]
  },
  {
   "cell_type": "markdown",
   "metadata": {},
   "source": [
    "### Try a new function to extract eye"
   ]
  },
  {
   "cell_type": "code",
   "execution_count": 6,
   "metadata": {},
   "outputs": [],
   "source": [
    "def cropeye(images_dir, image):\n",
    "    img_path = os.path.join(images_dir, image)\n",
    "    img =  cv2.imread(img_path)\n",
    "    cropped = img[230:230+58, 175:175+58]\n",
    "    \n",
    "    return cropped"
   ]
  },
  {
   "cell_type": "code",
   "execution_count": 7,
   "metadata": {},
   "outputs": [
    {
     "name": "stdout",
     "output_type": "stream",
     "text": [
      "Image :6904.png\n",
      "Successful cropped eye\n"
     ]
    },
    {
     "data": {
      "image/png": "[encoded data removed]",
      "text/plain": [
       "<Figure size 432x288 with 1 Axes>"
      ]
     },
     "metadata": {
      "needs_background": "light"
     },
     "output_type": "display_data"
    }
   ],
   "source": [
    "import random\n",
    "image_name = str(random.randrange(1,9999)) + '.png'\n",
    "image_name = str(image_name)\n",
    "print(\"Image :\" + image_name)\n",
    "temp = cropeye(images_dir, image_name)\n",
    "image_plot = plt.imshow(temp)\n",
    "print(\"Successful cropped eye\")"
   ]
  },
  {
   "cell_type": "code",
   "execution_count": 8,
   "metadata": {},
   "outputs": [
    {
     "data": {
      "text/plain": [
       "<matplotlib.image.AxesImage at 0x1bf07f069e8>"
      ]
     },
     "execution_count": 8,
     "metadata": {},
     "output_type": "execute_result"
    },
    {
     "data": {
      "image/png": "[encoded data removed]",
      "text/plain": [
       "<Figure size 432x288 with 1 Axes>"
      ]
     },
     "metadata": {
      "needs_background": "light"
     },
     "output_type": "display_data"
    }
   ],
   "source": [
    "## Print real image\n",
    "plt.imshow(cv2.cvtColor(temp, cv2.COLOR_BGR2RGB))"
   ]
  },
  {
   "cell_type": "markdown",
   "metadata": {},
   "source": [
    "### Using Hough Circles to find the eye"
   ]
  },
  {
   "cell_type": "code",
   "execution_count": 9,
   "metadata": {},
   "outputs": [
    {
     "data": {
      "text/plain": [
       "<matplotlib.image.AxesImage at 0x1bf07f6b898>"
      ]
     },
     "execution_count": 9,
     "metadata": {},
     "output_type": "execute_result"
    },
    {
     "data": {
      "image/png": "[encoded data removed]",
      "text/plain": [
       "<Figure size 432x288 with 1 Axes>"
      ]
     },
     "metadata": {
      "needs_background": "light"
     },
     "output_type": "display_data"
    }
   ],
   "source": [
    "tempcopy = temp.copy()\n",
    "tempgray = cv2.cvtColor(tempcopy,cv2.COLOR_BGR2GRAY)\n",
    "tempgray = cv2.medianBlur(tempgray,5)\n",
    "\n",
    "circles = cv2.HoughCircles(tempgray,cv2.HOUGH_GRADIENT,1,20,\n",
    "                            param1=50,param2=30,minRadius=6,maxRadius=20)\n",
    "\n",
    "circles = np.uint16(np.around(circles))\n",
    "for i in circles[0,:]:\n",
    "    # draw the outer circle\n",
    "    cv2.circle(tempcopy,(i[0],i[1]),i[2],(0,255,0),2)\n",
    "\n",
    "plt.imshow(tempcopy)"
   ]
  },
  {
   "cell_type": "markdown",
   "metadata": {},
   "source": [
    "### Cut circled image and replace background with white"
   ]
  },
  {
   "cell_type": "code",
   "execution_count": 10,
   "metadata": {},
   "outputs": [
    {
     "data": {
      "text/plain": [
       "<matplotlib.image.AxesImage at 0x1bf07fc8860>"
      ]
     },
     "execution_count": 10,
     "metadata": {},
     "output_type": "execute_result"
    },
    {
     "data": {
      "image/png": "[encoded data removed]",
      "text/plain": [
       "<Figure size 432x288 with 1 Axes>"
      ]
     },
     "metadata": {
      "needs_background": "light"
     },
     "output_type": "display_data"
    }
   ],
   "source": [
    "from math import hypot\n",
    "\n",
    "masky = temp.copy()\n",
    "real = cv2.cvtColor(temp.copy(), cv2.COLOR_BGR2RGB)\n",
    "x, y, r = circles[0,:][0]\n",
    "rows, cols = tempgray.shape\n",
    "\n",
    "for i in range(cols):\n",
    "    for j in range(rows):\n",
    "        if hypot(i-x, j-y) > r:\n",
    "            masky[j,i] = 255 ## White background behind\n",
    "\n",
    "real = cv2.cvtColor(masky, cv2.COLOR_BGR2RGB)\n",
    "plt.imshow(real)"
   ]
  },
  {
   "cell_type": "markdown",
   "metadata": {},
   "source": [
    "### Display the histogram\n",
    "Print the maximum values for all three channels while include white (since background dominates and there is no white eye)"
   ]
  },
  {
   "cell_type": "code",
   "execution_count": 11,
   "metadata": {},
   "outputs": [
    {
     "data": {
      "text/plain": [
       "160"
      ]
     },
     "metadata": {},
     "output_type": "display_data"
    },
    {
     "data": {
      "text/plain": [
       "114"
      ]
     },
     "metadata": {},
     "output_type": "display_data"
    },
    {
     "data": {
      "text/plain": [
       "52"
      ]
     },
     "metadata": {},
     "output_type": "display_data"
    },
    {
     "data": {
      "image/png": "[encoded data removed]",
      "text/plain": [
       "<Figure size 432x288 with 1 Axes>"
      ]
     },
     "metadata": {
      "needs_background": "light"
     },
     "output_type": "display_data"
    }
   ],
   "source": [
    "color = ('b','g','r')\n",
    "for i,col in enumerate(color):\n",
    "    histr = cv2.calcHist([masky],[i],None,[256],[0,256])\n",
    "    ayy = np.delete(histr, 255)\n",
    "    display(np.argmax(ayy))\n",
    "    plt.plot(histr,color = col)\n",
    "    plt.xlim([-5,256])\n",
    "plt.show()"
   ]
  },
  {
   "cell_type": "markdown",
   "metadata": {},
   "source": [
    "### Create a function to extract all images and labels"
   ]
  },
  {
   "cell_type": "code",
   "execution_count": 12,
   "metadata": {},
   "outputs": [],
   "source": [
    "def cropeye(images_dir, image): ## Change crop function to output bigger\n",
    "    img_path = os.path.join(images_dir, image)\n",
    "    img =  cv2.imread(img_path)\n",
    "    cropped = img[230:230+60, 175:175+60]\n",
    "    \n",
    "    return cropped\n",
    "\n",
    "\n",
    "def extract_feature_colour(images_dir, labels_dir):\n",
    "    \"\"\" return:\n",
    "        colour_features: an array contain argmax colour for BGR\n",
    "        eye_labels: an array containing eye colour 1-5\n",
    "    \"\"\"\n",
    "    image_paths = [os.path.join(images_dir, l) for l in os.listdir(images_dir)]\n",
    "    target_size = None\n",
    "    labels_file = open(labels_dir, 'r')\n",
    "    lines = labels_file.readlines()\n",
    "    eye_label = {line.split('\\t')[0] : int(line.split('\\t')[1]) for line in lines[1:]}\n",
    "    if os.path.isdir(images_dir):\n",
    "        all_features = []\n",
    "        all_labels = []\n",
    "        error_features = []\n",
    "        for img_path in image_paths:\n",
    "            file_name = img_path.split('.')[0].split('\\\\')[-1]\n",
    "            crop = cropeye(images_dir, img_path.split('\\\\')[-1])\n",
    "            gray = cv2.cvtColor(crop, cv2.COLOR_BGR2GRAY)\n",
    "            gray = cv2.medianBlur(gray,5)\n",
    "            circles = cv2.HoughCircles(gray, cv2.HOUGH_GRADIENT, 1,\n",
    "                                       20,param1=50, param2=30,\n",
    "                                       minRadius=6, maxRadius=40)\n",
    "            \n",
    "            # Could not find eye circle\n",
    "            if circles is None:\n",
    "                error_features.append(file_name)\n",
    "                \n",
    "            # Eye circle found\n",
    "            else:\n",
    "                circles = np.uint16(np.around(circles))\n",
    "                x,y,r = circles[0,:][0]\n",
    "                mask = crop.copy() ## Copy crop\n",
    "                \n",
    "                rows, cols = gray.shape\n",
    "                for i in range(cols):\n",
    "                    for j in range(rows):\n",
    "                        if hypot(i-x, j-y) > r:\n",
    "                            mask[j,i] = 255 ## white background\n",
    "\n",
    "                bgr = []\n",
    "                colour = ('b', 'g', 'r')\n",
    "                for i, col in enumerate(colour):\n",
    "                    histr = cv2.calcHist([mask],[i], None, [256], [0,256])\n",
    "                    temp = np.delete(histr, 255)\n",
    "                    bgr.append(np.argmax(temp))\n",
    "\n",
    "#                 # check rgb within range and apply penalty if its not\n",
    "#                 b,g,r = bgr\n",
    "#                 if(checkbound(b,g,r) == False):\n",
    "#                     bgr.append(0)\n",
    "#                 else:\n",
    "#                     bgr.append(1)\n",
    "                \n",
    "                all_features.append(bgr)\n",
    "                all_labels.append(eye_label[file_name])\n",
    "                \n",
    "    colour_features = np.array(all_features)\n",
    "    eye_labels = np.array(all_labels)\n",
    "    \n",
    "    return colour_features, eye_labels, error_features"
   ]
  },
  {
   "cell_type": "markdown",
   "metadata": {},
   "source": [
    "### Extract Data and Label"
   ]
  },
  {
   "cell_type": "code",
   "execution_count": 13,
   "metadata": {},
   "outputs": [],
   "source": [
    "feat, lab, err = extract_feature_colour(images_dir, labels_dir)"
   ]
  },
  {
   "cell_type": "code",
   "execution_count": 14,
   "metadata": {},
   "outputs": [
    {
     "name": "stdout",
     "output_type": "stream",
     "text": [
      "7695\n",
      "7695\n",
      "2305\n",
      "['1003', '1004', '1007', '1012', '1015', '102', '1020', '1022', '1023', '1033', '1041', '1042', '1045', '1048', '1049', '1055', '1063', '1066', '1084', '1094', '11', '1104', '1108', '1109', '1110', '1115', '1132', '1134', '1138', '1141', '1142', '1143', '1144', '1146', '115', '1154', '1156', '1158', '1159', '116', '1160', '1162', '1163', '1165', '1166', '1167', '1178', '1187', '1188', '1191', '1194', '1198', '1199', '1204', '1205', '1208', '1211', '1217', '1219', '1223', '1224', '1225', '1232', '1237', '124', '1241', '1243', '1244', '1246', '1262', '1266', '127', '1276', '1278', '1279', '1281', '1283', '1285', '1291', '1293', '1294', '1295', '13', '1300', '1301', '1303', '1305', '1306', '1307', '1311', '1315', '1318', '1321', '1322', '1326', '1331', '1337', '1339', '1348', '1349', '135', '1351', '1356', '136', '1361', '137', '1376', '1381', '1386', '1392', '1396', '1399', '1400', '1403', '1414', '1417', '1420', '1423', '1428', '1431', '1436', '144', '1446', '1451', '1458', '1469', '147', '1470', '1471', '1473', '1474', '1477', '1483', '1489', '1490', '1501', '1506', '1508', '1512', '1516', '1517', '1518', '1521', '1525', '1527', '1528', '1532', '1536', '1537', '1542', '1543', '1548', '155', '1550', '1561', '1563', '157', '1570', '1579', '1582', '1583', '1591', '1596', '1601', '1602', '1608', '1617', '1622', '1625', '1634', '1637', '1638', '1645', '1647', '1655', '1658', '1659', '166', '1663', '1671', '1683', '1685', '169', '1696', '1702', '1705', '1718', '1729', '1731', '1732', '1750', '1751', '1753', '1754', '1758', '1766', '1771', '1778', '1784', '1785', '1786', '1789', '1790', '1795', '1797', '1806', '1816', '1823', '1835', '1837', '184', '1842', '1850', '1854', '1862', '1865', '1866', '187', '1873', '1874', '1876', '1886', '1888', '1891', '1893', '1898', '1899', '1902', '1904', '191', '1913', '1918', '1923', '1929', '1932', '1938', '1939', '1947', '1950', '1955', '1957', '1958', '1962', '1964', '1968', '1969', '197', '1971', '1973', '198', '1985', '1986', '1993', '1994', '1996', '1999', '200', '2000', '2002', '2004', '2007', '2009', '2014', '2018', '2019', '2027', '2028', '2035', '2037', '2041', '2043', '2046', '2050', '2067', '207', '2073', '2074', '2075', '2076', '2077', '208', '2080', '2104', '2106', '2108', '211', '2116', '2117', '2118', '2120', '2124', '2128', '2130', '2131', '2138', '2139', '2142', '2144', '2149', '215', '2153', '2157', '2158', '2159', '216', '2165', '2166', '217', '2177', '2181', '2184', '219', '2190', '2197', '220', '2210', '2215', '2217', '2218', '2219', '2220', '2226', '2230', '2232', '2233', '2235', '2237', '224', '2241', '2242', '2247', '2252', '2255', '2266', '227', '2277', '2284', '2290', '2293', '23', '2304', '2310', '2311', '2312', '2314', '2317', '2325', '2330', '2334', '234', '2348', '2353', '2354', '2358', '2360', '237', '2376', '2377', '2383', '2389', '239', '2390', '2391', '2394', '2395', '2403', '2409', '2410', '2412', '2418', '2419', '2427', '2438', '2445', '2446', '2449', '2451', '2453', '2465', '2466', '2468', '2470', '2471', '2473', '2475', '248', '2482', '2484', '2485', '2492', '2494', '25', '2500', '2504', '2505', '2507', '2508', '2511', '2515', '2521', '2529', '2531', '2534', '2541', '2542', '2544', '2547', '2549', '2552', '2553', '2556', '2562', '2564', '2570', '2571', '2577', '2586', '2599', '2601', '2602', '2603', '2607', '2609', '2611', '2613', '2616', '2618', '2622', '2624', '2627', '2629', '2634', '2635', '2641', '2645', '2648', '2651', '2653', '2656', '2657', '2661', '2665', '2668', '267', '2672', '2673', '268', '2689', '2696', '27', '2708', '2709', '2712', '2715', '272', '2720', '2730', '2735', '2737', '2739', '2740', '2742', '2745', '2752', '2754', '2757', '2762', '2768', '2778', '2783', '2791', '280', '2801', '2808', '2812', '2815', '2822', '2828', '2832', '2838', '2846', '2850', '2858', '2859', '2861', '2863', '2865', '2872', '2880', '2882', '2887', '2893', '2899', '290', '2900', '2902', '291', '2911', '2916', '2920', '2922', '293', '2930', '2932', '2933', '2934', '294', '2947', '2950', '2952', '2954', '2956', '2961', '298', '2981', '2985', '2987', '2988', '2990', '2995', '30', '3000', '3010', '3011', '3024', '303', '3030', '3033', '3039', '3041', '3049', '305', '3051', '3056', '3064', '3065', '3069', '307', '3073', '3074', '3075', '3093', '3096', '3102', '3104', '3107', '311', '3116', '3118', '3125', '3128', '3130', '3136', '3139', '3141', '3142', '3143', '3147', '3148', '3157', '3171', '3173', '3177', '3183', '3187', '3188', '3194', '3197', '320', '3201', '322', '3224', '3225', '3229', '3231', '3234', '3237', '3238', '3239', '3243', '3246', '3250', '3251', '3255', '3256', '3262', '3268', '3271', '3275', '3279', '3284', '3289', '3291', '3304', '3305', '3309', '3313', '3319', '3323', '333', '3331', '3332', '3333', '3335', '3339', '334', '3340', '3342', '3343', '3344', '3345', '335', '3355', '3357', '3359', '3360', '3365', '3366', '3369', '337', '3370', '3372', '3373', '3380', '3384', '3385', '3388', '3389', '339', '3393', '3395', '3399', '3406', '3414', '3416', '3420', '3423', '3426', '343', '3430', '3432', '3444', '3448', '345', '3450', '3463', '3464', '347', '3474', '348', '3484', '3486', '3499', '3506', '3507', '3515', '3516', '3524', '3525', '3526', '3530', '3531', '3535', '354', '3544', '3546', '3549', '3567', '3569', '3570', '3577', '3584', '3585', '3587', '3592', '3595', '3596', '3604', '361', '3611', '3614', '3617', '3628', '363', '3630', '3635', '3638', '364', '3642', '3644', '3650', '3651', '3652', '3666', '3667', '3672', '3676', '368', '3681', '3682', '3689', '3690', '37', '3703', '3705', '3708', '3715', '3716', '3717', '3718', '3724', '3729', '373', '3735', '374', '375', '3753', '3755', '3758', '3760', '3764', '3766', '3771', '3775', '3780', '3781', '3787', '38', '380', '3801', '3803', '3814', '3818', '3822', '3824', '3826', '3829', '3835', '3843', '3856', '3878', '3879', '388', '3881', '3884', '3885', '3889', '389', '3891', '3898', '391', '3911', '3922', '3926', '3929', '3934', '3936', '394', '3941', '3942', '3949', '395', '3953', '3959', '3962', '3969', '3970', '3983', '3987', '399', '3993', '3997', '3999', '4002', '4003', '4007', '4008', '4014', '402', '4021', '4023', '4028', '403', '4043', '4045', '4048', '4061', '4065', '4067', '4068', '4069', '4075', '408', '4087', '4094', '41', '4100', '4102', '4105', '4109', '4113', '4114', '4116', '4117', '4118', '4122', '4126', '4138', '4139', '4140', '4143', '4144', '4146', '4150', '4153', '416', '4163', '4165', '4166', '4168', '4175', '4182', '4185', '4186', '4192', '4194', '4206', '4208', '4210', '4211', '4212', '4225', '4229', '423', '4236', '4238', '424', '4245', '4252', '4254', '426', '4263', '4264', '4265', '4266', '4272', '4275', '4278', '4279', '4280', '4292', '4293', '4295', '4299', '43', '4300', '4324', '433', '4334', '4342', '4343', '4351', '4352', '4354', '4355', '4360', '4376', '4377', '438', '4380', '4386', '4387', '439', '4404', '4411', '4419', '442', '4422', '4429', '443', '4435', '4436', '4437', '4442', '4455', '4461', '4462', '4472', '4476', '4477', '4479', '4483', '4487', '4492', '4493', '4500', '4502', '4504', '451', '4512', '4515', '4519', '4520', '4525', '4529', '4530', '4531', '4543', '455', '4552', '4569', '4573', '4577', '4578', '458', '4581', '4582', '4583', '4585', '4587', '4588', '4589', '4590', '4592', '4597', '4598', '4602', '4603', '461', '4614', '4618', '462', '4620', '4621', '4635', '4637', '4644', '4646', '4648', '4649', '4656', '4658', '466', '4667', '4671', '4692', '4694', '4695', '47', '4705', '4707', '4708', '4714', '4715', '4726', '4727', '4730', '4735', '4742', '4751', '4762', '4763', '4766', '4769', '4790', '4792', '4793', '4796', '4800', '4802', '4803', '4804', '481', '4816', '4823', '4824', '4834', '4836', '4838', '4845', '4847', '4850', '4861', '4862', '4863', '4864', '4867', '4871', '4886', '4889', '4901', '4907', '4916', '4917', '4922', '4926', '4930', '4936', '4942', '4962', '4964', '4965', '4968', '4972', '4987', '4991', '4996', '5', '50', '500', '5002', '5006', '5008', '5018', '5019', '5022', '5025', '5029', '5034', '5040', '5052', '5053', '5055', '506', '5063', '5064', '5066', '5067', '5068', '507', '5075', '5077', '5078', '509', '5090', '5093', '5094', '5096', '5097', '510', '5102', '5103', '5108', '5109', '511', '5114', '513', '5132', '5146', '5147', '5151', '5155', '5161', '5170', '5177', '5183', '5190', '5191', '5199', '5204', '5209', '521', '5213', '5231', '5234', '5238', '5253', '5259', '526', '5261', '5264', '5275', '5277', '5279', '5281', '5282', '5284', '5294', '5298', '5303', '5306', '5312', '5315', '5317', '5318', '5320', '5323', '5326', '5327', '5328', '5344', '5348', '5356', '5358', '5359', '5360', '5362', '5380', '5383', '5389', '5392', '5394', '5396', '5400', '5406', '5410', '5413', '5416', '5417', '5423', '5424', '5427', '5432', '5439', '5441', '5442', '5443', '5447', '5450', '5452', '5458', '5461', '5462', '5466', '5468', '5476', '5482', '5489', '5490', '5491', '5496', '5515', '5518', '552', '5523', '5529', '553', '5531', '5538', '5539', '5542', '5546', '5549', '5552', '5555', '5557', '5564', '5569', '5573', '5575', '5576', '5582', '5590', '5591', '5593', '5600', '5601', '5607', '5608', '5611', '5617', '5619', '5621', '5625', '5636', '5651', '5652', '5653', '5660', '5675', '5679', '568', '5685', '5686', '5690', '5720', '5724', '5726', '5727', '5729', '5734', '5740', '5748', '5749', '575', '5753', '5754', '5755', '5758', '5765', '5766', '5767', '5770', '5771', '5772', '5778', '5779', '5780', '5787', '5795', '5796', '5798', '5804', '5809', '5810', '5813', '5815', '5823', '5824', '5828', '5831', '5833', '5837', '5841', '5844', '5848', '5849', '5855', '5857', '586', '5864', '5877', '5879', '5880', '5884', '5888', '5892', '5893', '5897', '5898', '5899', '59', '590', '5900', '5902', '5904', '5906', '5914', '5915', '5916', '5917', '5918', '5922', '5923', '5925', '593', '5946', '5947', '5953', '5959', '5965', '5968', '5972', '5977', '5978', '5979', '5980', '5981', '5982', '5992', '5996', '5999', '6001', '6005', '6006', '6008', '6013', '6015', '6021', '6022', '6023', '6024', '6035', '6037', '6042', '6044', '6050', '6052', '6053', '6054', '6056', '6057', '6059', '6061', '6064', '607', '6070', '6074', '6077', '6085', '6086', '6087', '6101', '6104', '6105', '6107', '611', '6110', '6114', '6116', '6118', '6122', '6125', '6130', '6136', '6143', '615', '6151', '6153', '6154', '6156', '6159', '6160', '6165', '6173', '6175', '6176', '6179', '6187', '6191', '6196', '6197', '62', '6209', '621', '6212', '6215', '6219', '6225', '6226', '6227', '6229', '6230', '6237', '6239', '6242', '6250', '6251', '6253', '6256', '626', '6260', '6265', '6266', '6276', '6278', '628', '6281', '6284', '6286', '6287', '629', '6298', '6299', '6300', '6301', '6307', '6311', '6315', '6323', '6324', '6327', '6329', '6338', '634', '6343', '6347', '6352', '6355', '6356', '636', '6360', '6383', '6384', '6386', '6389', '6397', '640', '6402', '6406', '6407', '6409', '6412', '642', '6421', '6425', '6428', '643', '6431', '6433', '6435', '6437', '6439', '6443', '6448', '6453', '646', '6464', '6466', '6476', '6477', '648', '6481', '6482', '6485', '6486', '6487', '6488', '6490', '6491', '6498', '6505', '6512', '6516', '6522', '6523', '6525', '6533', '654', '6540', '6544', '6549', '6558', '6567', '6568', '657', '6570', '6572', '6577', '6580', '6581', '6585', '6587', '6588', '6595', '6596', '660', '6603', '6604', '6615', '663', '6631', '6643', '6645', '6647', '665', '6651', '6653', '6656', '6663', '6667', '6670', '6675', '6680', '6682', '6685', '6689', '6692', '6693', '6697', '67', '6702', '6709', '6714', '6715', '6719', '6720', '6723', '6726', '6727', '673', '6731', '6733', '6738', '6739', '674', '6747', '6750', '6759', '6763', '6764', '6769', '6775', '6777', '6785', '6788', '6789', '6793', '6799', '6801', '6808', '6814', '6815', '6817', '6819', '6823', '6830', '6839', '6841', '6845', '6848', '6851', '6857', '6860', '6864', '6872', '6880', '6881', '6882', '6883', '6886', '6899', '69', '6902', '6903', '6907', '6914', '6916', '6921', '6924', '6926', '6929', '693', '6930', '6939', '6941', '6951', '6952', '6957', '6958', '6959', '696', '6960', '6966', '6969', '6978', '6983', '6991', '6999', '7000', '7007', '7010', '7015', '7017', '7021', '7022', '7027', '703', '7032', '7035', '704', '7044', '7049', '705', '7050', '7051', '706', '7062', '7064', '7065', '7068', '707', '7071', '7078', '7081', '7082', '7084', '7101', '7103', '7112', '7114', '7116', '7117', '7119', '7123', '7129', '7130', '7132', '7133', '7138', '7144', '7146', '7147', '7149', '7150', '7151', '7159', '716', '7160', '7164', '7165', '7169', '7174', '7175', '718', '7180', '7183', '7185', '7189', '7191', '7193', '7195', '7196', '7198', '720', '7202', '7203', '7207', '7209', '7215', '7216', '7217', '7219', '7223', '723', '7237', '724', '7241', '7249', '7250', '7267', '7273', '7276', '728', '7282', '7283', '7286', '7287', '7288', '729', '7295', '7301', '7309', '7310', '7317', '732', '7323', '7338', '734', '7340', '7341', '7342', '7348', '7355', '7356', '7357', '7360', '7363', '7367', '737', '7375', '7380', '7382', '7385', '7386', '7391', '7395', '7396', '7399', '7414', '7418', '7421', '7426', '7428', '7434', '7436', '7439', '7442', '7446', '7455', '7462', '7463', '7466', '7472', '7478', '7482', '7483', '7487', '749', '7492', '7501', '751', '7510', '7511', '7512', '7516', '7519', '7522', '7529', '7531', '7537', '7540', '7541', '755', '7554', '756', '7560', '7561', '7562', '7566', '757', '7572', '759', '7597', '7598', '7599', '7605', '7613', '7625', '7628', '7633', '7640', '7642', '7647', '765', '7651', '7652', '7653', '7656', '7668', '767', '7676', '7694', '7697', '7699', '7709', '7710', '7714', '7718', '7725', '7726', '7733', '7734', '7735', '7737', '7741', '7753', '7756', '7758', '7765', '777', '7770', '7785', '7789', '7790', '7792', '7796', '7798', '780', '7800', '7801', '7805', '7806', '7808', '7810', '7811', '7812', '7816', '7818', '7819', '7823', '7826', '783', '7840', '7843', '7844', '7845', '7849', '7852', '7854', '7855', '7858', '7861', '7867', '7868', '787', '7872', '7873', '7876', '7878', '7879', '788', '7881', '7887', '7889', '7890', '7893', '7895', '7906', '7907', '7908', '791', '7914', '7915', '7918', '7919', '7923', '7929', '793', '7938', '7941', '7946', '7947', '7949', '7950', '7952', '7960', '7962', '7967', '7968', '7969', '7972', '7976', '7988', '7992', '7995', '8002', '8010', '8013', '8016', '8027', '8032', '8033', '8035', '8041', '8046', '8048', '8053', '8054', '8067', '807', '8070', '8071', '8077', '808', '8081', '8090', '8100', '8101', '8104', '8106', '8119', '812', '8125', '8133', '8134', '8138', '8139', '8145', '8150', '8154', '8160', '8166', '8168', '8170', '8173', '8174', '8180', '8187', '8196', '8198', '8199', '82', '8201', '8206', '8213', '8228', '8229', '8233', '8235', '8236', '8238', '8239', '8242', '8243', '8259', '8263', '8264', '8275', '8283', '8291', '8299', '8312', '8315', '8317', '8332', '8333', '8334', '8339', '8341', '8342', '8352', '8365', '8366', '8367', '8368', '837', '8370', '8375', '8380', '8381', '8383', '8385', '8386', '8395', '8399', '8405', '8408', '841', '8410', '8414', '8415', '8418', '8423', '8424', '8425', '8426', '8427', '8431', '8435', '8436', '844', '845', '8452', '8456', '8466', '8467', '8485', '8501', '8502', '8505', '8513', '8520', '8522', '8524', '8525', '8531', '8534', '8536', '8537', '8539', '8562', '8566', '8568', '8573', '8585', '8589', '8590', '8592', '8599', '860', '8601', '8609', '861', '8623', '8625', '8635', '8638', '8644', '8647', '8654', '8655', '8657', '8658', '8660', '8666', '8667', '8668', '8669', '8671', '8672', '8678', '8679', '8681', '8682', '8684', '8688', '869', '8692', '8693', '8704', '8710', '8714', '8718', '872', '8723', '8737', '8738', '8740', '8741', '8745', '8749', '875', '8750', '8751', '8757', '8759', '876', '8760', '8761', '8762', '8765', '8768', '8771', '8772', '8777', '8778', '878', '8784', '879', '8793', '8794', '8795', '8806', '8807', '8808', '8809', '8810', '8812', '8815', '8817', '8825', '8829', '8837', '8839', '8845', '8855', '8860', '8868', '8871', '8876', '8878', '8888', '8889', '889', '890', '8918', '892', '8927', '893', '8937', '894', '8940', '8947', '8951', '8953', '8956', '8960', '8965', '8966', '8973', '8980', '8981', '8983', '8988', '8990', '9000', '9002', '9005', '9009', '9012', '902', '9023', '9025', '9029', '9037', '9039', '9042', '9044', '9045', '9046', '9051', '9055', '9056', '9063', '907', '9070', '9072', '9086', '9088', '909', '9097', '9098', '9103', '9104', '9105', '9119', '912', '9124', '9128', '913', '9132', '9135', '9140', '9145', '9148', '9152', '9153', '9156', '9160', '9169', '9177', '918', '9184', '9186', '9189', '9196', '9200', '9201', '9202', '9204', '9206', '9215', '9217', '9221', '9223', '9226', '9232', '9235', '9238', '924', '9242', '9246', '9248', '9250', '9256', '9261', '9263', '9264', '9268', '927', '9275', '9286', '9291', '9296', '9300', '9303', '9305', '9306', '9307', '931', '9313', '9317', '9340', '9343', '9346', '9347', '935', '9351', '9359', '9360', '9364', '9366', '9368', '9378', '9385', '9389', '9390', '9392', '9393', '9394', '9404', '9412', '9416', '9427', '9429', '9430', '9434', '9435', '9438', '9441', '9446', '9449', '945', '9453', '9458', '9459', '9472', '9475', '9482', '9489', '9496', '9498', '95', '9506', '9509', '9512', '9521', '9522', '9530', '9532', '9535', '9537', '954', '9542', '9545', '9549', '9556', '9562', '9563', '9568', '9569', '9571', '9572', '958', '9585', '9589', '9594', '9597', '9598', '9600', '9603', '9610', '9613', '9617', '9621', '9623', '9624', '9628', '963', '9632', '9638', '9646', '9655', '9656', '9665', '9666', '9668', '9669', '9674', '9678', '9684', '9687', '9696', '9697', '9698', '9699', '9704', '9712', '9717', '9721', '9723', '9725', '9739', '9751', '9759', '9778', '9784', '979', '9791', '9794', '9797', '9798', '9804', '9805', '9808', '9817', '9818', '982', '9822', '9824', '983', '9831', '9835', '984', '9846', '9856', '9858', '9863', '9866', '9867', '9869', '987', '9890', '9894', '9896', '99', '990', '9902', '9904', '9905', '9907', '9908', '9910', '9914', '9917', '9918', '9926', '9927', '9928', '993', '9937', '994', '9944', '9949', '9956', '9966', '9969', '9972', '9980', '9986', '9988', '9989', '9991', '9998']\n"
     ]
    }
   ],
   "source": [
    "print(len(feat))\n",
    "print(len(lab))\n",
    "print(len(err))\n",
    "print(err)"
   ]
  },
  {
   "cell_type": "markdown",
   "metadata": {},
   "source": [
    "Error is quite high. Hough Circle sometimes cannot be detected for some reason."
   ]
  },
  {
   "cell_type": "markdown",
   "metadata": {},
   "source": [
    "### Data Visualisation"
   ]
  },
  {
   "cell_type": "code",
   "execution_count": 15,
   "metadata": {},
   "outputs": [
    {
     "name": "stdout",
     "output_type": "stream",
     "text": [
      "      EyeLabel EyeColour    R    G    B\n",
      "0            1      Blue   28    7    6\n",
      "1            2     Green   14    9    9\n",
      "2            2     Green   96   61   48\n",
      "3            1      Blue   28   13   12\n",
      "4            3      Gray  227  180  126\n",
      "...        ...       ...  ...  ...  ...\n",
      "7690         2     Green  114  147   67\n",
      "7691         3      Gray  148  164  160\n",
      "7692         0     Brown  124   72   53\n",
      "7693         1      Blue  246  216  193\n",
      "7694         2     Green   14    9    9\n",
      "\n",
      "[7695 rows x 5 columns]\n"
     ]
    }
   ],
   "source": [
    "dataset = pd.DataFrame(list(lab))\n",
    "dataset.columns = ['EyeLabel']\n",
    "\n",
    "EyeColour = []\n",
    "for eye in dataset.EyeLabel:\n",
    "    if eye == 0:\n",
    "        EyeColour.append(\"Brown\")\n",
    "    elif eye == 1:\n",
    "        EyeColour.append(\"Blue\")\n",
    "    elif eye == 2:\n",
    "        EyeColour.append(\"Green\")\n",
    "    elif eye == 3:\n",
    "        EyeColour.append(\"Gray\")\n",
    "    else:\n",
    "        EyeColour.append(\"Black\")\n",
    "dataset['EyeColour'] = EyeColour\n",
    "\n",
    "B = []\n",
    "G = []\n",
    "R = []\n",
    "\n",
    "for l in range(len(feat)):\n",
    "    b,g,r = feat[l]\n",
    "    B.append(b)\n",
    "    G.append(g)\n",
    "    R.append(r)\n",
    "dataset['R'] = R\n",
    "dataset['G'] = G\n",
    "dataset['B'] = B\n",
    "\n",
    "print(dataset)"
   ]
  },
  {
   "cell_type": "code",
   "execution_count": 16,
   "metadata": {},
   "outputs": [
    {
     "data": {
      "image/png": "[encoded data removed]",
      "text/plain": [
       "<Figure size 432x288 with 1 Axes>"
      ]
     },
     "metadata": {
      "needs_background": "light"
     },
     "output_type": "display_data"
    }
   ],
   "source": [
    "dataset.EyeColour.value_counts().plot(kind='bar')\n",
    "plt.title('Labels counts')\n",
    "plt.xlabel('Label')\n",
    "plt.ylabel('Count')\n",
    "plt.show()"
   ]
  },
  {
   "cell_type": "code",
   "execution_count": 17,
   "metadata": {},
   "outputs": [
    {
     "data": {
      "image/png": "[encoded data removed]",
      "text/plain": [
       "<Figure size 432x288 with 1 Axes>"
      ]
     },
     "metadata": {
      "needs_background": "light"
     },
     "output_type": "display_data"
    }
   ],
   "source": [
    "from mpl_toolkits.mplot3d import Axes3D\n",
    "\n",
    "fig = plt.figure()\n",
    "ax = fig.add_subplot(111,projection ='3d')\n",
    "\n",
    "for i in range(len(dataset['EyeLabel'])):\n",
    "    xR = dataset.R[i]\n",
    "    yG = dataset.G[i]\n",
    "    zB = dataset.B[i]\n",
    "    col = dataset.EyeLabel[i]\n",
    "    if col == 0:\n",
    "        k = 'brown'\n",
    "    elif col == 1:\n",
    "        k = 'blue'\n",
    "    elif col == 2:\n",
    "        k = 'green'\n",
    "    elif col == 3: ##gray\n",
    "        k = 'yellow'\n",
    "    else:\n",
    "        k = 'black'\n",
    "    \n",
    "    ax.scatter(xR, yG, zB, c = k)\n",
    "    \n",
    "ax.set_xlabel('Red Intensity')\n",
    "ax.set_ylabel('Green Intensity')\n",
    "ax.set_zlabel('Blue Intensity')\n",
    "\n",
    "plt.show()"
   ]
  },
  {
   "cell_type": "markdown",
   "metadata": {},
   "source": [
    "### Standardize Features by removing mean and scale to unit variance"
   ]
  },
  {
   "cell_type": "code",
   "execution_count": 18,
   "metadata": {},
   "outputs": [
    {
     "name": "stdout",
     "output_type": "stream",
     "text": [
      "[[-1.19354128 -1.31482045 -0.97792044]\n",
      " [-1.14734631 -1.28600527 -1.15013326]\n",
      " [-0.54681163 -0.53681054 -0.14145814]\n",
      " ...\n",
      " [-0.46982001 -0.37832705  0.20296751]\n",
      " [ 1.6859455   1.69636603  1.70367928]\n",
      " [-1.14734631 -1.28600527 -1.15013326]]\n"
     ]
    }
   ],
   "source": [
    "from sklearn.preprocessing import StandardScaler\n",
    "\n",
    "stsc = StandardScaler().fit(feat)\n",
    "feat_stsc = stsc.transform(feat)\n",
    "\n",
    "print(feat_stsc)"
   ]
  },
  {
   "cell_type": "markdown",
   "metadata": {},
   "source": [
    "### Split data into train and test data set"
   ]
  },
  {
   "cell_type": "code",
   "execution_count": 19,
   "metadata": {},
   "outputs": [],
   "source": [
    "train_data, test_data, train_label, test_label = train_test_split(feat_stsc, lab, test_size=0.2, random_state=99)"
   ]
  },
  {
   "cell_type": "markdown",
   "metadata": {},
   "source": [
    "### Model Training & Evaluation"
   ]
  },
  {
   "cell_type": "code",
   "execution_count": 20,
   "metadata": {},
   "outputs": [],
   "source": [
    "from sklearn.ensemble import RandomForestClassifier #1\n",
    "from sklearn.neighbors import KNeighborsClassifier #2\n",
    "from sklearn.svm import SVC #3\n",
    "from sklearn.tree import DecisionTreeClassifier #4\n",
    "from sklearn.metrics import accuracy_score, precision_score, recall_score, f1_score\n",
    "from sklearn.model_selection import cross_val_score"
   ]
  },
  {
   "cell_type": "markdown",
   "metadata": {},
   "source": [
    "#### 1. Using Random Forest Classifier"
   ]
  },
  {
   "cell_type": "code",
   "execution_count": 21,
   "metadata": {},
   "outputs": [
    {
     "name": "stdout",
     "output_type": "stream",
     "text": [
      "0.6478232618583496\n"
     ]
    }
   ],
   "source": [
    "clf1 = RandomForestClassifier(n_estimators = 1000, max_depth = 5, min_samples_leaf = 5, max_features='auto',n_jobs=4)\n",
    "clf1.fit(train_data,train_label)\n",
    "pred1 = clf1.predict(test_data)\n",
    "acc1 = accuracy_score(test_label, pred1)\n",
    "print(acc1)"
   ]
  },
  {
   "cell_type": "markdown",
   "metadata": {},
   "source": [
    "#### 2. Using K-Neighbors Classifier"
   ]
  },
  {
   "cell_type": "code",
   "execution_count": 22,
   "metadata": {},
   "outputs": [
    {
     "name": "stdout",
     "output_type": "stream",
     "text": [
      "0.6556205328135153\n"
     ]
    }
   ],
   "source": [
    "clf2 = KNeighborsClassifier(n_neighbors=5, algorithm='auto', n_jobs=4)\n",
    "clf2.fit(train_data, train_label)\n",
    "pred2 = clf2.predict(test_data)\n",
    "acc2 = accuracy_score(test_label, pred2)\n",
    "print(acc2)"
   ]
  },
  {
   "cell_type": "markdown",
   "metadata": {},
   "source": [
    "#### 3. Using SVC w/ Linear Classifier"
   ]
  },
  {
   "cell_type": "code",
   "execution_count": 23,
   "metadata": {},
   "outputs": [
    {
     "name": "stdout",
     "output_type": "stream",
     "text": [
      "0.6335282651072125\n"
     ]
    }
   ],
   "source": [
    "clf3 = SVC(kernel = 'rbf', C=0.1, gamma='auto')\n",
    "clf3.fit(train_data, train_label)\n",
    "pred3 = clf3.predict(test_data)\n",
    "acc3 = accuracy_score(test_label, pred3)\n",
    "print(acc3)"
   ]
  },
  {
   "cell_type": "markdown",
   "metadata": {},
   "source": [
    "Accuracy for this method produce very low accuracy (below 70). Hence author continue modelling cropped image with labels using CNN."
   ]
  },
  {
   "cell_type": "markdown",
   "metadata": {},
   "source": [
    "## Using CNN method "
   ]
  },
  {
   "cell_type": "markdown",
   "metadata": {},
   "source": [
    "### Set DataFrame"
   ]
  },
  {
   "cell_type": "code",
   "execution_count": 24,
   "metadata": {},
   "outputs": [
    {
     "data": {
      "text/html": [
       "<div>\n",
       "<style scoped>\n",
       "    .dataframe tbody tr th:only-of-type {\n",
       "        vertical-align: middle;\n",
       "    }\n",
       "\n",
       "    .dataframe tbody tr th {\n",
       "        vertical-align: top;\n",
       "    }\n",
       "\n",
       "    .dataframe thead th {\n",
       "        text-align: right;\n",
       "    }\n",
       "</style>\n",
       "<table border=\"1\" class=\"dataframe\">\n",
       "  <thead>\n",
       "    <tr style=\"text-align: right;\">\n",
       "      <th></th>\n",
       "      <th>FileName</th>\n",
       "      <th>EyeLabel</th>\n",
       "      <th>EyeColour</th>\n",
       "    </tr>\n",
       "  </thead>\n",
       "  <tbody>\n",
       "    <tr>\n",
       "      <th>0</th>\n",
       "      <td>0.png</td>\n",
       "      <td>2</td>\n",
       "      <td>Blue</td>\n",
       "    </tr>\n",
       "    <tr>\n",
       "      <th>1</th>\n",
       "      <td>1.png</td>\n",
       "      <td>3</td>\n",
       "      <td>Green</td>\n",
       "    </tr>\n",
       "    <tr>\n",
       "      <th>2</th>\n",
       "      <td>2.png</td>\n",
       "      <td>3</td>\n",
       "      <td>Green</td>\n",
       "    </tr>\n",
       "    <tr>\n",
       "      <th>3</th>\n",
       "      <td>3.png</td>\n",
       "      <td>3</td>\n",
       "      <td>Green</td>\n",
       "    </tr>\n",
       "    <tr>\n",
       "      <th>4</th>\n",
       "      <td>4.png</td>\n",
       "      <td>1</td>\n",
       "      <td>Brown</td>\n",
       "    </tr>\n",
       "    <tr>\n",
       "      <th>5</th>\n",
       "      <td>5.png</td>\n",
       "      <td>5</td>\n",
       "      <td>Black</td>\n",
       "    </tr>\n",
       "    <tr>\n",
       "      <th>6</th>\n",
       "      <td>6.png</td>\n",
       "      <td>4</td>\n",
       "      <td>Gray</td>\n",
       "    </tr>\n",
       "    <tr>\n",
       "      <th>7</th>\n",
       "      <td>7.png</td>\n",
       "      <td>4</td>\n",
       "      <td>Gray</td>\n",
       "    </tr>\n",
       "    <tr>\n",
       "      <th>8</th>\n",
       "      <td>8.png</td>\n",
       "      <td>2</td>\n",
       "      <td>Blue</td>\n",
       "    </tr>\n",
       "    <tr>\n",
       "      <th>9</th>\n",
       "      <td>9.png</td>\n",
       "      <td>3</td>\n",
       "      <td>Green</td>\n",
       "    </tr>\n",
       "  </tbody>\n",
       "</table>\n",
       "</div>"
      ],
      "text/plain": [
       "  FileName  EyeLabel EyeColour\n",
       "0    0.png         2      Blue\n",
       "1    1.png         3     Green\n",
       "2    2.png         3     Green\n",
       "3    3.png         3     Green\n",
       "4    4.png         1     Brown\n",
       "5    5.png         5     Black\n",
       "6    6.png         4      Gray\n",
       "7    7.png         4      Gray\n",
       "8    8.png         2      Blue\n",
       "9    9.png         3     Green"
      ]
     },
     "metadata": {},
     "output_type": "display_data"
    }
   ],
   "source": [
    "labels_file = open(labels_dir, 'r')\n",
    "lines = labels_file.readlines()\n",
    "eye_label = {line.split('\\t')[3].split('\\n')[0] : int(line.split('\\t')[1])+1 for line in lines[1:]}\n",
    "\n",
    "dfCNN = pd.DataFrame(list(eye_label.items()))\n",
    "dfCNN.columns = ['FileName', 'EyeLabel']\n",
    "\n",
    "EyeColour = []\n",
    "for eye in dfCNN.EyeLabel:\n",
    "    if eye == 1:\n",
    "        EyeColour.append(\"Brown\")\n",
    "    elif eye == 2:\n",
    "        EyeColour.append(\"Blue\")\n",
    "    elif eye == 3:\n",
    "        EyeColour.append(\"Green\")\n",
    "    elif eye == 4:\n",
    "        EyeColour.append(\"Gray\")\n",
    "    else:\n",
    "        EyeColour.append(\"Black\")\n",
    "dfCNN['EyeColour'] = EyeColour\n",
    "\n",
    "display(dfCNN.head(10))"
   ]
  },
  {
   "cell_type": "markdown",
   "metadata": {},
   "source": [
    "### Split DataFrame into Training and Testing"
   ]
  },
  {
   "cell_type": "code",
   "execution_count": 25,
   "metadata": {},
   "outputs": [
    {
     "name": "stdout",
     "output_type": "stream",
     "text": [
      "8000\n",
      "2000\n"
     ]
    }
   ],
   "source": [
    "train_df, test_df = train_test_split(dfCNN, test_size=0.2 ,random_state=11)\n",
    "print(len(train_df))\n",
    "print(len(test_df))"
   ]
  },
  {
   "cell_type": "markdown",
   "metadata": {},
   "source": [
    "### Crop Image and Save to new directory"
   ]
  },
  {
   "cell_type": "code",
   "execution_count": 26,
   "metadata": {},
   "outputs": [],
   "source": [
    "done = True\n",
    "\n",
    "def cropimage(images_dir, new_dir):\n",
    "    count = 0\n",
    "    image_paths = [os.path.join(images_dir, l) for l in os.listdir(images_dir)]\n",
    "    if os.path.isdir(images_dir):\n",
    "        for img_path in image_paths:\n",
    "            file_name = img_path.split('\\\\')[-1] ## Filename include .png\n",
    "            img = cv2.imread(img_path)\n",
    "            crop = img[230:230+58, 175:175+58]\n",
    "            cv2.imwrite(os.path.join(new_dir, file_name), crop)\n",
    "            count += 1\n",
    "    return count\n",
    "            \n",
    "new_dir = os.path.join(basedir, 'Datasets')\n",
    "\n",
    "if done == False: ## If the file is already there, dont have to do multiple times\n",
    "    trial = cropimage(images_dir, new_dir)\n",
    "    print(trial)\n",
    "    done = True"
   ]
  },
  {
   "cell_type": "markdown",
   "metadata": {},
   "source": [
    "### Get Data using ImageDataGenerator"
   ]
  },
  {
   "cell_type": "code",
   "execution_count": 27,
   "metadata": {},
   "outputs": [
    {
     "name": "stdout",
     "output_type": "stream",
     "text": [
      "Getting Data..\n",
      "Preparing training dataset..\n",
      "Found 6000 validated image filenames belonging to 5 classes.\n",
      "Preparing validation dataset..\n",
      "Found 2000 validated image filenames belonging to 5 classes.\n"
     ]
    }
   ],
   "source": [
    "from keras.preprocessing.image import ImageDataGenerator\n",
    "\n",
    "target_size = (32,32)\n",
    "batch_size = 32\n",
    "xcol = \"FileName\"\n",
    "ycol = \"EyeColour\"\n",
    "\n",
    "print(\"Getting Data..\")\n",
    "datagen = ImageDataGenerator(rescale=1./255., validation_split=0.25,horizontal_flip=True,vertical_flip=True)\n",
    "\n",
    "print(\"Preparing training dataset..\")\n",
    "train_gen = datagen.flow_from_dataframe(dataframe=train_df, directory=new_dir, x_col=xcol, y_col=ycol, class_mode=\"categorical\", target_size=target_size, batch_size=batch_size, subset= 'training')\n",
    "\n",
    "print(\"Preparing validation dataset..\")\n",
    "val_gen = datagen.flow_from_dataframe(dataframe=train_df, directory=new_dir, x_col=xcol, y_col=ycol, class_mode=\"categorical\", target_size=target_size, batch_size=batch_size, subset= 'validation')\n",
    "\n",
    "###"
   ]
  },
  {
   "cell_type": "markdown",
   "metadata": {},
   "source": [
    "### Define CNN layer"
   ]
  },
  {
   "cell_type": "code",
   "execution_count": 28,
   "metadata": {},
   "outputs": [
    {
     "name": "stdout",
     "output_type": "stream",
     "text": [
      "WARNING:tensorflow:From C:\\Users\\Bear-\\Anaconda3\\lib\\site-packages\\tensorflow\\python\\framework\\op_def_library.py:263: colocate_with (from tensorflow.python.framework.ops) is deprecated and will be removed in a future version.\n",
      "Instructions for updating:\n",
      "Colocations handled automatically by placer.\n",
      "_________________________________________________________________\n",
      "Layer (type)                 Output Shape              Param #   \n",
      "=================================================================\n",
      "conv2d_1 (Conv2D)            (None, 30, 30, 24)        672       \n",
      "_________________________________________________________________\n",
      "activation_1 (Activation)    (None, 30, 30, 24)        0         \n",
      "_________________________________________________________________\n",
      "max_pooling2d_1 (MaxPooling2 (None, 15, 15, 24)        0         \n",
      "_________________________________________________________________\n",
      "conv2d_2 (Conv2D)            (None, 13, 13, 24)        5208      \n",
      "_________________________________________________________________\n",
      "activation_2 (Activation)    (None, 13, 13, 24)        0         \n",
      "_________________________________________________________________\n",
      "conv2d_3 (Conv2D)            (None, 11, 11, 48)        10416     \n",
      "_________________________________________________________________\n",
      "activation_3 (Activation)    (None, 11, 11, 48)        0         \n",
      "_________________________________________________________________\n",
      "conv2d_4 (Conv2D)            (None, 9, 9, 96)          41568     \n",
      "_________________________________________________________________\n",
      "activation_4 (Activation)    (None, 9, 9, 96)          0         \n",
      "_________________________________________________________________\n",
      "max_pooling2d_2 (MaxPooling2 (None, 4, 4, 96)          0         \n",
      "_________________________________________________________________\n",
      "flatten_1 (Flatten)          (None, 1536)              0         \n",
      "_________________________________________________________________\n",
      "dense_1 (Dense)              (None, 5)                 7685      \n",
      "_________________________________________________________________\n",
      "activation_5 (Activation)    (None, 5)                 0         \n",
      "=================================================================\n",
      "Total params: 65,549\n",
      "Trainable params: 65,549\n",
      "Non-trainable params: 0\n",
      "_________________________________________________________________\n",
      "None\n"
     ]
    }
   ],
   "source": [
    "from keras import optimizers\n",
    "from keras.models import Sequential\n",
    "from keras.layers import Conv2D, MaxPooling2D, BatchNormalization\n",
    "from keras.layers import Activation, Dropout, Flatten, Dense\n",
    "from keras.preprocessing import image\n",
    "from keras.preprocessing.image import ImageDataGenerator\n",
    "\n",
    "model = Sequential()\n",
    "\n",
    "model.add(Conv2D(24, (3,3), input_shape=train_gen.image_shape))\n",
    "model.add(Activation(\"relu\"))\n",
    "\n",
    "model.add(MaxPooling2D(pool_size=(2,2)))\n",
    "\n",
    "model.add(Conv2D(24, (3,3)))\n",
    "model.add(Activation(\"relu\"))\n",
    "\n",
    "model.add(Conv2D(48, (3,3)))\n",
    "model.add(Activation(\"relu\"))\n",
    "\n",
    "model.add(Conv2D(96, (3,3)))\n",
    "model.add(Activation(\"relu\"))\n",
    "model.add(MaxPooling2D(pool_size=(2,2)))\n",
    "\n",
    "model.add(Flatten())\n",
    "model.add(Dense(5))\n",
    "model.add(Activation(\"softmax\"))\n",
    "\n",
    "opt = optimizers.Adam(lr=0.001)\n",
    "model.compile(loss='categorical_crossentropy', optimizer=opt, metrics=['accuracy'])\n",
    "\n",
    "print(model.summary())"
   ]
  },
  {
   "cell_type": "code",
   "execution_count": 29,
   "metadata": {},
   "outputs": [
    {
     "name": "stdout",
     "output_type": "stream",
     "text": [
      "WARNING:tensorflow:From C:\\Users\\Bear-\\Anaconda3\\lib\\site-packages\\tensorflow\\python\\ops\\math_ops.py:3066: to_int32 (from tensorflow.python.ops.math_ops) is deprecated and will be removed in a future version.\n",
      "Instructions for updating:\n",
      "Use tf.cast instead.\n",
      "Epoch 1/25\n",
      "187/187 [==============================] - 10s 52ms/step - loss: 0.5765 - acc: 0.7797 - val_loss: 0.3429 - val_acc: 0.8407\n",
      "Epoch 2/25\n",
      "187/187 [==============================] - 9s 49ms/step - loss: 0.3553 - acc: 0.8394 - val_loss: 0.3235 - val_acc: 0.8506\n",
      "Epoch 3/25\n",
      "187/187 [==============================] - 9s 48ms/step - loss: 0.3346 - acc: 0.8453 - val_loss: 0.3133 - val_acc: 0.8567\n",
      "Epoch 4/25\n",
      "187/187 [==============================] - 9s 47ms/step - loss: 0.3265 - acc: 0.8533 - val_loss: 0.3085 - val_acc: 0.8567\n",
      "Epoch 5/25\n",
      "187/187 [==============================] - 9s 46ms/step - loss: 0.3239 - acc: 0.8491 - val_loss: 0.2987 - val_acc: 0.8669\n",
      "Epoch 6/25\n",
      "187/187 [==============================] - 9s 48ms/step - loss: 0.3112 - acc: 0.8539 - val_loss: 0.3004 - val_acc: 0.8592\n",
      "Epoch 7/25\n",
      "187/187 [==============================] - 9s 47ms/step - loss: 0.3128 - acc: 0.8516 - val_loss: 0.2838 - val_acc: 0.8659\n",
      "Epoch 8/25\n",
      "187/187 [==============================] - 9s 48ms/step - loss: 0.3114 - acc: 0.8554 - val_loss: 0.2860 - val_acc: 0.8684\n",
      "Epoch 9/25\n",
      "187/187 [==============================] - 9s 46ms/step - loss: 0.3081 - acc: 0.8578 - val_loss: 0.2736 - val_acc: 0.8730\n",
      "Epoch 10/25\n",
      "187/187 [==============================] - 9s 46ms/step - loss: 0.3107 - acc: 0.8541 - val_loss: 0.2825 - val_acc: 0.8659\n",
      "Epoch 11/25\n",
      "187/187 [==============================] - 9s 50ms/step - loss: 0.3037 - acc: 0.8563 - val_loss: 0.2779 - val_acc: 0.8664\n",
      "Epoch 12/25\n",
      "187/187 [==============================] - 9s 47ms/step - loss: 0.3056 - acc: 0.8549 - val_loss: 0.2806 - val_acc: 0.8587\n",
      "Epoch 13/25\n",
      "187/187 [==============================] - 9s 46ms/step - loss: 0.3019 - acc: 0.8598 - val_loss: 0.2881 - val_acc: 0.8618\n",
      "Epoch 14/25\n",
      "187/187 [==============================] - 9s 46ms/step - loss: 0.3098 - acc: 0.8534 - val_loss: 0.2780 - val_acc: 0.8659\n",
      "Epoch 15/25\n",
      "187/187 [==============================] - 9s 46ms/step - loss: 0.3065 - acc: 0.8551 - val_loss: 0.2779 - val_acc: 0.8674\n",
      "Epoch 16/25\n",
      "187/187 [==============================] - 9s 46ms/step - loss: 0.3004 - acc: 0.8598 - val_loss: 0.2688 - val_acc: 0.8699\n",
      "Epoch 17/25\n",
      "187/187 [==============================] - 9s 45ms/step - loss: 0.2960 - acc: 0.8600 - val_loss: 0.2834 - val_acc: 0.8572\n",
      "Epoch 18/25\n",
      "187/187 [==============================] - 9s 46ms/step - loss: 0.3060 - acc: 0.8541 - val_loss: 0.2777 - val_acc: 0.8623\n",
      "Epoch 19/25\n",
      "187/187 [==============================] - 9s 47ms/step - loss: 0.3022 - acc: 0.8588 - val_loss: 0.2736 - val_acc: 0.8613\n",
      "Epoch 20/25\n",
      "187/187 [==============================] - 9s 48ms/step - loss: 0.3000 - acc: 0.8616 - val_loss: 0.2790 - val_acc: 0.8613\n",
      "Epoch 21/25\n",
      "187/187 [==============================] - 9s 50ms/step - loss: 0.3073 - acc: 0.8558 - val_loss: 0.2780 - val_acc: 0.8618\n",
      "Epoch 22/25\n",
      "187/187 [==============================] - 9s 49ms/step - loss: 0.2991 - acc: 0.8605 - val_loss: 0.2761 - val_acc: 0.8587\n",
      "Epoch 23/25\n",
      "187/187 [==============================] - 9s 48ms/step - loss: 0.2995 - acc: 0.8593 - val_loss: 0.2754 - val_acc: 0.8618\n",
      "Epoch 24/25\n",
      "187/187 [==============================] - 9s 47ms/step - loss: 0.2956 - acc: 0.8583 - val_loss: 0.2722 - val_acc: 0.8659\n",
      "Epoch 25/25\n",
      "187/187 [==============================] - 9s 48ms/step - loss: 0.3065 - acc: 0.8553 - val_loss: 0.2751 - val_acc: 0.8669\n"
     ]
    }
   ],
   "source": [
    "num_epochs = 25\n",
    "batch_size = 32\n",
    "history = model.fit_generator(train_gen, steps_per_epoch = train_gen.samples // batch_size, validation_data = val_gen, validation_steps = val_gen.samples // batch_size, epochs = num_epochs)"
   ]
  },
  {
   "cell_type": "markdown",
   "metadata": {},
   "source": [
    "### View Loss History for increasing in epoch"
   ]
  },
  {
   "cell_type": "code",
   "execution_count": 30,
   "metadata": {
    "scrolled": true
   },
   "outputs": [
    {
     "data": {
      "image/png": "[encoded data removed]",
      "text/plain": [
       "<Figure size 432x288 with 1 Axes>"
      ]
     },
     "metadata": {
      "needs_background": "light"
     },
     "output_type": "display_data"
    }
   ],
   "source": [
    "%matplotlib inline\n",
    "from matplotlib import pyplot as plt\n",
    "\n",
    "epoch_nums = range(1,num_epochs+1)\n",
    "training_loss = history.history[\"loss\"]\n",
    "validation_loss = history.history[\"val_loss\"]\n",
    "plt.plot(epoch_nums, training_loss)\n",
    "plt.plot(epoch_nums, validation_loss)\n",
    "plt.xlabel('epoch')\n",
    "plt.ylabel('loss')\n",
    "plt.legend(['training', 'validation'], loc='upper right')\n",
    "plt.show()"
   ]
  },
  {
   "cell_type": "markdown",
   "metadata": {},
   "source": [
    "### View Model Performance"
   ]
  },
  {
   "cell_type": "code",
   "execution_count": 31,
   "metadata": {},
   "outputs": [
    {
     "name": "stdout",
     "output_type": "stream",
     "text": [
      "Generating predictions from validation data..\n"
     ]
    },
    {
     "data": {
      "image/png": "[encoded data removed]",
      "text/plain": [
       "<Figure size 432x288 with 2 Axes>"
      ]
     },
     "metadata": {
      "needs_background": "light"
     },
     "output_type": "display_data"
    }
   ],
   "source": [
    "from sklearn.metrics import confusion_matrix, accuracy_score, recall_score, precision_score, f1_score\n",
    "\n",
    "\n",
    "print(\"Generating predictions from validation data..\")\n",
    "\n",
    "x_test = val_gen[0][0]\n",
    "y_test = val_gen[0][1]\n",
    "\n",
    "class_probabilities = model.predict(x_test)\n",
    "\n",
    "predictions = np.argmax(class_probabilities, axis=1)\n",
    "\n",
    "true_labels = np.argmax(y_test, axis=1)\n",
    "\n",
    "classes = [\"Brown\", \"Blue\", \"Green\", \"Gray\" , \"Black\"]\n",
    "\n",
    "cm = confusion_matrix(true_labels, predictions)\n",
    "plt.imshow(cm, interpolation=\"nearest\", cmap=plt.cm.Blues)\n",
    "plt.colorbar()\n",
    "tick_marks = np.arange(len(classes))\n",
    "plt.xticks(tick_marks, classes , rotation=85)\n",
    "plt.yticks(tick_marks, classes)\n",
    "plt.xlabel(\"Predicted Class\")\n",
    "plt.ylabel(\"True Class\")\n",
    "plt.show()"
   ]
  },
  {
   "cell_type": "code",
   "execution_count": 32,
   "metadata": {},
   "outputs": [
    {
     "name": "stdout",
     "output_type": "stream",
     "text": [
      "[[7 0 0 1 1]\n",
      " [0 6 0 0 0]\n",
      " [1 1 2 0 0]\n",
      " [0 0 0 6 0]\n",
      " [1 0 0 1 5]]\n"
     ]
    }
   ],
   "source": [
    "print(cm)"
   ]
  },
  {
   "cell_type": "markdown",
   "metadata": {},
   "source": [
    "### Model CNN metric evaluation"
   ]
  },
  {
   "cell_type": "code",
   "execution_count": 33,
   "metadata": {},
   "outputs": [
    {
     "name": "stdout",
     "output_type": "stream",
     "text": [
      "Preparing testing dataset..\n",
      "Found 2000 validated image filenames belonging to 5 classes.\n"
     ]
    }
   ],
   "source": [
    "print(\"Preparing testing dataset..\")\n",
    "test_datagen = ImageDataGenerator(rescale=1./255)\n",
    "test_gen = test_datagen.flow_from_dataframe(dataframe=test_df,\n",
    "                                                  directory=new_dir,\n",
    "                                                  x_col=xcol,\n",
    "                                                  y_col=ycol,\n",
    "                                                  class_mode=\"categorical\",\n",
    "                                                  target_size = target_size,\n",
    "                                                  batch_size=1,\n",
    "                                                  shuffle=False)\n",
    "\n",
    "filenames = test_gen.filenames\n",
    "nb_samples = len(filenames)\n",
    "\n",
    "prob = model.predict_generator(test_gen,steps = nb_samples)"
   ]
  },
  {
   "cell_type": "code",
   "execution_count": 34,
   "metadata": {},
   "outputs": [
    {
     "name": "stdout",
     "output_type": "stream",
     "text": [
      "[[374   9   0  22  15]\n",
      " [ 25 307   0  28  23]\n",
      " [ 31  12 310  25  11]\n",
      " [ 24   7   0 353  19]\n",
      " [ 25   7   0  32 341]]\n"
     ]
    }
   ],
   "source": [
    "pred = np.argmax(prob, axis=1)\n",
    "true = np.array(test_gen.classes)\n",
    "\n",
    "newcm = confusion_matrix(true, pred)\n",
    "\n",
    "print(newcm)"
   ]
  },
  {
   "cell_type": "code",
   "execution_count": 35,
   "metadata": {},
   "outputs": [
    {
     "name": "stdout",
     "output_type": "stream",
     "text": [
      "Accuracy :0.8425\n",
      "Precision :0.8559172547545136\n",
      "Recall :0.8413727533879115\n",
      "F1 Score :0.8443655728149826\n"
     ]
    },
    {
     "name": "stderr",
     "output_type": "stream",
     "text": [
      "C:\\Users\\Bear-\\Anaconda3\\lib\\site-packages\\sklearn\\metrics\\_classification.py:1317: UserWarning: Note that pos_label (set to 'positive') is ignored when average != 'binary' (got 'macro'). You may use labels=[pos_label] to specify a single positive class.\n",
      "  % (pos_label, average), UserWarning)\n"
     ]
    }
   ],
   "source": [
    "acc = accuracy_score(true, pred)\n",
    "rec = recall_score(true, pred, pos_label = 'positive', average ='macro') ## Weighted using macro\n",
    "pre = precision_score(true,pred, pos_label = 'positive', average ='macro') ## Weighted using macro\n",
    "f1 = f1_score(true,pred, pos_label = 'positive', average ='macro') ## Weighted using macro\n",
    "print(\"Accuracy :\" + str(acc))\n",
    "print(\"Precision :\" + str(pre))\n",
    "print(\"Recall :\" + str(rec))\n",
    "print(\"F1 Score :\" + str(f1))"
   ]
  },
  {
   "cell_type": "markdown",
   "metadata": {},
   "source": [
    "### Save Model"
   ]
  },
  {
   "cell_type": "code",
   "execution_count": 36,
   "metadata": {},
   "outputs": [
    {
     "name": "stdout",
     "output_type": "stream",
     "text": [
      "Model saved.\n"
     ]
    }
   ],
   "source": [
    "from keras.models import load_model\n",
    "\n",
    "modelFileName = 'eyecolour-classifier.h5'\n",
    "os.chdir(\"./B2\")\n",
    "\n",
    "model.save(modelFileName) # saves the trained model\n",
    "print(\"Model saved.\")\n",
    "os.chdir(\"..\")"
   ]
  },
  {
   "cell_type": "code",
   "execution_count": 37,
   "metadata": {},
   "outputs": [
    {
     "name": "stdout",
     "output_type": "stream",
     "text": [
      "(32, 32, 3)\n"
     ]
    }
   ],
   "source": [
    "print(train_gen.image_shape)"
   ]
  },
  {
   "cell_type": "code",
   "execution_count": null,
   "metadata": {},
   "outputs": [],
   "source": [
    "del model  # deletes the existing model variable"
   ]
  },
  {
   "cell_type": "code",
   "execution_count": null,
   "metadata": {},
   "outputs": [],
   "source": [
    "\n",
    "\n",
    "modelFileName = 'eyecolour-classifier.h5'\n",
    "model = load_model"
   ]
  },
  {
   "cell_type": "code",
   "execution_count": 38,
   "metadata": {},
   "outputs": [
    {
     "name": "stdout",
     "output_type": "stream",
     "text": [
      "[0.8407258064516129, 0.850609756097561, 0.8567073170731707, 0.8567073170731707, 0.866869918699187, 0.8592479674796748, 0.8658536585365854, 0.8683943089430894, 0.8729674796747967, 0.8658536585365854, 0.8663617886178862, 0.858739837398374, 0.8617886178861789, 0.8658536585365854, 0.8673780487804879, 0.8699186991869918, 0.8572154471544715, 0.8622967479674797, 0.8612804878048781, 0.8612804878048781, 0.8617886178861789, 0.858739837398374, 0.8617886178861789, 0.8658536585365854, 0.866869918699187]\n"
     ]
    }
   ],
   "source": [
    "validation_accuracy = history.history['val_acc']\n",
    "print(validation_accuracy)"
   ]
  },
  {
   "cell_type": "code",
   "execution_count": 41,
   "metadata": {},
   "outputs": [
    {
     "name": "stdout",
     "output_type": "stream",
     "text": [
      "0.866869918699187\n"
     ]
    }
   ],
   "source": [
    "print(validation_accuracy[-1])"
   ]
  },
  {
   "cell_type": "code",
   "execution_count": null,
   "metadata": {},
   "outputs": [],
   "source": []
  },
  {
   "cell_type": "code",
   "execution_count": 109,
   "metadata": {},
   "outputs": [
    {
     "ename": "ValueError",
     "evalue": "Classification metrics can't handle a mix of multilabel-indicator and continuous-multioutput targets",
     "output_type": "error",
     "traceback": [
      "\u001b[1;31m---------------------------------------------------------------------------\u001b[0m",
      "\u001b[1;31mValueError\u001b[0m                                Traceback (most recent call last)",
      "\u001b[1;32m<ipython-input-109-083db2482f9d>\u001b[0m in \u001b[0;36m<module>\u001b[1;34m\u001b[0m\n\u001b[0;32m      3\u001b[0m \u001b[1;33m\u001b[0m\u001b[0m\n\u001b[0;32m      4\u001b[0m \u001b[1;31m# acc = accuracy_score(real, pred)\u001b[0m\u001b[1;33m\u001b[0m\u001b[1;33m\u001b[0m\u001b[1;33m\u001b[0m\u001b[0m\n\u001b[1;32m----> 5\u001b[1;33m \u001b[0mrec\u001b[0m \u001b[1;33m=\u001b[0m \u001b[0mrecall_score\u001b[0m\u001b[1;33m(\u001b[0m\u001b[0mreal\u001b[0m\u001b[1;33m,\u001b[0m \u001b[0mpred\u001b[0m\u001b[1;33m)\u001b[0m\u001b[1;33m\u001b[0m\u001b[1;33m\u001b[0m\u001b[0m\n\u001b[0m\u001b[0;32m      6\u001b[0m \u001b[0mpre\u001b[0m \u001b[1;33m=\u001b[0m \u001b[0mprecision_score\u001b[0m\u001b[1;33m(\u001b[0m\u001b[0mreal\u001b[0m\u001b[1;33m,\u001b[0m\u001b[0mpred\u001b[0m\u001b[1;33m)\u001b[0m\u001b[1;33m\u001b[0m\u001b[1;33m\u001b[0m\u001b[0m\n\u001b[0;32m      7\u001b[0m \u001b[0mf1\u001b[0m \u001b[1;33m=\u001b[0m \u001b[0mf1_score\u001b[0m\u001b[1;33m(\u001b[0m\u001b[0mreal\u001b[0m\u001b[1;33m,\u001b[0m\u001b[0mpred\u001b[0m\u001b[1;33m)\u001b[0m\u001b[1;33m\u001b[0m\u001b[1;33m\u001b[0m\u001b[0m\n",
      "\u001b[1;32m~\\Anaconda3\\lib\\site-packages\\sklearn\\metrics\\_classification.py\u001b[0m in \u001b[0;36mrecall_score\u001b[1;34m(y_true, y_pred, labels, pos_label, average, sample_weight, zero_division)\u001b[0m\n\u001b[0;32m   1783\u001b[0m                                                  \u001b[0mwarn_for\u001b[0m\u001b[1;33m=\u001b[0m\u001b[1;33m(\u001b[0m\u001b[1;34m'recall'\u001b[0m\u001b[1;33m,\u001b[0m\u001b[1;33m)\u001b[0m\u001b[1;33m,\u001b[0m\u001b[1;33m\u001b[0m\u001b[1;33m\u001b[0m\u001b[0m\n\u001b[0;32m   1784\u001b[0m                                                  \u001b[0msample_weight\u001b[0m\u001b[1;33m=\u001b[0m\u001b[0msample_weight\u001b[0m\u001b[1;33m,\u001b[0m\u001b[1;33m\u001b[0m\u001b[1;33m\u001b[0m\u001b[0m\n\u001b[1;32m-> 1785\u001b[1;33m                                                  zero_division=zero_division)\n\u001b[0m\u001b[0;32m   1786\u001b[0m     \u001b[1;32mreturn\u001b[0m \u001b[0mr\u001b[0m\u001b[1;33m\u001b[0m\u001b[1;33m\u001b[0m\u001b[0m\n\u001b[0;32m   1787\u001b[0m \u001b[1;33m\u001b[0m\u001b[0m\n",
      "\u001b[1;32m~\\Anaconda3\\lib\\site-packages\\sklearn\\metrics\\_classification.py\u001b[0m in \u001b[0;36mprecision_recall_fscore_support\u001b[1;34m(y_true, y_pred, beta, labels, pos_label, average, warn_for, sample_weight, zero_division)\u001b[0m\n\u001b[0;32m   1478\u001b[0m         \u001b[1;32mraise\u001b[0m \u001b[0mValueError\u001b[0m\u001b[1;33m(\u001b[0m\u001b[1;34m\"beta should be >=0 in the F-beta score\"\u001b[0m\u001b[1;33m)\u001b[0m\u001b[1;33m\u001b[0m\u001b[1;33m\u001b[0m\u001b[0m\n\u001b[0;32m   1479\u001b[0m     labels = _check_set_wise_labels(y_true, y_pred, average, labels,\n\u001b[1;32m-> 1480\u001b[1;33m                                     pos_label)\n\u001b[0m\u001b[0;32m   1481\u001b[0m \u001b[1;33m\u001b[0m\u001b[0m\n\u001b[0;32m   1482\u001b[0m     \u001b[1;31m# Calculate tp_sum, pred_sum, true_sum ###\u001b[0m\u001b[1;33m\u001b[0m\u001b[1;33m\u001b[0m\u001b[1;33m\u001b[0m\u001b[0m\n",
      "\u001b[1;32m~\\Anaconda3\\lib\\site-packages\\sklearn\\metrics\\_classification.py\u001b[0m in \u001b[0;36m_check_set_wise_labels\u001b[1;34m(y_true, y_pred, average, labels, pos_label)\u001b[0m\n\u001b[0;32m   1295\u001b[0m                          str(average_options))\n\u001b[0;32m   1296\u001b[0m \u001b[1;33m\u001b[0m\u001b[0m\n\u001b[1;32m-> 1297\u001b[1;33m     \u001b[0my_type\u001b[0m\u001b[1;33m,\u001b[0m \u001b[0my_true\u001b[0m\u001b[1;33m,\u001b[0m \u001b[0my_pred\u001b[0m \u001b[1;33m=\u001b[0m \u001b[0m_check_targets\u001b[0m\u001b[1;33m(\u001b[0m\u001b[0my_true\u001b[0m\u001b[1;33m,\u001b[0m \u001b[0my_pred\u001b[0m\u001b[1;33m)\u001b[0m\u001b[1;33m\u001b[0m\u001b[1;33m\u001b[0m\u001b[0m\n\u001b[0m\u001b[0;32m   1298\u001b[0m     \u001b[0mpresent_labels\u001b[0m \u001b[1;33m=\u001b[0m \u001b[0munique_labels\u001b[0m\u001b[1;33m(\u001b[0m\u001b[0my_true\u001b[0m\u001b[1;33m,\u001b[0m \u001b[0my_pred\u001b[0m\u001b[1;33m)\u001b[0m\u001b[1;33m\u001b[0m\u001b[1;33m\u001b[0m\u001b[0m\n\u001b[0;32m   1299\u001b[0m     \u001b[1;32mif\u001b[0m \u001b[0maverage\u001b[0m \u001b[1;33m==\u001b[0m \u001b[1;34m'binary'\u001b[0m\u001b[1;33m:\u001b[0m\u001b[1;33m\u001b[0m\u001b[1;33m\u001b[0m\u001b[0m\n",
      "\u001b[1;32m~\\Anaconda3\\lib\\site-packages\\sklearn\\metrics\\_classification.py\u001b[0m in \u001b[0;36m_check_targets\u001b[1;34m(y_true, y_pred)\u001b[0m\n\u001b[0;32m     88\u001b[0m     \u001b[1;32mif\u001b[0m \u001b[0mlen\u001b[0m\u001b[1;33m(\u001b[0m\u001b[0my_type\u001b[0m\u001b[1;33m)\u001b[0m \u001b[1;33m>\u001b[0m \u001b[1;36m1\u001b[0m\u001b[1;33m:\u001b[0m\u001b[1;33m\u001b[0m\u001b[1;33m\u001b[0m\u001b[0m\n\u001b[0;32m     89\u001b[0m         raise ValueError(\"Classification metrics can't handle a mix of {0} \"\n\u001b[1;32m---> 90\u001b[1;33m                          \"and {1} targets\".format(type_true, type_pred))\n\u001b[0m\u001b[0;32m     91\u001b[0m \u001b[1;33m\u001b[0m\u001b[0m\n\u001b[0;32m     92\u001b[0m     \u001b[1;31m# We can't have more than one value on y_type => The set is no more needed\u001b[0m\u001b[1;33m\u001b[0m\u001b[1;33m\u001b[0m\u001b[1;33m\u001b[0m\u001b[0m\n",
      "\u001b[1;31mValueError\u001b[0m: Classification metrics can't handle a mix of multilabel-indicator and continuous-multioutput targets"
     ]
    }
   ],
   "source": [
    "pred = class_probabilities\n",
    "real = y_test\n",
    "\n",
    "acc = accuracy_score(real, pred)\n",
    "rec = recall_score(real, pred)\n",
    "pre = precision_score(real,pred)\n",
    "f1 = f1_score(real,pred)\n",
    "print(\"Accuracy :\" + str(acc))\n",
    "print(\"Precision :\" + str(pre))\n",
    "print(\"Recall :\" + str(rec))\n",
    "print(\"F1 Score :\" + str(f1))"
   ]
  },
  {
   "cell_type": "code",
   "execution_count": null,
   "metadata": {},
   "outputs": [],
   "source": []
  },
  {
   "cell_type": "markdown",
   "metadata": {},
   "source": [
    "# IGNORE CODE BELOW"
   ]
  },
  {
   "cell_type": "code",
   "execution_count": 53,
   "metadata": {},
   "outputs": [
    {
     "name": "stderr",
     "output_type": "stream",
     "text": [
      "C:\\Users\\Bear-\\Anaconda3\\lib\\site-packages\\sklearn\\svm\\_base.py:947: ConvergenceWarning: Liblinear failed to converge, increase the number of iterations.\n",
      "  \"the number of iterations.\", ConvergenceWarning)\n",
      "C:\\Users\\Bear-\\Anaconda3\\lib\\site-packages\\sklearn\\svm\\_base.py:947: ConvergenceWarning: Liblinear failed to converge, increase the number of iterations.\n",
      "  \"the number of iterations.\", ConvergenceWarning)\n",
      "C:\\Users\\Bear-\\Anaconda3\\lib\\site-packages\\sklearn\\svm\\_base.py:947: ConvergenceWarning: Liblinear failed to converge, increase the number of iterations.\n",
      "  \"the number of iterations.\", ConvergenceWarning)\n",
      "C:\\Users\\Bear-\\Anaconda3\\lib\\site-packages\\sklearn\\svm\\_base.py:947: ConvergenceWarning: Liblinear failed to converge, increase the number of iterations.\n",
      "  \"the number of iterations.\", ConvergenceWarning)\n",
      "C:\\Users\\Bear-\\Anaconda3\\lib\\site-packages\\sklearn\\svm\\_base.py:947: ConvergenceWarning: Liblinear failed to converge, increase the number of iterations.\n",
      "  \"the number of iterations.\", ConvergenceWarning)\n",
      "C:\\Users\\Bear-\\Anaconda3\\lib\\site-packages\\sklearn\\svm\\_base.py:947: ConvergenceWarning: Liblinear failed to converge, increase the number of iterations.\n",
      "  \"the number of iterations.\", ConvergenceWarning)\n",
      "C:\\Users\\Bear-\\Anaconda3\\lib\\site-packages\\sklearn\\svm\\_base.py:947: ConvergenceWarning: Liblinear failed to converge, increase the number of iterations.\n",
      "  \"the number of iterations.\", ConvergenceWarning)\n",
      "C:\\Users\\Bear-\\Anaconda3\\lib\\site-packages\\sklearn\\svm\\_base.py:947: ConvergenceWarning: Liblinear failed to converge, increase the number of iterations.\n",
      "  \"the number of iterations.\", ConvergenceWarning)\n",
      "C:\\Users\\Bear-\\Anaconda3\\lib\\site-packages\\sklearn\\svm\\_base.py:947: ConvergenceWarning: Liblinear failed to converge, increase the number of iterations.\n",
      "  \"the number of iterations.\", ConvergenceWarning)\n",
      "C:\\Users\\Bear-\\Anaconda3\\lib\\site-packages\\sklearn\\svm\\_base.py:947: ConvergenceWarning: Liblinear failed to converge, increase the number of iterations.\n",
      "  \"the number of iterations.\", ConvergenceWarning)\n",
      "C:\\Users\\Bear-\\Anaconda3\\lib\\site-packages\\sklearn\\svm\\_base.py:947: ConvergenceWarning: Liblinear failed to converge, increase the number of iterations.\n",
      "  \"the number of iterations.\", ConvergenceWarning)\n",
      "C:\\Users\\Bear-\\Anaconda3\\lib\\site-packages\\sklearn\\linear_model\\_logistic.py:939: ConvergenceWarning: lbfgs failed to converge (status=1):\n",
      "STOP: TOTAL NO. of ITERATIONS REACHED LIMIT.\n",
      "\n",
      "Increase the number of iterations (max_iter) or scale the data as shown in:\n",
      "    https://scikit-learn.org/stable/modules/preprocessing.html.\n",
      "Please also refer to the documentation for alternative solver options:\n",
      "    https://scikit-learn.org/stable/modules/linear_model.html#logistic-regression\n",
      "  extra_warning_msg=_LOGISTIC_SOLVER_CONVERGENCE_MSG)\n",
      "C:\\Users\\Bear-\\Anaconda3\\lib\\site-packages\\sklearn\\linear_model\\_logistic.py:939: ConvergenceWarning: lbfgs failed to converge (status=1):\n",
      "STOP: TOTAL NO. of ITERATIONS REACHED LIMIT.\n",
      "\n",
      "Increase the number of iterations (max_iter) or scale the data as shown in:\n",
      "    https://scikit-learn.org/stable/modules/preprocessing.html.\n",
      "Please also refer to the documentation for alternative solver options:\n",
      "    https://scikit-learn.org/stable/modules/linear_model.html#logistic-regression\n",
      "  extra_warning_msg=_LOGISTIC_SOLVER_CONVERGENCE_MSG)\n",
      "C:\\Users\\Bear-\\Anaconda3\\lib\\site-packages\\sklearn\\linear_model\\_logistic.py:939: ConvergenceWarning: lbfgs failed to converge (status=1):\n",
      "STOP: TOTAL NO. of ITERATIONS REACHED LIMIT.\n",
      "\n",
      "Increase the number of iterations (max_iter) or scale the data as shown in:\n",
      "    https://scikit-learn.org/stable/modules/preprocessing.html.\n",
      "Please also refer to the documentation for alternative solver options:\n",
      "    https://scikit-learn.org/stable/modules/linear_model.html#logistic-regression\n",
      "  extra_warning_msg=_LOGISTIC_SOLVER_CONVERGENCE_MSG)\n",
      "C:\\Users\\Bear-\\Anaconda3\\lib\\site-packages\\sklearn\\linear_model\\_logistic.py:939: ConvergenceWarning: lbfgs failed to converge (status=1):\n",
      "STOP: TOTAL NO. of ITERATIONS REACHED LIMIT.\n",
      "\n",
      "Increase the number of iterations (max_iter) or scale the data as shown in:\n",
      "    https://scikit-learn.org/stable/modules/preprocessing.html.\n",
      "Please also refer to the documentation for alternative solver options:\n",
      "    https://scikit-learn.org/stable/modules/linear_model.html#logistic-regression\n",
      "  extra_warning_msg=_LOGISTIC_SOLVER_CONVERGENCE_MSG)\n",
      "C:\\Users\\Bear-\\Anaconda3\\lib\\site-packages\\sklearn\\linear_model\\_logistic.py:939: ConvergenceWarning: lbfgs failed to converge (status=1):\n",
      "STOP: TOTAL NO. of ITERATIONS REACHED LIMIT.\n",
      "\n",
      "Increase the number of iterations (max_iter) or scale the data as shown in:\n",
      "    https://scikit-learn.org/stable/modules/preprocessing.html.\n",
      "Please also refer to the documentation for alternative solver options:\n",
      "    https://scikit-learn.org/stable/modules/linear_model.html#logistic-regression\n",
      "  extra_warning_msg=_LOGISTIC_SOLVER_CONVERGENCE_MSG)\n",
      "C:\\Users\\Bear-\\Anaconda3\\lib\\site-packages\\sklearn\\linear_model\\_logistic.py:939: ConvergenceWarning: lbfgs failed to converge (status=1):\n",
      "STOP: TOTAL NO. of ITERATIONS REACHED LIMIT.\n",
      "\n",
      "Increase the number of iterations (max_iter) or scale the data as shown in:\n",
      "    https://scikit-learn.org/stable/modules/preprocessing.html.\n",
      "Please also refer to the documentation for alternative solver options:\n",
      "    https://scikit-learn.org/stable/modules/linear_model.html#logistic-regression\n",
      "  extra_warning_msg=_LOGISTIC_SOLVER_CONVERGENCE_MSG)\n",
      "C:\\Users\\Bear-\\Anaconda3\\lib\\site-packages\\sklearn\\linear_model\\_logistic.py:939: ConvergenceWarning: lbfgs failed to converge (status=1):\n",
      "STOP: TOTAL NO. of ITERATIONS REACHED LIMIT.\n",
      "\n",
      "Increase the number of iterations (max_iter) or scale the data as shown in:\n",
      "    https://scikit-learn.org/stable/modules/preprocessing.html.\n",
      "Please also refer to the documentation for alternative solver options:\n",
      "    https://scikit-learn.org/stable/modules/linear_model.html#logistic-regression\n",
      "  extra_warning_msg=_LOGISTIC_SOLVER_CONVERGENCE_MSG)\n",
      "C:\\Users\\Bear-\\Anaconda3\\lib\\site-packages\\sklearn\\linear_model\\_logistic.py:939: ConvergenceWarning: lbfgs failed to converge (status=1):\n",
      "STOP: TOTAL NO. of ITERATIONS REACHED LIMIT.\n",
      "\n",
      "Increase the number of iterations (max_iter) or scale the data as shown in:\n",
      "    https://scikit-learn.org/stable/modules/preprocessing.html.\n",
      "Please also refer to the documentation for alternative solver options:\n",
      "    https://scikit-learn.org/stable/modules/linear_model.html#logistic-regression\n",
      "  extra_warning_msg=_LOGISTIC_SOLVER_CONVERGENCE_MSG)\n",
      "C:\\Users\\Bear-\\Anaconda3\\lib\\site-packages\\sklearn\\linear_model\\_logistic.py:939: ConvergenceWarning: lbfgs failed to converge (status=1):\n",
      "STOP: TOTAL NO. of ITERATIONS REACHED LIMIT.\n",
      "\n",
      "Increase the number of iterations (max_iter) or scale the data as shown in:\n",
      "    https://scikit-learn.org/stable/modules/preprocessing.html.\n",
      "Please also refer to the documentation for alternative solver options:\n",
      "    https://scikit-learn.org/stable/modules/linear_model.html#logistic-regression\n",
      "  extra_warning_msg=_LOGISTIC_SOLVER_CONVERGENCE_MSG)\n",
      "C:\\Users\\Bear-\\Anaconda3\\lib\\site-packages\\sklearn\\linear_model\\_logistic.py:939: ConvergenceWarning: lbfgs failed to converge (status=1):\n",
      "STOP: TOTAL NO. of ITERATIONS REACHED LIMIT.\n",
      "\n",
      "Increase the number of iterations (max_iter) or scale the data as shown in:\n",
      "    https://scikit-learn.org/stable/modules/preprocessing.html.\n",
      "Please also refer to the documentation for alternative solver options:\n",
      "    https://scikit-learn.org/stable/modules/linear_model.html#logistic-regression\n",
      "  extra_warning_msg=_LOGISTIC_SOLVER_CONVERGENCE_MSG)\n"
     ]
    },
    {
     "name": "stdout",
     "output_type": "stream",
     "text": [
      "By predicting using all features\n",
      "Accuracy 0.72 Score 0.708 RandomForestClassifier\n",
      "Accuracy 0.71 Score 0.687 KNeighborsClassifier\n",
      "Accuracy 0.45 Score 0.497 LinearSVC\n",
      "Accuracy 0.70 Score 0.691 SVC\n",
      "Accuracy 0.69 Score 0.685 LogisticRegression\n",
      "Accuracy 0.71 Score 0.703 DecisionTreeClassifier\n"
     ]
    },
    {
     "name": "stderr",
     "output_type": "stream",
     "text": [
      "C:\\Users\\Bear-\\Anaconda3\\lib\\site-packages\\sklearn\\linear_model\\_logistic.py:939: ConvergenceWarning: lbfgs failed to converge (status=1):\n",
      "STOP: TOTAL NO. of ITERATIONS REACHED LIMIT.\n",
      "\n",
      "Increase the number of iterations (max_iter) or scale the data as shown in:\n",
      "    https://scikit-learn.org/stable/modules/preprocessing.html.\n",
      "Please also refer to the documentation for alternative solver options:\n",
      "    https://scikit-learn.org/stable/modules/linear_model.html#logistic-regression\n",
      "  extra_warning_msg=_LOGISTIC_SOLVER_CONVERGENCE_MSG)\n"
     ]
    }
   ],
   "source": [
    "# Starting to training the data and cross validate\n",
    "# The cross validation is set to 10-fold \n",
    "\n",
    "y_pred1 = clf1.fit(train_data,train_label).predict(test_data) # Fitting the training data with RandomForestClassifier\n",
    "acc1 = accuracy_score(y_pred1,test_label)\n",
    "scores1 = cross_val_score(clf1, train_data,train_label, cv=10)\n",
    "\n",
    "y_pred2 = clf2.fit(train_data,train_label).predict(test_data) # Fitting the training data with KNeighborsClassifier\n",
    "acc2 = accuracy_score(y_pred2,test_label)\n",
    "scores2 = cross_val_score(clf2, train_data,train_label, cv=10)\n",
    "\n",
    "y_pred3 = clf3.fit(train_data,train_label).predict(test_data) # Fitting the training data with LinearSVC\n",
    "acc3 = accuracy_score(y_pred3,test_label)\n",
    "scores3 = cross_val_score(clf3, train_data,train_label, cv=10)\n",
    "\n",
    "y_pred4 = clf4.fit(train_data,train_label).predict(test_data) # Fitting the training data with SVC\n",
    "acc4 = accuracy_score(y_pred4,test_label)\n",
    "scores4 = cross_val_score(clf4, train_data,train_label, cv=10)\n",
    "\n",
    "y_pred5 = clf5.fit(train_data,train_label).predict(test_data) # Fitting the training data with LogisticRegression\n",
    "acc5 = accuracy_score(y_pred5,test_label)\n",
    "scores5 = cross_val_score(clf5, train_data,train_label, cv=10)\n",
    "\n",
    "y_pred6 = clf6.fit(train_data,train_label).predict(test_data) # Fitting the training data with DecisionTreeClassifier\n",
    "acc6 = accuracy_score(y_pred6,test_label)\n",
    "scores6 = cross_val_score(clf6, train_data,train_label, cv=10)\n",
    "\n",
    "# Getting the mean scores for the cross validation\n",
    "scores1_mean = scores1.mean()\n",
    "scores2_mean = scores2.mean()\n",
    "scores3_mean = scores3.mean()\n",
    "scores4_mean = scores4.mean()\n",
    "scores5_mean = scores5.mean()\n",
    "scores6_mean = scores6.mean()\n",
    "\n",
    "print('By predicting using all features')\n",
    "print(\"Accuracy\",'%.2f'%acc1, \"Score\", '%.3f'%scores1_mean,\"RandomForestClassifier\")\n",
    "print(\"Accuracy\",'%.2f'%acc2, \"Score\", '%.3f'%scores2_mean,\"KNeighborsClassifier\")\n",
    "print(\"Accuracy\",'%.2f'%acc3, \"Score\", '%.3f'%scores3_mean,\"LinearSVC\")\n",
    "print(\"Accuracy\",'%.2f'%acc4, \"Score\", '%.3f'%scores4_mean,\"SVC\")\n",
    "print(\"Accuracy\",'%.2f'%acc5, \"Score\", '%.3f'%scores5_mean,\"LogisticRegression\")\n",
    "print(\"Accuracy\",'%.2f'%acc6, \"Score\", '%.3f'%scores6_mean,\"DecisionTreeClassifier\")"
   ]
  },
  {
   "cell_type": "code",
   "execution_count": null,
   "metadata": {},
   "outputs": [],
   "source": []
  },
  {
   "cell_type": "code",
   "execution_count": 299,
   "metadata": {},
   "outputs": [
    {
     "name": "stdout",
     "output_type": "stream",
     "text": [
      "(58, 58, 4)\n"
     ]
    },
    {
     "data": {
      "image/png": "[encoded data removed]",
      "text/plain": [
       "<Figure size 432x288 with 1 Axes>"
      ]
     },
     "metadata": {
      "needs_background": "light"
     },
     "output_type": "display_data"
    }
   ],
   "source": [
    "def transBg(img):\n",
    "    gray = cv2.cvtColor(img, cv2.COLOR_BGR2GRAY)\n",
    "    th, threshed = cv2.threshold(gray, 240, 255, cv2.THRESH_BINARY_INV)\n",
    "    \n",
    "    kernel = cv2.getStructuringElement(cv2.MORPH_ELLIPSE, (11,11))\n",
    "    morphed = cv2.morphologyEx(threshed, cv2.MORPH_CLOSE, kernel)\n",
    "    \n",
    "    roi, _ = cv2.findContours(morphed, cv2.RETR_EXTERNAL, cv2.CHAIN_APPROX_SIMPLE)\n",
    "    mask = np.zeros(img.shape, img.dtype)\n",
    "    \n",
    "    cv2.fillPoly(mask, roi, (255,)*img.shape[2], )\n",
    "    masked_image = cv2.bitwise_and(img, mask)\n",
    "    \n",
    "    return masked_image\n",
    "\n",
    "def fourChans(img):\n",
    "    height, width, channels = img.shape\n",
    "    if channels<4 :\n",
    "        new_img = cv2.cvtColor(img, cv2.COLOR_BGR2BGRA)\n",
    "        return new_img\n",
    "    return img\n",
    "\n",
    "transmask = fourChans(masky)\n",
    "transmask = transBg(transmask)\n",
    "plt.imshow(transmask)\n",
    "print(transmask.shape)"
   ]
  },
  {
   "cell_type": "markdown",
   "metadata": {},
   "source": [
    "### Replace black background to white\n",
    "This is done by inverting real image, intercept inverted real image with mask (using bitwise_and), then intercept image is then re-inverted."
   ]
  },
  {
   "cell_type": "code",
   "execution_count": 304,
   "metadata": {},
   "outputs": [
    {
     "data": {
      "text/plain": [
       "<matplotlib.image.AxesImage at 0x2b060f1dfd0>"
      ]
     },
     "execution_count": 304,
     "metadata": {},
     "output_type": "execute_result"
    },
    {
     "data": {
      "image/png": "[encoded data removed]",
      "text/plain": [
       "<Figure size 432x288 with 1 Axes>"
      ]
     },
     "metadata": {
      "needs_background": "light"
     },
     "output_type": "display_data"
    }
   ],
   "source": [
    "real = cv2.cvtColor(temp, cv2.COLOR_BGR2RGB)\n",
    "# final = cv2.bitwise_and(real, real, mask = transmask)\n",
    "\n",
    "plt.imshow(real)"
   ]
  },
  {
   "cell_type": "code",
   "execution_count": 284,
   "metadata": {},
   "outputs": [
    {
     "name": "stdout",
     "output_type": "stream",
     "text": [
      "58\n"
     ]
    }
   ],
   "source": [
    "invreal = cv2.bitwise_not(cv2.cvtColor(temp, cv2.COLOR_BGR2RGB)) # Invert real image\n",
    "# final = cv2.bitwise_and(invreal, invreal, mask = masky)\n",
    "# final = cv2.bitwise_not(final)\n",
    "\n",
    "print(len(masky))"
   ]
  },
  {
   "cell_type": "code",
   "execution_count": null,
   "metadata": {},
   "outputs": [],
   "source": [
    "rgb = []\n",
    "colour = ('b', 'g', 'r')\n",
    "for i, col in enumerate(colour):\n",
    "    histr = cv2.calcHist([final],[i], None, [256], [0,256])\n",
    "    temp = np.delete(histr, 255)\n",
    "    rgb.append(np.argmax(temp))"
   ]
  },
  {
   "cell_type": "code",
   "execution_count": null,
   "metadata": {},
   "outputs": [],
   "source": []
  },
  {
   "cell_type": "code",
   "execution_count": null,
   "metadata": {},
   "outputs": [],
   "source": []
  },
  {
   "cell_type": "code",
   "execution_count": null,
   "metadata": {},
   "outputs": [],
   "source": []
  },
  {
   "cell_type": "code",
   "execution_count": null,
   "metadata": {},
   "outputs": [],
   "source": []
  },
  {
   "cell_type": "markdown",
   "metadata": {},
   "source": [
    "## Using CNN for training"
   ]
  },
  {
   "cell_type": "markdown",
   "metadata": {},
   "source": [
    "### Convert Label data into dataframe"
   ]
  },
  {
   "cell_type": "code",
   "execution_count": 9,
   "metadata": {},
   "outputs": [
    {
     "name": "stdout",
     "output_type": "stream",
     "text": [
      "      Filename  EyeLabel EyeColour\n",
      "0        0.png         1      Blue\n",
      "1        1.png         2     Green\n",
      "2        2.png         2     Green\n",
      "3        3.png         2     Green\n",
      "4        4.png         0     Brown\n",
      "...        ...       ...       ...\n",
      "9995  9995.png         3      Gray\n",
      "9996  9996.png         0     Brown\n",
      "9997  9997.png         1      Blue\n",
      "9998  9998.png         0     Brown\n",
      "9999  9999.png         2     Green\n",
      "\n",
      "[10000 rows x 3 columns]\n"
     ]
    }
   ],
   "source": []
  },
  {
   "cell_type": "markdown",
   "metadata": {},
   "source": [
    "### Print Label Count (check for balanced or not)"
   ]
  },
  {
   "cell_type": "code",
   "execution_count": 10,
   "metadata": {},
   "outputs": [
    {
     "data": {
      "image/png": "[encoded data removed]",
      "text/plain": [
       "<Figure size 432x288 with 1 Axes>"
      ]
     },
     "metadata": {
      "needs_background": "light"
     },
     "output_type": "display_data"
    }
   ],
   "source": []
  },
  {
   "cell_type": "code",
   "execution_count": 101,
   "metadata": {},
   "outputs": [],
   "source": [
    "train_df, test_df = train_test_split(df, random_state=24)"
   ]
  },
  {
   "cell_type": "code",
   "execution_count": null,
   "metadata": {},
   "outputs": [],
   "source": [
    "## Colour B-G-R code (0-255) -- High priority has better range\n",
    "# Green 67-147-114 // priority in G\n",
    "# lowGreen 47-107-94  # highGreen 87-187-134\n",
    "\n",
    "# Black 0-0-0 // all priority in low\n",
    "# lowBlack 0-0-0  ## highBlack 30-30-30\n",
    "\n",
    "# Brown 53-72-124 // priority in R\n",
    "# lowBrown 33-52-84  ## highBrown 73-92-164\n",
    "\n",
    "# Gray/Torq 160-164-148 // priority in high\n",
    "# lowGray 145-139-113  ## highGray 185-189-168\n",
    "\n",
    "# Blue 160-114-52 // priority in B\n",
    "# lowBlue 120-94-32  ## highBlue 200-134-72\n",
    "\n",
    "boundaries = [([47,107,94],[87,187,134]),\n",
    "              ([120,94,32],[200,134,72]),\n",
    "              ([33,52,84],[73,92,164]),\n",
    "              ([145,139,113],[185,189,168]),\n",
    "              ([0,0,0],[30,30,30])]"
   ]
  },
  {
   "cell_type": "code",
   "execution_count": 238,
   "metadata": {},
   "outputs": [],
   "source": [
    "def cropeye(images_dir, path):\n",
    "    img_path = os.path.join(images_dir, path)\n",
    "    img =  cv2.imread(img_path)\n",
    "    cropped = img[230:230+58, 175:175+58]\n",
    "    \n",
    "    return cropped\n",
    "\n",
    "def checkbound(b,g,r):\n",
    "    cflag =0\n",
    "    for lb in range(len(boundaries)):\n",
    "        if b>= boundaries[lb][0][0] and b<= boundaries[lb][1][0]:\n",
    "            cflag += 1\n",
    "        if g>= boundaries[lb][0][1] and g<= boundaries[lb][1][1]:\n",
    "            cflag += 1\n",
    "        if r>= boundaries[lb][0][2] and r<= boundaries[lb][1][2]:\n",
    "            cflag += 1\n",
    "\n",
    "        if cflag ==3: ## if all three colours are within range\n",
    "            return True\n",
    "        else:\n",
    "            cflag=0\n",
    "    return False\n",
    "\n",
    "def extract_feature_colour(images_dir, labels_dir):\n",
    "    \"\"\" return:\n",
    "        colour_features: an array contain argmax colour for BGR\n",
    "        eye_labels: an array containing eye colour 1-5\n",
    "    \"\"\"\n",
    "    image_paths = [os.path.join(images_dir, l) for l in os.listdir(images_dir)]\n",
    "    target_size = None\n",
    "    labels_file = open(labels_dir, 'r')\n",
    "    lines = labels_file.readlines()\n",
    "    eye_label = {line.split('\\t')[0] : int(line.split('\\t')[1]) for line in lines[1:]}\n",
    "    if os.path.isdir(images_dir):\n",
    "        all_features = []\n",
    "        all_labels = []\n",
    "        error_features = []\n",
    "        for img_path in image_paths:\n",
    "            file_name = img_path.split('.')[0].split('\\\\')[-1]\n",
    "            crop = cropeye(images_dir, img_path.split('\\\\')[-1])\n",
    "            gray = cv2.cvtColor(crop, cv2.COLOR_BGR2GRAY)\n",
    "            gray = cv2.medianBlur(gray,5)\n",
    "            circles = cv2.HoughCircles(gray, cv2.HOUGH_GRADIENT, 1,\n",
    "                                       20,param1=50, param2=30,\n",
    "                                       minRadius=3, maxRadius=40)\n",
    "            \n",
    "            # Could not find eye circle\n",
    "            if cicles is None:\n",
    "                error_features.append(filename)\n",
    "                \n",
    "            # Eye circle found\n",
    "            else:\n",
    "                circles = np.uint16(np.around(circles))\n",
    "                x,y,r = circles[0,:][0]\n",
    "                rows, cols = gray.shape\n",
    "                for i in range(cols):\n",
    "                    for j in range(rows):\n",
    "                        if hypot(i-x, j-y) > r:\n",
    "                            gray[j,i] = 0\n",
    "\n",
    "                invreal = cv2.bitwise_not(cv2.cvtColor(crop, cv2.COLOR_BGR2RGB)) # Invert real image\n",
    "                final = cv2.bitwise_and(invreal, invreal, mask = gray)\n",
    "                final = cv2.bitwise_not(final)\n",
    "                rgb = []\n",
    "                colour = ('b', 'g', 'r')\n",
    "                for i, col in enumerate(colour):\n",
    "                    histr = cv2.calcHist([final],[i], None, [256], [0,256])\n",
    "                    temp = np.delete(histr, 255)\n",
    "                    rgb.append(np.argmax(temp))\n",
    "\n",
    "                all_features.append(rgb)\n",
    "                # check rgb within range and apply penalty if its not\n",
    "                r,g,b = rgb\n",
    "                if(checkbound(b,g,r) == False):\n",
    "                    all_features.append(0)\n",
    "                else:\n",
    "                    all_features.append(1)\n",
    "\n",
    "                all_labels.append(eye_label[file_name])\n",
    "                \n",
    "    colour_features = np.array(all_features)\n",
    "    eye_labels = np.array(eye_label)\n",
    "    \n",
    "    return colour_features, eye_labels, error_features\n",
    "    "
   ]
  },
  {
   "cell_type": "code",
   "execution_count": null,
   "metadata": {},
   "outputs": [],
   "source": [
    "feat, lab, err = extract_feature_colour(images_dir, labels_dir)"
   ]
  },
  {
   "cell_type": "code",
   "execution_count": null,
   "metadata": {},
   "outputs": [],
   "source": []
  },
  {
   "cell_type": "code",
   "execution_count": null,
   "metadata": {},
   "outputs": [],
   "source": []
  },
  {
   "cell_type": "code",
   "execution_count": null,
   "metadata": {},
   "outputs": [],
   "source": []
  },
  {
   "cell_type": "code",
   "execution_count": 61,
   "metadata": {},
   "outputs": [
    {
     "data": {
      "image/png": "[encoded data removed]",
      "text/plain": [
       "<Figure size 432x288 with 1 Axes>"
      ]
     },
     "metadata": {
      "needs_background": "light"
     },
     "output_type": "display_data"
    }
   ],
   "source": [
    "\n",
    "image_name = str(random.randrange(1,9999)) + '.png'\n",
    "image_name = str(image_name)\n",
    "temp = cropeye(images_dir, image_name)\n",
    "image_plot = plt.imshow(temp)"
   ]
  },
  {
   "cell_type": "code",
   "execution_count": 62,
   "metadata": {},
   "outputs": [
    {
     "data": {
      "image/png": "[encoded data removed]",
      "text/plain": [
       "<Figure size 432x288 with 1 Axes>"
      ]
     },
     "metadata": {
      "needs_background": "light"
     },
     "output_type": "display_data"
    }
   ],
   "source": [
    "koko = temp.copy()\n",
    "realtemp = cv2.cvtColor(temp, cv2.COLOR_BGR2RGB)\n",
    "# img_gray = cv2.cvtColor(purple_img, cv2.COLOR_BGR2GRAY)\n",
    "image_plot = plt.imshow(realtemp)\n"
   ]
  },
  {
   "cell_type": "code",
   "execution_count": 63,
   "metadata": {},
   "outputs": [
    {
     "data": {
      "image/png": "[encoded data removed]",
      "text/plain": [
       "<Figure size 432x288 with 1 Axes>"
      ]
     },
     "metadata": {
      "needs_background": "light"
     },
     "output_type": "display_data"
    }
   ],
   "source": [
    "tempgray = cv2.cvtColor(temp, cv2.COLOR_BGR2GRAY)\n",
    "tempgray = cv2.bilateralFilter(tempgray, 11, 17, 17)\n",
    "edged = cv2.Canny(tempgray, 30, 200)\n",
    "\n",
    "image_plot = plt.imshow(edged)"
   ]
  },
  {
   "cell_type": "code",
   "execution_count": 64,
   "metadata": {},
   "outputs": [],
   "source": [
    "def grab_contours(cnts):\n",
    "    # if the length the contours tuple returned by cv2.findContours\n",
    "    # is '2' then we are using either OpenCV v2.4, v4-beta, or\n",
    "    # v4-official\n",
    "    if len(cnts) == 2:\n",
    "        cnts = cnts[0]\n",
    "\n",
    "    # otherwise OpenCV has changed their cv2.findContours return\n",
    "    # signature yet again and I have no idea WTH is going on\n",
    "    else:\n",
    "        raise Exception((\"Contours tuple must have length 2 or 3, \"\n",
    "            \"otherwise OpenCV changed their cv2.findContours return \"\n",
    "            \"signature yet again. Refer to OpenCV's documentation \"\n",
    "            \"in that case\"))\n",
    "\n",
    "    # return the actual contours array\n",
    "    return cnts\n",
    "\n",
    "# find contours in the edged image, keep only the largest\n",
    "# ones, and initialize our screen contour\n",
    "cnts = cv2.findContours(edged.copy(), cv2.RETR_TREE, cv2.CHAIN_APPROX_SIMPLE)\n",
    "cnts = grab_contours(cnts)\n",
    "cnts = sorted(cnts, key = cv2.contourArea, reverse = True)[:10]\n",
    "screenCnt = None"
   ]
  },
  {
   "cell_type": "code",
   "execution_count": 65,
   "metadata": {},
   "outputs": [
    {
     "name": "stdout",
     "output_type": "stream",
     "text": [
      "6\n"
     ]
    }
   ],
   "source": [
    "print(len(cnts))"
   ]
  },
  {
   "cell_type": "code",
   "execution_count": 75,
   "metadata": {
    "scrolled": true
   },
   "outputs": [
    {
     "data": {
      "image/png": "[encoded data removed]",
      "text/plain": [
       "<Figure size 432x288 with 1 Axes>"
      ]
     },
     "metadata": {
      "needs_background": "light"
     },
     "output_type": "display_data"
    }
   ],
   "source": [
    "\n",
    "image_plot = plt.imshow(gege)"
   ]
  },
  {
   "cell_type": "code",
   "execution_count": 76,
   "metadata": {},
   "outputs": [
    {
     "data": {
      "image/png": "[encoded data removed]",
      "text/plain": [
       "<Figure size 432x288 with 1 Axes>"
      ]
     },
     "metadata": {
      "needs_background": "light"
     },
     "output_type": "display_data"
    }
   ],
   "source": [
    "gege = temp.copy()\n",
    "peri = cv2.arcLength(cnts[1], True)\n",
    "approx = cv2.approxPolyDP(cnts[1], 0.015* peri, True)\n",
    "cv2.drawContours(gege, [approx], -1, (0,255,0), 3)\n",
    "\n",
    "image_plot = plt.imshow(gege)"
   ]
  },
  {
   "cell_type": "code",
   "execution_count": null,
   "metadata": {},
   "outputs": [],
   "source": [
    "# loop over our contours\n",
    "for c in cnts:\n",
    "    # approximate the contour\n",
    "    peri = cv2.arcLength(c, True)\n",
    "    approx = cv2.approxPolyDP(c, 0.015 * peri, True)\n",
    "    \n",
    "    cv2.drawContours(temp, [approx], -1, (0, 255, 0), 3)\n",
    "    \n",
    "\n",
    "\n",
    "\n",
    "# image_plot = plt.imshow(image)"
   ]
  },
  {
   "cell_type": "code",
   "execution_count": 103,
   "metadata": {},
   "outputs": [
    {
     "name": "stdout",
     "output_type": "stream",
     "text": [
      "24\n"
     ]
    },
    {
     "data": {
      "image/png": "[encoded data removed]",
      "text/plain": [
       "<Figure size 1440x1440 with 4 Axes>"
      ]
     },
     "metadata": {
      "needs_background": "light"
     },
     "output_type": "display_data"
    }
   ],
   "source": [
    "printimage =[]\n",
    "\n",
    "image_name = str(random.randrange(1,9999)) + '.png'\n",
    "image_name = str(image_name)\n",
    "temp = cropeye(images_dir, image_name)\n",
    "printimage.append(temp)\n",
    "real = cv2.cvtColor(temp, cv2.COLOR_BGR2RGB)\n",
    "printimage.append(real)\n",
    "tempgray = cv2.cvtColor(temp, cv2.COLOR_BGR2GRAY)\n",
    "tempgray = cv2.bilateralFilter(tempgray, 11, 17, 17)\n",
    "edged = cv2.Canny(tempgray, 30, 200)\n",
    "printimage.append(edged)\n",
    "\n",
    "cnts = cv2.findContours(edged.copy(), cv2.RETR_TREE, cv2.CHAIN_APPROX_SIMPLE)\n",
    "cnts = grab_contours(cnts)\n",
    "cnts = sorted(cnts, key = cv2.contourArea, reverse = True)[:10]\n",
    "\n",
    "\n",
    "peri = cv2.arcLength(cnts[1], True)\n",
    "approx = cv2.approxPolyDP(cnts[1], 0.015* peri, True)\n",
    "final = cv2.drawContours(temp, [approx], -1, (0,255,0), 1)\n",
    "print(len(cnts[1]))\n",
    "printimage.append(final)\n",
    "\n",
    "fig = plt.figure(figsize = (20,20))\n",
    "num = len(printimage)\n",
    "count = 1\n",
    "for exam in printimage:\n",
    "    a=fig.add_subplot(1, num, count)\n",
    "    image_plot = plt.imshow(exam)\n",
    "    count = count+1\n",
    "    \n",
    "plt.show()"
   ]
  },
  {
   "cell_type": "code",
   "execution_count": null,
   "metadata": {},
   "outputs": [],
   "source": []
  },
  {
   "cell_type": "code",
   "execution_count": 127,
   "metadata": {},
   "outputs": [
    {
     "data": {
      "image/png": "[encoded data removed]",
      "text/plain": [
       "<Figure size 432x288 with 1 Axes>"
      ]
     },
     "metadata": {
      "needs_background": "light"
     },
     "output_type": "display_data"
    }
   ],
   "source": [
    "test_name = str(str(random.randrange(1,9999)) + '.png')\n",
    "testing = cropeye(images_dir, test_name)\n",
    "image_plot = plt.imshow(cv2.cvtColor(testing, cv2.COLOR_BGR2RGB))"
   ]
  },
  {
   "cell_type": "code",
   "execution_count": 204,
   "metadata": {},
   "outputs": [
    {
     "data": {
      "text/plain": [
       "<matplotlib.colorbar.Colorbar at 0x2b059e0fa58>"
      ]
     },
     "execution_count": 204,
     "metadata": {},
     "output_type": "execute_result"
    },
    {
     "data": {
      "image/png": "[encoded data removed]",
      "text/plain": [
       "<Figure size 432x288 with 2 Axes>"
      ]
     },
     "metadata": {
      "needs_background": "light"
     },
     "output_type": "display_data"
    }
   ],
   "source": [
    "ret,mask = cv2.threshold(testgray, 0,255,cv2.THRESH_BINARY_INV+cv2.THRESH_OTSU) \n",
    "_,mask3 = cv2.threshold(testgray, 20,255,cv2.THRESH_BINARY_INV)\n",
    "# mask = cv2.inRange(testing, lower_white, upper_white)  # could also use threshold\n",
    "# mask = cv2.morphologyEx(mask, cv2.MORPH_OPEN, cv2.getStructuringElement(cv2.MORPH_ELLIPSE, (3, 3)))  # \"erase\" the small white points in the resulting mask\n",
    "# mask = cv2.bitwise_not(mask)  # invert mask\n",
    "#apply AND operation on image and mask generated by thrresholding\n",
    "testgray = cv2.bilateralFilter(testgray, 11, 17, 17)\n",
    "edged = cv2.Canny(testgray, 30, 200)\n",
    "cnts = cv2.findContours(edged.copy(), cv2.RETR_TREE, cv2.CHAIN_APPROX_SIMPLE)\n",
    "# testmask = cv2.bitwise_and(mask,mask,mask = mask3)\n",
    "# mask2 = cv2.bitwise_and(mask,mask,mask=edged)\n",
    "final = cv2.bitwise_and(testing,testing,mask = mask)\n",
    "rgbfinal = cv2.cvtColor(final, cv2.COLOR_BGR2RGB)\n",
    "#plot the result\n",
    "plt.imshow(testmask)\n",
    "plt.colorbar()"
   ]
  },
  {
   "cell_type": "code",
   "execution_count": 218,
   "metadata": {},
   "outputs": [
    {
     "data": {
      "image/png": "[encoded data removed]",
      "text/plain": [
       "<Figure size 432x288 with 1 Axes>"
      ]
     },
     "metadata": {
      "needs_background": "light"
     },
     "output_type": "display_data"
    }
   ],
   "source": [
    "img = testgray.copy()\n",
    "img = cv2.medianBlur(img,5)\n",
    "cimg = cv2.cvtColor(img,cv2.COLOR_GRAY2BGR)\n",
    "\n",
    "circles = cv2.HoughCircles(img,cv2.HOUGH_GRADIENT,1,20,\n",
    "                            param1=50,param2=30,minRadius=6,maxRadius=0)\n",
    "\n",
    "circles = np.uint16(np.around(circles))\n",
    "for i in circles[0,:]:\n",
    "    # draw the outer circle\n",
    "    cv2.circle(cimg,(i[0],i[1]),i[2],(0,255,0),2)\n",
    "    # draw the center of the circle\n",
    "#     cv2.circle(cimg,(i[0],i[1]),2,(0,0,255),3)\n",
    "\n",
    "plt.imshow(cimg)\n",
    "plt.show()"
   ]
  },
  {
   "cell_type": "code",
   "execution_count": 227,
   "metadata": {},
   "outputs": [
    {
     "data": {
      "image/png": "[encoded data removed]",
      "text/plain": [
       "<Figure size 432x288 with 1 Axes>"
      ]
     },
     "metadata": {},
     "output_type": "display_data"
    }
   ],
   "source": [
    "from math import hypot\n",
    "img = testgray.copy()\n",
    "img = cv2.medianBlur(img,5)\n",
    "# cimg = cv2.cvtColor(img,cv2.COLOR_GRAY2BGR)\n",
    "\n",
    "circles = cv2.HoughCircles(img,cv2.HOUGH_GRADIENT,1,20,\n",
    "                            param1=50,param2=30,minRadius=6,maxRadius=0)\n",
    "\n",
    "circles = np.uint16(np.around(circles))\n",
    "\n",
    "x, y, r = circles[0,:][0]\n",
    "rows, cols = img.shape\n",
    "\n",
    "for i in range(cols):\n",
    "    for j in range(rows):\n",
    "        if hypot(i-x, j-y) > r:\n",
    "            img[j,i] = 0\n",
    "\n",
    "plt.imshow(img, interpolation = 'bicubic')\n",
    "plt.xticks([]), plt.yticks([])\n",
    "plt.show()"
   ]
  },
  {
   "cell_type": "code",
   "execution_count": 231,
   "metadata": {},
   "outputs": [
    {
     "data": {
      "text/plain": [
       "<matplotlib.image.AxesImage at 0x2b05b392748>"
      ]
     },
     "execution_count": 231,
     "metadata": {},
     "output_type": "execute_result"
    },
    {
     "data": {
      "image/png": "[encoded data removed]",
      "text/plain": [
       "<Figure size 432x288 with 1 Axes>"
      ]
     },
     "metadata": {
      "needs_background": "light"
     },
     "output_type": "display_data"
    }
   ],
   "source": [
    "realtest = cv2.cvtColor(testing,cv2.COLOR_BGR2RGB)\n",
    "final = cv2.bitwise_and(realtest,realtest,mask=img)\n",
    "plt.imshow(final)"
   ]
  },
  {
   "cell_type": "code",
   "execution_count": 230,
   "metadata": {},
   "outputs": [
    {
     "data": {
      "text/plain": [
       "0"
      ]
     },
     "metadata": {},
     "output_type": "display_data"
    },
    {
     "data": {
      "text/plain": [
       "0"
      ]
     },
     "metadata": {},
     "output_type": "display_data"
    },
    {
     "data": {
      "text/plain": [
       "0"
      ]
     },
     "metadata": {},
     "output_type": "display_data"
    },
    {
     "data": {
      "image/png": "[encoded data removed]",
      "text/plain": [
       "<Figure size 432x288 with 1 Axes>"
      ]
     },
     "metadata": {
      "needs_background": "light"
     },
     "output_type": "display_data"
    }
   ],
   "source": [
    "color = ('b','g','r')\n",
    "for i,col in enumerate(color):\n",
    "    histr = cv2.calcHist([final],[i],None,[256],[0,256])\n",
    "    ayy = np.delete(histr, 255)\n",
    "    display(np.argmax(ayy))\n",
    "#     print(len(histr))\n",
    "    plt.plot(histr,color = col)\n",
    "    plt.xlim([-5,256])\n",
    "plt.show()"
   ]
  },
  {
   "cell_type": "code",
   "execution_count": 15,
   "metadata": {},
   "outputs": [],
   "source": [
    "## Colour B-G-R code (0-255) -- High priority has better range\n",
    "# Green 67-147-114 // priority in G\n",
    "# lowGreen 47-107-94  # highGreen 87-187-134\n",
    "\n",
    "# Black 0-0-0 // all priority in low\n",
    "# lowBlack 0-0-0  ## highBlack 30-30-30\n",
    "\n",
    "# Brown 53-72-124 // priority in R\n",
    "# lowBrown 33-52-84  ## highBrown 73-92-164\n",
    "\n",
    "# Gray/Torq 160-164-148 // priority in high\n",
    "# lowGray 145-139-113  ## highGray 185-189-168\n",
    "\n",
    "# Blue 160-114-52 // priority in B\n",
    "# lowBlue 120-94-32  ## highBlue 200-134-72\n",
    "\n",
    "boundaries = [([47,107,94],[87,187,134]),\n",
    "              ([120,94,32],[200,134,72]),\n",
    "              ([33,52,84],[73,92,164]),\n",
    "              ([145,139,113],[185,189,168]),\n",
    "              ([0,0,0],[30,30,30])]\n",
    "\n",
    "def checkbound(b,g,r):\n",
    "    cflag =0\n",
    "    for lb in range(len(boundaries)):\n",
    "        if b>= boundaries[lb][0][0] and b<= boundaries[lb][1][0]:\n",
    "            cflag += 1\n",
    "        if g>= boundaries[lb][0][1] and g<= boundaries[lb][1][1]:\n",
    "            cflag += 1\n",
    "        if r>= boundaries[lb][0][2] and r<= boundaries[lb][1][2]:\n",
    "            cflag += 1\n",
    "\n",
    "        if cflag ==3: ## if all three colours are within range\n",
    "            return True\n",
    "        else:\n",
    "            cflag=0\n",
    "    return False"
   ]
  },
  {
   "cell_type": "code",
   "execution_count": 153,
   "metadata": {},
   "outputs": [
    {
     "name": "stdout",
     "output_type": "stream",
     "text": [
      "<class 'numpy.ndarray'>\n"
     ]
    },
    {
     "data": {
      "image/png": "[encoded data removed]",
      "text/plain": [
       "<Figure size 432x288 with 1 Axes>"
      ]
     },
     "metadata": {
      "needs_background": "light"
     },
     "output_type": "display_data"
    }
   ],
   "source": [
    "plt.imshow(final)\n",
    "print(type(final))"
   ]
  },
  {
   "cell_type": "code",
   "execution_count": 179,
   "metadata": {},
   "outputs": [
    {
     "data": {
      "image/png": "[encoded data removed]",
      "text/plain": [
       "<Figure size 432x288 with 1 Axes>"
      ]
     },
     "metadata": {
      "needs_background": "light"
     },
     "output_type": "display_data"
    }
   ],
   "source": [
    "# opencv loads the image in BGR, convert it to RGB\n",
    "img = cv2.cvtColor(testing,\n",
    "                   cv2.COLOR_BGR2RGB)\n",
    "imggray = cv2.cvtColor(testing, cv2.COLOR_BGR2GRAY)\n",
    "# lower_white = np.array([220, 220, 220], dtype=np.uint8)\n",
    "# upper_white = np.array([255, 255, 255], dtype=np.uint8)\n",
    "# mask = cv2.inRange(img, lower_white, upper_white)  # could also use threshold\n",
    "# mask = cv2.morphologyEx(mask, cv2.MORPH_OPEN, cv2.getStructuringElement(cv2.MORPH_ELLIPSE, (3, 3)))  # \"erase\" the small white points in the resulting mask\n",
    "# mask = cv2.bitwise_not(mask)  # invert mask\n",
    "ret,mask = cv2.threshold(imggray, 0,255,cv2.THRESH_BINARY_INV+cv2.THRESH_OTSU) \n",
    "\n",
    "# load background (could be an image too)\n",
    "bk = np.full(img.shape, 255, dtype=np.uint8)  # white bk\n",
    "\n",
    "# get masked foreground\n",
    "fg_masked = cv2.bitwise_and(img, img, mask=mask)\n",
    "\n",
    "# get masked background, mask must be inverted \n",
    "mask = cv2.bitwise_not(mask)\n",
    "bk_masked = cv2.bitwise_and(bk, bk, mask=mask)\n",
    "\n",
    "# combine masked foreground and masked background \n",
    "final = cv2.bitwise_or(fg_masked, bk_masked)\n",
    "mask = cv2.bitwise_not(mask)  # revert mask to original\n",
    "\n",
    "image_plot = plt.imshow(final)"
   ]
  },
  {
   "cell_type": "code",
   "execution_count": 164,
   "metadata": {},
   "outputs": [
    {
     "data": {
      "text/plain": [
       "52"
      ]
     },
     "metadata": {},
     "output_type": "display_data"
    },
    {
     "data": {
      "text/plain": [
       "114"
      ]
     },
     "metadata": {},
     "output_type": "display_data"
    },
    {
     "data": {
      "text/plain": [
       "160"
      ]
     },
     "metadata": {},
     "output_type": "display_data"
    },
    {
     "data": {
      "image/png": "[encoded data removed]",
      "text/plain": [
       "<Figure size 432x288 with 1 Axes>"
      ]
     },
     "metadata": {
      "needs_background": "light"
     },
     "output_type": "display_data"
    }
   ],
   "source": [
    "color = ('b','g','r')\n",
    "for i,col in enumerate(color):\n",
    "    histr = cv2.calcHist([final],[i],None,[256],[0,256])\n",
    "    ayy = np.delete(histr, 255)\n",
    "    display(np.argmax(ayy))\n",
    "#     print(len(histr))\n",
    "    plt.plot(histr,color = col)\n",
    "    plt.xlim([-5,256])\n",
    "plt.show()"
   ]
  },
  {
   "cell_type": "code",
   "execution_count": null,
   "metadata": {},
   "outputs": [],
   "source": []
  },
  {
   "cell_type": "code",
   "execution_count": null,
   "metadata": {},
   "outputs": [],
   "source": []
  },
  {
   "cell_type": "code",
   "execution_count": null,
   "metadata": {},
   "outputs": [],
   "source": []
  },
  {
   "cell_type": "code",
   "execution_count": 136,
   "metadata": {},
   "outputs": [
    {
     "data": {
      "text/plain": [
       "<matplotlib.colorbar.Colorbar at 0x2b0585263c8>"
      ]
     },
     "execution_count": 136,
     "metadata": {},
     "output_type": "execute_result"
    },
    {
     "data": {
      "image/png": "[encoded data removed]",
      "text/plain": [
       "<Figure size 432x288 with 2 Axes>"
      ]
     },
     "metadata": {
      "needs_background": "light"
     },
     "output_type": "display_data"
    }
   ],
   "source": [
    "testgray = cv2.cvtColor(testing, cv2.COLOR_BGR2GRAY)\n",
    "retval, thresholded = cv2.threshold(testgray, 0, 255, cv2.THRESH_BINARY_INV)\n",
    "\n",
    "image_plot = plt.imshow(thresholded)\n",
    "plt.colorbar()"
   ]
  },
  {
   "cell_type": "code",
   "execution_count": 17,
   "metadata": {},
   "outputs": [
    {
     "name": "stderr",
     "output_type": "stream",
     "text": [
      "Clipping input data to the valid range for imshow with RGB data ([0..1] for floats or [0..255] for integers).\n"
     ]
    },
    {
     "data": {
      "image/png": "[encoded data removed]",
      "text/plain": [
       "<Figure size 432x288 with 1 Axes>"
      ]
     },
     "metadata": {
      "needs_background": "light"
     },
     "output_type": "display_data"
    }
   ],
   "source": [
    "bins = np.arange(256).reshape(256,1)\n",
    "\n",
    "def hist_curve(im):\n",
    "    h = np.zeros((300,256,3))\n",
    "    if len(im.shape) == 2:\n",
    "        color = [(255,255,255)]\n",
    "    elif im.shape[2] == 3:\n",
    "        color = [ (255,0,0),(0,255,0),(0,0,255) ]\n",
    "    for ch, col in enumerate(color):\n",
    "        hist_item = cv2.calcHist([im],[ch],None,[256],[0,256])\n",
    "        cv2.normalize(hist_item,hist_item,0,255,cv2.NORM_MINMAX)\n",
    "        hist=np.int32(np.around(hist_item))\n",
    "        pts = np.int32(np.column_stack((bins,hist)))\n",
    "        cv2.polylines(h,[pts],False,col)\n",
    "    y=np.flipud(h)\n",
    "    return y\n",
    "\n",
    "image_plot = plt.imshow(hist_curve(temp))"
   ]
  },
  {
   "cell_type": "code",
   "execution_count": 14,
   "metadata": {},
   "outputs": [
    {
     "data": {
      "text/plain": [
       "array([[1.230e+02],\n",
       "       [7.000e+00],\n",
       "       [3.000e+00],\n",
       "       [1.000e+00],\n",
       "       [1.000e+00],\n",
       "       [6.600e+01],\n",
       "       [1.200e+01],\n",
       "       [1.000e+01],\n",
       "       [1.200e+01],\n",
       "       [1.000e+01],\n",
       "       [2.000e+00],\n",
       "       [2.000e+00],\n",
       "       [6.000e+00],\n",
       "       [6.000e+00],\n",
       "       [4.000e+00],\n",
       "       [3.000e+00],\n",
       "       [4.000e+00],\n",
       "       [2.000e+00],\n",
       "       [6.000e+00],\n",
       "       [1.000e+00],\n",
       "       [5.000e+00],\n",
       "       [4.000e+00],\n",
       "       [3.000e+00],\n",
       "       [3.000e+00],\n",
       "       [0.000e+00],\n",
       "       [4.000e+00],\n",
       "       [5.000e+00],\n",
       "       [3.000e+00],\n",
       "       [2.000e+00],\n",
       "       [6.000e+00],\n",
       "       [3.000e+00],\n",
       "       [4.000e+00],\n",
       "       [5.000e+00],\n",
       "       [6.000e+00],\n",
       "       [3.000e+00],\n",
       "       [3.000e+00],\n",
       "       [4.000e+00],\n",
       "       [3.000e+00],\n",
       "       [6.000e+00],\n",
       "       [5.000e+00],\n",
       "       [4.000e+00],\n",
       "       [5.000e+00],\n",
       "       [6.000e+00],\n",
       "       [4.000e+00],\n",
       "       [6.000e+00],\n",
       "       [3.000e+00],\n",
       "       [8.000e+00],\n",
       "       [5.000e+00],\n",
       "       [3.000e+00],\n",
       "       [3.000e+00],\n",
       "       [5.000e+00],\n",
       "       [1.000e+01],\n",
       "       [1.800e+01],\n",
       "       [2.970e+02],\n",
       "       [6.000e+00],\n",
       "       [5.000e+00],\n",
       "       [3.000e+00],\n",
       "       [5.000e+00],\n",
       "       [2.000e+00],\n",
       "       [2.000e+00],\n",
       "       [3.000e+00],\n",
       "       [2.000e+00],\n",
       "       [4.000e+00],\n",
       "       [5.000e+00],\n",
       "       [0.000e+00],\n",
       "       [0.000e+00],\n",
       "       [2.000e+00],\n",
       "       [3.000e+00],\n",
       "       [1.000e+00],\n",
       "       [1.000e+00],\n",
       "       [2.000e+00],\n",
       "       [3.000e+00],\n",
       "       [3.000e+00],\n",
       "       [2.000e+00],\n",
       "       [7.000e+00],\n",
       "       [3.000e+00],\n",
       "       [2.000e+00],\n",
       "       [3.000e+00],\n",
       "       [3.000e+00],\n",
       "       [3.000e+00],\n",
       "       [2.000e+00],\n",
       "       [2.000e+00],\n",
       "       [5.000e+00],\n",
       "       [3.000e+00],\n",
       "       [2.000e+00],\n",
       "       [2.000e+00],\n",
       "       [0.000e+00],\n",
       "       [2.000e+00],\n",
       "       [2.000e+00],\n",
       "       [8.000e+00],\n",
       "       [6.000e+00],\n",
       "       [3.000e+00],\n",
       "       [1.100e+01],\n",
       "       [1.473e+03],\n",
       "       [1.300e+02],\n",
       "       [3.120e+02],\n",
       "       [1.000e+00],\n",
       "       [3.000e+00],\n",
       "       [3.000e+00],\n",
       "       [3.000e+00],\n",
       "       [1.000e+00],\n",
       "       [1.000e+00],\n",
       "       [1.000e+00],\n",
       "       [0.000e+00],\n",
       "       [1.000e+00],\n",
       "       [3.000e+00],\n",
       "       [1.000e+00],\n",
       "       [1.000e+00],\n",
       "       [3.000e+00],\n",
       "       [1.000e+00],\n",
       "       [4.000e+00],\n",
       "       [0.000e+00],\n",
       "       [3.000e+00],\n",
       "       [1.000e+00],\n",
       "       [2.000e+00],\n",
       "       [1.000e+00],\n",
       "       [0.000e+00],\n",
       "       [1.000e+00],\n",
       "       [0.000e+00],\n",
       "       [1.000e+00],\n",
       "       [0.000e+00],\n",
       "       [3.000e+00],\n",
       "       [0.000e+00],\n",
       "       [0.000e+00],\n",
       "       [1.000e+00],\n",
       "       [3.000e+00],\n",
       "       [1.000e+00],\n",
       "       [2.000e+00],\n",
       "       [1.000e+00],\n",
       "       [3.000e+00],\n",
       "       [1.000e+00],\n",
       "       [3.000e+00],\n",
       "       [3.000e+00],\n",
       "       [1.000e+00],\n",
       "       [1.000e+00],\n",
       "       [1.000e+00],\n",
       "       [1.000e+00],\n",
       "       [1.000e+00],\n",
       "       [0.000e+00],\n",
       "       [0.000e+00],\n",
       "       [1.000e+00],\n",
       "       [0.000e+00],\n",
       "       [0.000e+00],\n",
       "       [0.000e+00],\n",
       "       [1.000e+00],\n",
       "       [1.000e+00],\n",
       "       [3.000e+00],\n",
       "       [1.000e+00],\n",
       "       [1.000e+00],\n",
       "       [1.000e+00],\n",
       "       [3.000e+00],\n",
       "       [1.000e+00],\n",
       "       [1.000e+00],\n",
       "       [2.000e+00],\n",
       "       [1.000e+00],\n",
       "       [4.000e+00],\n",
       "       [4.000e+00],\n",
       "       [0.000e+00],\n",
       "       [4.000e+00],\n",
       "       [0.000e+00],\n",
       "       [1.000e+00],\n",
       "       [1.000e+00],\n",
       "       [3.000e+00],\n",
       "       [1.000e+00],\n",
       "       [2.000e+00],\n",
       "       [1.000e+00],\n",
       "       [1.000e+00],\n",
       "       [1.000e+00],\n",
       "       [0.000e+00],\n",
       "       [1.000e+00],\n",
       "       [0.000e+00],\n",
       "       [1.000e+00],\n",
       "       [1.000e+00],\n",
       "       [0.000e+00],\n",
       "       [1.000e+00],\n",
       "       [0.000e+00],\n",
       "       [0.000e+00],\n",
       "       [1.000e+00],\n",
       "       [0.000e+00],\n",
       "       [4.000e+00],\n",
       "       [1.000e+00],\n",
       "       [2.000e+00],\n",
       "       [0.000e+00],\n",
       "       [1.000e+00],\n",
       "       [3.000e+00],\n",
       "       [0.000e+00],\n",
       "       [1.000e+00],\n",
       "       [0.000e+00],\n",
       "       [1.000e+00],\n",
       "       [0.000e+00],\n",
       "       [1.000e+00],\n",
       "       [5.000e+00],\n",
       "       [0.000e+00],\n",
       "       [3.000e+00],\n",
       "       [1.000e+00],\n",
       "       [2.000e+00],\n",
       "       [0.000e+00],\n",
       "       [0.000e+00],\n",
       "       [1.000e+00],\n",
       "       [0.000e+00],\n",
       "       [3.000e+00],\n",
       "       [1.000e+00],\n",
       "       [2.000e+00],\n",
       "       [1.000e+00],\n",
       "       [0.000e+00],\n",
       "       [0.000e+00],\n",
       "       [0.000e+00],\n",
       "       [0.000e+00],\n",
       "       [2.000e+00],\n",
       "       [1.000e+00],\n",
       "       [0.000e+00],\n",
       "       [1.000e+00],\n",
       "       [3.000e+00],\n",
       "       [2.000e+00],\n",
       "       [0.000e+00],\n",
       "       [1.000e+00],\n",
       "       [1.000e+00],\n",
       "       [2.000e+00],\n",
       "       [1.000e+00],\n",
       "       [1.000e+00],\n",
       "       [3.000e+00],\n",
       "       [1.000e+00],\n",
       "       [2.000e+00],\n",
       "       [2.000e+00],\n",
       "       [0.000e+00],\n",
       "       [3.000e+00],\n",
       "       [4.000e+00],\n",
       "       [3.000e+00],\n",
       "       [1.000e+00],\n",
       "       [0.000e+00],\n",
       "       [2.000e+00],\n",
       "       [2.000e+00],\n",
       "       [1.000e+00],\n",
       "       [3.000e+00],\n",
       "       [1.000e+00],\n",
       "       [2.000e+00],\n",
       "       [1.000e+00],\n",
       "       [1.000e+00],\n",
       "       [2.000e+00],\n",
       "       [2.000e+00],\n",
       "       [1.000e+00],\n",
       "       [3.000e+00],\n",
       "       [3.000e+00],\n",
       "       [2.000e+00],\n",
       "       [3.000e+00],\n",
       "       [3.000e+00],\n",
       "       [7.000e+00],\n",
       "       [3.000e+00],\n",
       "       [1.000e+00],\n",
       "       [2.000e+00],\n",
       "       [6.000e+00],\n",
       "       [4.000e+00],\n",
       "       [5.000e+00],\n",
       "       [5.000e+00],\n",
       "       [8.000e+00],\n",
       "       [3.440e+02]], dtype=float32)"
      ]
     },
     "metadata": {},
     "output_type": "display_data"
    },
    {
     "data": {
      "text/plain": [
       "array([[1.23e+02],\n",
       "       [5.00e+00],\n",
       "       [4.00e+00],\n",
       "       [1.00e+00],\n",
       "       [1.00e+00],\n",
       "       [0.00e+00],\n",
       "       [6.10e+01],\n",
       "       [1.10e+01],\n",
       "       [6.00e+00],\n",
       "       [5.00e+00],\n",
       "       [9.00e+00],\n",
       "       [1.00e+01],\n",
       "       [8.00e+00],\n",
       "       [2.00e+00],\n",
       "       [0.00e+00],\n",
       "       [4.00e+00],\n",
       "       [6.00e+00],\n",
       "       [1.00e+00],\n",
       "       [5.00e+00],\n",
       "       [3.00e+00],\n",
       "       [3.00e+00],\n",
       "       [2.00e+00],\n",
       "       [3.00e+00],\n",
       "       [4.00e+00],\n",
       "       [5.00e+00],\n",
       "       [0.00e+00],\n",
       "       [2.00e+00],\n",
       "       [3.00e+00],\n",
       "       [4.00e+00],\n",
       "       [2.00e+00],\n",
       "       [2.00e+00],\n",
       "       [3.00e+00],\n",
       "       [2.00e+00],\n",
       "       [1.00e+00],\n",
       "       [1.00e+00],\n",
       "       [4.00e+00],\n",
       "       [4.00e+00],\n",
       "       [4.00e+00],\n",
       "       [4.00e+00],\n",
       "       [3.00e+00],\n",
       "       [1.00e+00],\n",
       "       [2.00e+00],\n",
       "       [2.00e+00],\n",
       "       [6.00e+00],\n",
       "       [4.00e+00],\n",
       "       [3.00e+00],\n",
       "       [3.00e+00],\n",
       "       [3.00e+00],\n",
       "       [4.00e+00],\n",
       "       [1.00e+00],\n",
       "       [2.00e+00],\n",
       "       [2.00e+00],\n",
       "       [4.00e+00],\n",
       "       [2.00e+00],\n",
       "       [3.00e+00],\n",
       "       [5.00e+00],\n",
       "       [3.00e+00],\n",
       "       [3.00e+00],\n",
       "       [5.00e+00],\n",
       "       [2.00e+00],\n",
       "       [4.00e+00],\n",
       "       [2.00e+00],\n",
       "       [7.00e+00],\n",
       "       [3.00e+00],\n",
       "       [3.00e+00],\n",
       "       [2.00e+00],\n",
       "       [5.00e+00],\n",
       "       [2.00e+00],\n",
       "       [3.00e+00],\n",
       "       [9.00e+00],\n",
       "       [9.00e+00],\n",
       "       [1.20e+01],\n",
       "       [2.93e+02],\n",
       "       [6.00e+00],\n",
       "       [3.00e+00],\n",
       "       [2.00e+00],\n",
       "       [7.00e+00],\n",
       "       [3.00e+00],\n",
       "       [3.00e+00],\n",
       "       [0.00e+00],\n",
       "       [2.00e+00],\n",
       "       [2.00e+00],\n",
       "       [0.00e+00],\n",
       "       [5.00e+00],\n",
       "       [3.00e+00],\n",
       "       [0.00e+00],\n",
       "       [0.00e+00],\n",
       "       [2.00e+00],\n",
       "       [3.00e+00],\n",
       "       [2.00e+00],\n",
       "       [2.00e+00],\n",
       "       [4.00e+00],\n",
       "       [1.00e+00],\n",
       "       [3.00e+00],\n",
       "       [1.00e+00],\n",
       "       [3.00e+00],\n",
       "       [0.00e+00],\n",
       "       [0.00e+00],\n",
       "       [1.00e+00],\n",
       "       [1.00e+00],\n",
       "       [2.00e+00],\n",
       "       [0.00e+00],\n",
       "       [1.00e+00],\n",
       "       [1.00e+00],\n",
       "       [2.00e+00],\n",
       "       [0.00e+00],\n",
       "       [5.00e+00],\n",
       "       [3.00e+00],\n",
       "       [2.00e+00],\n",
       "       [4.00e+00],\n",
       "       [1.00e+00],\n",
       "       [1.00e+00],\n",
       "       [2.00e+00],\n",
       "       [1.00e+00],\n",
       "       [1.00e+00],\n",
       "       [2.00e+00],\n",
       "       [2.00e+00],\n",
       "       [1.00e+00],\n",
       "       [4.00e+00],\n",
       "       [2.00e+00],\n",
       "       [2.00e+00],\n",
       "       [4.00e+00],\n",
       "       [1.00e+00],\n",
       "       [2.00e+00],\n",
       "       [4.00e+00],\n",
       "       [4.00e+00],\n",
       "       [3.00e+00],\n",
       "       [4.00e+00],\n",
       "       [0.00e+00],\n",
       "       [0.00e+00],\n",
       "       [3.00e+00],\n",
       "       [2.00e+00],\n",
       "       [5.00e+00],\n",
       "       [2.00e+00],\n",
       "       [4.00e+00],\n",
       "       [6.00e+00],\n",
       "       [1.00e+00],\n",
       "       [5.00e+00],\n",
       "       [7.00e+00],\n",
       "       [1.38e+03],\n",
       "       [3.30e+01],\n",
       "       [2.90e+01],\n",
       "       [2.50e+01],\n",
       "       [2.00e+01],\n",
       "       [1.00e+01],\n",
       "       [1.60e+01],\n",
       "       [2.00e+01],\n",
       "       [1.60e+01],\n",
       "       [1.80e+01],\n",
       "       [2.20e+01],\n",
       "       [1.70e+01],\n",
       "       [2.90e+01],\n",
       "       [2.95e+02],\n",
       "       [9.00e+00],\n",
       "       [3.00e+00],\n",
       "       [2.00e+00],\n",
       "       [0.00e+00],\n",
       "       [1.00e+00],\n",
       "       [0.00e+00],\n",
       "       [2.00e+00],\n",
       "       [2.00e+00],\n",
       "       [2.00e+00],\n",
       "       [2.00e+00],\n",
       "       [1.00e+00],\n",
       "       [4.00e+00],\n",
       "       [4.00e+00],\n",
       "       [0.00e+00],\n",
       "       [5.00e+00],\n",
       "       [0.00e+00],\n",
       "       [2.00e+00],\n",
       "       [0.00e+00],\n",
       "       [1.00e+00],\n",
       "       [1.00e+00],\n",
       "       [0.00e+00],\n",
       "       [0.00e+00],\n",
       "       [1.00e+00],\n",
       "       [0.00e+00],\n",
       "       [2.00e+00],\n",
       "       [1.00e+00],\n",
       "       [2.00e+00],\n",
       "       [2.00e+00],\n",
       "       [1.00e+00],\n",
       "       [1.00e+00],\n",
       "       [1.00e+00],\n",
       "       [2.00e+00],\n",
       "       [2.00e+00],\n",
       "       [0.00e+00],\n",
       "       [1.00e+00],\n",
       "       [3.00e+00],\n",
       "       [0.00e+00],\n",
       "       [1.00e+00],\n",
       "       [2.00e+00],\n",
       "       [1.00e+00],\n",
       "       [1.00e+00],\n",
       "       [1.00e+00],\n",
       "       [2.00e+00],\n",
       "       [0.00e+00],\n",
       "       [3.00e+00],\n",
       "       [0.00e+00],\n",
       "       [2.00e+00],\n",
       "       [3.00e+00],\n",
       "       [2.00e+00],\n",
       "       [0.00e+00],\n",
       "       [3.00e+00],\n",
       "       [0.00e+00],\n",
       "       [2.00e+00],\n",
       "       [0.00e+00],\n",
       "       [1.00e+00],\n",
       "       [0.00e+00],\n",
       "       [2.00e+00],\n",
       "       [3.00e+00],\n",
       "       [1.00e+00],\n",
       "       [1.00e+00],\n",
       "       [3.00e+00],\n",
       "       [0.00e+00],\n",
       "       [2.00e+00],\n",
       "       [3.00e+00],\n",
       "       [3.00e+00],\n",
       "       [0.00e+00],\n",
       "       [0.00e+00],\n",
       "       [1.00e+00],\n",
       "       [1.00e+00],\n",
       "       [1.00e+00],\n",
       "       [2.00e+00],\n",
       "       [1.00e+00],\n",
       "       [1.00e+00],\n",
       "       [3.00e+00],\n",
       "       [0.00e+00],\n",
       "       [3.00e+00],\n",
       "       [5.00e+00],\n",
       "       [3.00e+00],\n",
       "       [3.00e+00],\n",
       "       [0.00e+00],\n",
       "       [2.00e+00],\n",
       "       [1.00e+00],\n",
       "       [2.00e+00],\n",
       "       [1.00e+00],\n",
       "       [2.00e+00],\n",
       "       [2.00e+00],\n",
       "       [2.00e+00],\n",
       "       [2.00e+00],\n",
       "       [5.00e+00],\n",
       "       [2.00e+00],\n",
       "       [2.00e+00],\n",
       "       [1.00e+00],\n",
       "       [4.00e+00],\n",
       "       [8.00e+00],\n",
       "       [2.00e+00],\n",
       "       [3.00e+00],\n",
       "       [1.00e+00],\n",
       "       [5.00e+00],\n",
       "       [8.00e+00],\n",
       "       [3.00e+00],\n",
       "       [7.00e+00],\n",
       "       [6.00e+00],\n",
       "       [3.47e+02]], dtype=float32)"
      ]
     },
     "metadata": {},
     "output_type": "display_data"
    },
    {
     "data": {
      "text/plain": [
       "array([[1.210e+02],\n",
       "       [2.000e+00],\n",
       "       [4.000e+00],\n",
       "       [3.000e+00],\n",
       "       [2.000e+00],\n",
       "       [1.000e+00],\n",
       "       [0.000e+00],\n",
       "       [1.000e+00],\n",
       "       [0.000e+00],\n",
       "       [0.000e+00],\n",
       "       [1.000e+00],\n",
       "       [6.100e+01],\n",
       "       [9.000e+00],\n",
       "       [4.000e+00],\n",
       "       [5.000e+00],\n",
       "       [1.100e+01],\n",
       "       [6.000e+00],\n",
       "       [2.000e+00],\n",
       "       [6.000e+00],\n",
       "       [1.000e+00],\n",
       "       [4.000e+00],\n",
       "       [5.000e+00],\n",
       "       [1.000e+00],\n",
       "       [1.000e+00],\n",
       "       [2.000e+00],\n",
       "       [1.000e+00],\n",
       "       [2.000e+00],\n",
       "       [4.000e+00],\n",
       "       [2.000e+00],\n",
       "       [4.000e+00],\n",
       "       [1.000e+00],\n",
       "       [2.000e+00],\n",
       "       [1.000e+00],\n",
       "       [2.000e+00],\n",
       "       [2.000e+00],\n",
       "       [3.000e+00],\n",
       "       [2.000e+00],\n",
       "       [4.000e+00],\n",
       "       [1.000e+00],\n",
       "       [2.000e+00],\n",
       "       [1.000e+00],\n",
       "       [5.000e+00],\n",
       "       [2.000e+00],\n",
       "       [4.000e+00],\n",
       "       [0.000e+00],\n",
       "       [1.000e+00],\n",
       "       [2.000e+00],\n",
       "       [1.000e+00],\n",
       "       [3.000e+00],\n",
       "       [4.000e+00],\n",
       "       [2.000e+00],\n",
       "       [1.000e+00],\n",
       "       [1.000e+00],\n",
       "       [1.000e+00],\n",
       "       [2.000e+00],\n",
       "       [1.000e+00],\n",
       "       [4.000e+00],\n",
       "       [1.000e+00],\n",
       "       [1.000e+00],\n",
       "       [1.000e+00],\n",
       "       [1.000e+00],\n",
       "       [1.000e+00],\n",
       "       [0.000e+00],\n",
       "       [3.000e+00],\n",
       "       [2.000e+00],\n",
       "       [3.000e+00],\n",
       "       [1.000e+00],\n",
       "       [2.000e+00],\n",
       "       [0.000e+00],\n",
       "       [2.000e+00],\n",
       "       [1.000e+00],\n",
       "       [3.000e+00],\n",
       "       [1.000e+00],\n",
       "       [2.000e+00],\n",
       "       [5.000e+00],\n",
       "       [1.000e+00],\n",
       "       [4.000e+00],\n",
       "       [2.000e+00],\n",
       "       [0.000e+00],\n",
       "       [1.000e+00],\n",
       "       [1.000e+00],\n",
       "       [5.000e+00],\n",
       "       [1.000e+00],\n",
       "       [2.000e+00],\n",
       "       [0.000e+00],\n",
       "       [0.000e+00],\n",
       "       [5.000e+00],\n",
       "       [1.000e+00],\n",
       "       [0.000e+00],\n",
       "       [2.000e+00],\n",
       "       [3.000e+00],\n",
       "       [2.000e+00],\n",
       "       [3.000e+00],\n",
       "       [1.000e+00],\n",
       "       [2.000e+00],\n",
       "       [2.000e+00],\n",
       "       [2.000e+00],\n",
       "       [4.000e+00],\n",
       "       [0.000e+00],\n",
       "       [5.000e+00],\n",
       "       [3.000e+00],\n",
       "       [2.000e+00],\n",
       "       [2.000e+00],\n",
       "       [1.000e+00],\n",
       "       [2.000e+00],\n",
       "       [2.000e+00],\n",
       "       [0.000e+00],\n",
       "       [3.000e+00],\n",
       "       [6.000e+00],\n",
       "       [3.000e+00],\n",
       "       [1.000e+00],\n",
       "       [1.000e+00],\n",
       "       [1.000e+00],\n",
       "       [1.000e+00],\n",
       "       [2.000e+00],\n",
       "       [0.000e+00],\n",
       "       [1.000e+00],\n",
       "       [1.000e+00],\n",
       "       [3.000e+00],\n",
       "       [4.000e+00],\n",
       "       [5.000e+00],\n",
       "       [4.000e+00],\n",
       "       [6.000e+00],\n",
       "       [7.000e+00],\n",
       "       [2.970e+02],\n",
       "       [6.000e+00],\n",
       "       [3.000e+00],\n",
       "       [3.000e+00],\n",
       "       [2.000e+00],\n",
       "       [2.000e+00],\n",
       "       [3.000e+00],\n",
       "       [4.000e+00],\n",
       "       [4.000e+00],\n",
       "       [1.000e+00],\n",
       "       [1.000e+00],\n",
       "       [1.000e+00],\n",
       "       [6.000e+00],\n",
       "       [3.000e+00],\n",
       "       [1.000e+00],\n",
       "       [3.000e+00],\n",
       "       [2.000e+00],\n",
       "       [0.000e+00],\n",
       "       [1.000e+00],\n",
       "       [1.000e+00],\n",
       "       [2.000e+00],\n",
       "       [0.000e+00],\n",
       "       [0.000e+00],\n",
       "       [3.000e+00],\n",
       "       [1.000e+00],\n",
       "       [4.000e+00],\n",
       "       [3.000e+00],\n",
       "       [1.000e+00],\n",
       "       [1.000e+00],\n",
       "       [4.000e+00],\n",
       "       [2.000e+00],\n",
       "       [2.000e+00],\n",
       "       [2.000e+00],\n",
       "       [4.000e+00],\n",
       "       [2.000e+00],\n",
       "       [3.000e+00],\n",
       "       [2.000e+00],\n",
       "       [5.000e+00],\n",
       "       [2.000e+00],\n",
       "       [1.000e+00],\n",
       "       [4.000e+00],\n",
       "       [2.000e+00],\n",
       "       [1.000e+00],\n",
       "       [5.000e+00],\n",
       "       [1.000e+00],\n",
       "       [2.000e+00],\n",
       "       [3.000e+00],\n",
       "       [3.000e+00],\n",
       "       [2.000e+00],\n",
       "       [4.000e+00],\n",
       "       [1.000e+00],\n",
       "       [2.750e+02],\n",
       "       [3.500e+01],\n",
       "       [1.100e+01],\n",
       "       [1.600e+01],\n",
       "       [1.400e+01],\n",
       "       [1.100e+01],\n",
       "       [1.300e+01],\n",
       "       [9.000e+00],\n",
       "       [1.300e+01],\n",
       "       [1.000e+01],\n",
       "       [8.000e+00],\n",
       "       [1.300e+01],\n",
       "       [9.000e+00],\n",
       "       [1.000e+01],\n",
       "       [1.100e+01],\n",
       "       [1.100e+01],\n",
       "       [1.600e+01],\n",
       "       [1.300e+01],\n",
       "       [1.100e+01],\n",
       "       [1.700e+01],\n",
       "       [1.700e+01],\n",
       "       [1.400e+01],\n",
       "       [1.700e+01],\n",
       "       [2.800e+01],\n",
       "       [1.361e+03],\n",
       "       [6.000e+00],\n",
       "       [4.000e+00],\n",
       "       [3.000e+00],\n",
       "       [2.000e+00],\n",
       "       [3.000e+00],\n",
       "       [1.000e+00],\n",
       "       [0.000e+00],\n",
       "       [3.000e+00],\n",
       "       [0.000e+00],\n",
       "       [3.000e+00],\n",
       "       [3.000e+00],\n",
       "       [3.000e+00],\n",
       "       [3.000e+00],\n",
       "       [4.000e+00],\n",
       "       [3.000e+00],\n",
       "       [2.000e+00],\n",
       "       [1.000e+00],\n",
       "       [4.000e+00],\n",
       "       [1.000e+00],\n",
       "       [1.000e+00],\n",
       "       [4.000e+00],\n",
       "       [3.000e+00],\n",
       "       [1.000e+00],\n",
       "       [1.000e+00],\n",
       "       [2.000e+00],\n",
       "       [3.000e+00],\n",
       "       [1.000e+00],\n",
       "       [1.000e+00],\n",
       "       [3.000e+00],\n",
       "       [5.000e+00],\n",
       "       [2.000e+00],\n",
       "       [2.000e+00],\n",
       "       [2.000e+00],\n",
       "       [5.000e+00],\n",
       "       [3.000e+00],\n",
       "       [2.000e+00],\n",
       "       [6.000e+00],\n",
       "       [4.000e+00],\n",
       "       [1.000e+00],\n",
       "       [2.000e+00],\n",
       "       [2.000e+00],\n",
       "       [2.000e+00],\n",
       "       [3.000e+00],\n",
       "       [4.000e+00],\n",
       "       [2.000e+00],\n",
       "       [3.000e+00],\n",
       "       [6.000e+00],\n",
       "       [4.000e+00],\n",
       "       [8.000e+00],\n",
       "       [4.000e+00],\n",
       "       [2.000e+00],\n",
       "       [5.000e+00],\n",
       "       [1.000e+01],\n",
       "       [6.000e+00],\n",
       "       [1.200e+01],\n",
       "       [3.480e+02]], dtype=float32)"
      ]
     },
     "metadata": {},
     "output_type": "display_data"
    }
   ],
   "source": [
    "chans = cv2.split(temp)\n",
    "colors = ('b', 'g', 'r')\n",
    "features = []\n",
    "feature_data = ''\n",
    "\n",
    "for (chan, color) in zip(chans, colors):\n",
    "    hist = cv2.calcHist([chan], [0], None, [256], [0,256])\n",
    "    \n"
   ]
  },
  {
   "cell_type": "code",
   "execution_count": 23,
   "metadata": {},
   "outputs": [
    {
     "name": "stdout",
     "output_type": "stream",
     "text": [
      "182\n",
      "205\n",
      "251\n"
     ]
    }
   ],
   "source": [
    "chans = cv2.split(temp)\n",
    "colors = ('b', 'g', 'r')\n",
    "features = []\n",
    "feature_data = ''\n",
    "counter = 0\n",
    "for (chan, color) in zip(chans, colors):\n",
    "    counter = counter + 1\n",
    "\n",
    "    hist = cv2.calcHist([chan], [0], None, [256], [0, 256])\n",
    "    features.extend(hist)\n",
    "\n",
    "    # find the peak pixel values for R, G, and B\n",
    "    elem = np.argmax(hist)\n",
    "    print(elem)\n",
    "\n",
    "    if counter == 1:\n",
    "        blue = str(elem)\n",
    "    elif counter == 2:\n",
    "        green = str(elem)\n",
    "    elif counter == 3:\n",
    "        red = str(elem)\n",
    "        feature_data = red + ',' + green + ',' + blue"
   ]
  },
  {
   "cell_type": "code",
   "execution_count": 22,
   "metadata": {},
   "outputs": [
    {
     "name": "stdout",
     "output_type": "stream",
     "text": [
      "251,205,182\n"
     ]
    }
   ],
   "source": [
    "print(feature_data)"
   ]
  },
  {
   "cell_type": "code",
   "execution_count": null,
   "metadata": {},
   "outputs": [],
   "source": []
  },
  {
   "cell_type": "code",
   "execution_count": null,
   "metadata": {},
   "outputs": [],
   "source": []
  },
  {
   "cell_type": "markdown",
   "metadata": {},
   "source": [
    "### Trying to detect colour of the eye"
   ]
  },
  {
   "cell_type": "code",
   "execution_count": 87,
   "metadata": {},
   "outputs": [],
   "source": [
    "## Colour B-G-R code (0-255) -- High priority has better range\n",
    "# Green 67-147-114 // priority in G\n",
    "# lowGreen 47-107-94  # highGreen 87-187-134\n",
    "\n",
    "# Black 0-0-0 // all priority in low\n",
    "# lowBlack 0-0-0  ## highBlack 30-30-30\n",
    "\n",
    "# Brown 53-72-124 // priority in R\n",
    "# lowBrown 33-52-84  ## highBrown 73-92-164\n",
    "\n",
    "# Gray/Torq 160-164-148 // priority in high\n",
    "# lowGray 145-139-113  ## highGray 185-189-168\n",
    "\n",
    "# Blue 160-114-52 // priority in B\n",
    "# lowBlue 120-94-32  ## highBlue 200-134-72\n",
    "\n",
    "boundaries = [([47,107,94],[87,187,134]),\n",
    "              ([120,94,32],[200,134,72]),\n",
    "              ([33,52,84],[73,92,164]),\n",
    "              ([145,139,113],[185,189,168])]\n",
    "#               ([0,0,0],[30,30,30])]"
   ]
  },
  {
   "cell_type": "code",
   "execution_count": 88,
   "metadata": {},
   "outputs": [
    {
     "data": {
      "image/png": "[encoded data removed]",
      "text/plain": [
       "<Figure size 432x288 with 1 Axes>"
      ]
     },
     "metadata": {
      "needs_background": "light"
     },
     "output_type": "display_data"
    }
   ],
   "source": [
    "\n",
    "# loop over the boundaries\n",
    "for (lower, upper) in boundaries:\n",
    "    # create NumPy arrays from the boundaries\n",
    "    lower = np.array(lower, dtype = \"uint8\")\n",
    "    upper = np.array(upper, dtype = \"uint8\")\n",
    "\n",
    "    # find the colors within the specified boundaries and apply\n",
    "    # the mask\n",
    "    mask = cv2.inRange(temp, lower, upper)\n",
    "    output = cv2.bitwise_and(temp, temp, mask = mask)\n",
    "\n",
    "    # show the images\n",
    "    imageoutput = np.hstack([temp, output])\n",
    "    image_plot = plt.imshow(imageoutput)"
   ]
  },
  {
   "cell_type": "code",
   "execution_count": 7,
   "metadata": {},
   "outputs": [
    {
     "ename": "ValueError",
     "evalue": "zero-size array to reduction operation minimum which has no identity",
     "output_type": "error",
     "traceback": [
      "\u001b[1;31m---------------------------------------------------------------------------\u001b[0m",
      "\u001b[1;31mValueError\u001b[0m                                Traceback (most recent call last)",
      "\u001b[1;32m<ipython-input-7-8b9fd9291e10>\u001b[0m in \u001b[0;36m<module>\u001b[1;34m\u001b[0m\n\u001b[0;32m     14\u001b[0m     \u001b[0ma\u001b[0m\u001b[1;33m=\u001b[0m\u001b[0mfig\u001b[0m\u001b[1;33m.\u001b[0m\u001b[0madd_subplot\u001b[0m\u001b[1;33m(\u001b[0m\u001b[1;36m1\u001b[0m\u001b[1;33m,\u001b[0m \u001b[0mnum_images\u001b[0m\u001b[1;33m,\u001b[0m \u001b[0mimage_idx\u001b[0m\u001b[1;33m+\u001b[0m\u001b[1;36m1\u001b[0m\u001b[1;33m)\u001b[0m\u001b[1;33m\u001b[0m\u001b[1;33m\u001b[0m\u001b[0m\n\u001b[0;32m     15\u001b[0m     \u001b[1;31m# Add the image to the plot\u001b[0m\u001b[1;33m\u001b[0m\u001b[1;33m\u001b[0m\u001b[1;33m\u001b[0m\u001b[0m\n\u001b[1;32m---> 16\u001b[1;33m     \u001b[0mimage_plot\u001b[0m \u001b[1;33m=\u001b[0m \u001b[0mplt\u001b[0m\u001b[1;33m.\u001b[0m\u001b[0mimshow\u001b[0m\u001b[1;33m(\u001b[0m\u001b[0mimg_list\u001b[0m\u001b[1;33m[\u001b[0m\u001b[0mimage_idx\u001b[0m\u001b[1;33m]\u001b[0m\u001b[1;33m)\u001b[0m\u001b[1;33m\u001b[0m\u001b[1;33m\u001b[0m\u001b[0m\n\u001b[0m\u001b[0;32m     17\u001b[0m     \u001b[1;31m# Add a caption with the folder name\u001b[0m\u001b[1;33m\u001b[0m\u001b[1;33m\u001b[0m\u001b[1;33m\u001b[0m\u001b[0m\n\u001b[0;32m     18\u001b[0m     \u001b[0ma\u001b[0m\u001b[1;33m.\u001b[0m\u001b[0mset_title\u001b[0m\u001b[1;33m(\u001b[0m\u001b[1;34m\"Image \"\u001b[0m \u001b[1;33m+\u001b[0m \u001b[0mexample_image\u001b[0m\u001b[1;33m[\u001b[0m\u001b[0mimage_idx\u001b[0m\u001b[1;33m]\u001b[0m\u001b[1;33m)\u001b[0m\u001b[1;33m\u001b[0m\u001b[1;33m\u001b[0m\u001b[0m\n",
      "\u001b[1;32m~\\Anaconda3\\lib\\site-packages\\matplotlib\\pyplot.py\u001b[0m in \u001b[0;36mimshow\u001b[1;34m(X, cmap, norm, aspect, interpolation, alpha, vmin, vmax, origin, extent, shape, filternorm, filterrad, imlim, resample, url, data, **kwargs)\u001b[0m\n\u001b[0;32m   2675\u001b[0m         \u001b[0mfilternorm\u001b[0m\u001b[1;33m=\u001b[0m\u001b[0mfilternorm\u001b[0m\u001b[1;33m,\u001b[0m \u001b[0mfilterrad\u001b[0m\u001b[1;33m=\u001b[0m\u001b[0mfilterrad\u001b[0m\u001b[1;33m,\u001b[0m \u001b[0mimlim\u001b[0m\u001b[1;33m=\u001b[0m\u001b[0mimlim\u001b[0m\u001b[1;33m,\u001b[0m\u001b[1;33m\u001b[0m\u001b[1;33m\u001b[0m\u001b[0m\n\u001b[0;32m   2676\u001b[0m         resample=resample, url=url, **({\"data\": data} if data is not\n\u001b[1;32m-> 2677\u001b[1;33m         None else {}), **kwargs)\n\u001b[0m\u001b[0;32m   2678\u001b[0m     \u001b[0msci\u001b[0m\u001b[1;33m(\u001b[0m\u001b[0m__ret\u001b[0m\u001b[1;33m)\u001b[0m\u001b[1;33m\u001b[0m\u001b[1;33m\u001b[0m\u001b[0m\n\u001b[0;32m   2679\u001b[0m     \u001b[1;32mreturn\u001b[0m \u001b[0m__ret\u001b[0m\u001b[1;33m\u001b[0m\u001b[1;33m\u001b[0m\u001b[0m\n",
      "\u001b[1;32m~\\Anaconda3\\lib\\site-packages\\matplotlib\\__init__.py\u001b[0m in \u001b[0;36minner\u001b[1;34m(ax, data, *args, **kwargs)\u001b[0m\n\u001b[0;32m   1597\u001b[0m     \u001b[1;32mdef\u001b[0m \u001b[0minner\u001b[0m\u001b[1;33m(\u001b[0m\u001b[0max\u001b[0m\u001b[1;33m,\u001b[0m \u001b[1;33m*\u001b[0m\u001b[0margs\u001b[0m\u001b[1;33m,\u001b[0m \u001b[0mdata\u001b[0m\u001b[1;33m=\u001b[0m\u001b[1;32mNone\u001b[0m\u001b[1;33m,\u001b[0m \u001b[1;33m**\u001b[0m\u001b[0mkwargs\u001b[0m\u001b[1;33m)\u001b[0m\u001b[1;33m:\u001b[0m\u001b[1;33m\u001b[0m\u001b[1;33m\u001b[0m\u001b[0m\n\u001b[0;32m   1598\u001b[0m         \u001b[1;32mif\u001b[0m \u001b[0mdata\u001b[0m \u001b[1;32mis\u001b[0m \u001b[1;32mNone\u001b[0m\u001b[1;33m:\u001b[0m\u001b[1;33m\u001b[0m\u001b[1;33m\u001b[0m\u001b[0m\n\u001b[1;32m-> 1599\u001b[1;33m             \u001b[1;32mreturn\u001b[0m \u001b[0mfunc\u001b[0m\u001b[1;33m(\u001b[0m\u001b[0max\u001b[0m\u001b[1;33m,\u001b[0m \u001b[1;33m*\u001b[0m\u001b[0mmap\u001b[0m\u001b[1;33m(\u001b[0m\u001b[0msanitize_sequence\u001b[0m\u001b[1;33m,\u001b[0m \u001b[0margs\u001b[0m\u001b[1;33m)\u001b[0m\u001b[1;33m,\u001b[0m \u001b[1;33m**\u001b[0m\u001b[0mkwargs\u001b[0m\u001b[1;33m)\u001b[0m\u001b[1;33m\u001b[0m\u001b[1;33m\u001b[0m\u001b[0m\n\u001b[0m\u001b[0;32m   1600\u001b[0m \u001b[1;33m\u001b[0m\u001b[0m\n\u001b[0;32m   1601\u001b[0m         \u001b[0mbound\u001b[0m \u001b[1;33m=\u001b[0m \u001b[0mnew_sig\u001b[0m\u001b[1;33m.\u001b[0m\u001b[0mbind\u001b[0m\u001b[1;33m(\u001b[0m\u001b[0max\u001b[0m\u001b[1;33m,\u001b[0m \u001b[1;33m*\u001b[0m\u001b[0margs\u001b[0m\u001b[1;33m,\u001b[0m \u001b[1;33m**\u001b[0m\u001b[0mkwargs\u001b[0m\u001b[1;33m)\u001b[0m\u001b[1;33m\u001b[0m\u001b[1;33m\u001b[0m\u001b[0m\n",
      "\u001b[1;32m~\\Anaconda3\\lib\\site-packages\\matplotlib\\cbook\\deprecation.py\u001b[0m in \u001b[0;36mwrapper\u001b[1;34m(*args, **kwargs)\u001b[0m\n\u001b[0;32m    367\u001b[0m                 \u001b[1;34mf\"%(removal)s.  If any parameter follows {name!r}, they \"\u001b[0m\u001b[1;33m\u001b[0m\u001b[1;33m\u001b[0m\u001b[0m\n\u001b[0;32m    368\u001b[0m                 f\"should be pass as keyword, not positionally.\")\n\u001b[1;32m--> 369\u001b[1;33m         \u001b[1;32mreturn\u001b[0m \u001b[0mfunc\u001b[0m\u001b[1;33m(\u001b[0m\u001b[1;33m*\u001b[0m\u001b[0margs\u001b[0m\u001b[1;33m,\u001b[0m \u001b[1;33m**\u001b[0m\u001b[0mkwargs\u001b[0m\u001b[1;33m)\u001b[0m\u001b[1;33m\u001b[0m\u001b[1;33m\u001b[0m\u001b[0m\n\u001b[0m\u001b[0;32m    370\u001b[0m \u001b[1;33m\u001b[0m\u001b[0m\n\u001b[0;32m    371\u001b[0m     \u001b[1;32mreturn\u001b[0m \u001b[0mwrapper\u001b[0m\u001b[1;33m\u001b[0m\u001b[1;33m\u001b[0m\u001b[0m\n",
      "\u001b[1;32m~\\Anaconda3\\lib\\site-packages\\matplotlib\\cbook\\deprecation.py\u001b[0m in \u001b[0;36mwrapper\u001b[1;34m(*args, **kwargs)\u001b[0m\n\u001b[0;32m    367\u001b[0m                 \u001b[1;34mf\"%(removal)s.  If any parameter follows {name!r}, they \"\u001b[0m\u001b[1;33m\u001b[0m\u001b[1;33m\u001b[0m\u001b[0m\n\u001b[0;32m    368\u001b[0m                 f\"should be pass as keyword, not positionally.\")\n\u001b[1;32m--> 369\u001b[1;33m         \u001b[1;32mreturn\u001b[0m \u001b[0mfunc\u001b[0m\u001b[1;33m(\u001b[0m\u001b[1;33m*\u001b[0m\u001b[0margs\u001b[0m\u001b[1;33m,\u001b[0m \u001b[1;33m**\u001b[0m\u001b[0mkwargs\u001b[0m\u001b[1;33m)\u001b[0m\u001b[1;33m\u001b[0m\u001b[1;33m\u001b[0m\u001b[0m\n\u001b[0m\u001b[0;32m    370\u001b[0m \u001b[1;33m\u001b[0m\u001b[0m\n\u001b[0;32m    371\u001b[0m     \u001b[1;32mreturn\u001b[0m \u001b[0mwrapper\u001b[0m\u001b[1;33m\u001b[0m\u001b[1;33m\u001b[0m\u001b[0m\n",
      "\u001b[1;32m~\\Anaconda3\\lib\\site-packages\\matplotlib\\axes\\_axes.py\u001b[0m in \u001b[0;36mimshow\u001b[1;34m(self, X, cmap, norm, aspect, interpolation, alpha, vmin, vmax, origin, extent, shape, filternorm, filterrad, imlim, resample, url, **kwargs)\u001b[0m\n\u001b[0;32m   5677\u001b[0m                               resample=resample, **kwargs)\n\u001b[0;32m   5678\u001b[0m \u001b[1;33m\u001b[0m\u001b[0m\n\u001b[1;32m-> 5679\u001b[1;33m         \u001b[0mim\u001b[0m\u001b[1;33m.\u001b[0m\u001b[0mset_data\u001b[0m\u001b[1;33m(\u001b[0m\u001b[0mX\u001b[0m\u001b[1;33m)\u001b[0m\u001b[1;33m\u001b[0m\u001b[1;33m\u001b[0m\u001b[0m\n\u001b[0m\u001b[0;32m   5680\u001b[0m         \u001b[0mim\u001b[0m\u001b[1;33m.\u001b[0m\u001b[0mset_alpha\u001b[0m\u001b[1;33m(\u001b[0m\u001b[0malpha\u001b[0m\u001b[1;33m)\u001b[0m\u001b[1;33m\u001b[0m\u001b[1;33m\u001b[0m\u001b[0m\n\u001b[0;32m   5681\u001b[0m         \u001b[1;32mif\u001b[0m \u001b[0mim\u001b[0m\u001b[1;33m.\u001b[0m\u001b[0mget_clip_path\u001b[0m\u001b[1;33m(\u001b[0m\u001b[1;33m)\u001b[0m \u001b[1;32mis\u001b[0m \u001b[1;32mNone\u001b[0m\u001b[1;33m:\u001b[0m\u001b[1;33m\u001b[0m\u001b[1;33m\u001b[0m\u001b[0m\n",
      "\u001b[1;32m~\\Anaconda3\\lib\\site-packages\\matplotlib\\image.py\u001b[0m in \u001b[0;36mset_data\u001b[1;34m(self, A)\u001b[0m\n\u001b[0;32m    696\u001b[0m             \u001b[1;31m# making reliable interpretation impossible.\u001b[0m\u001b[1;33m\u001b[0m\u001b[1;33m\u001b[0m\u001b[1;33m\u001b[0m\u001b[0m\n\u001b[0;32m    697\u001b[0m             \u001b[0mhigh\u001b[0m \u001b[1;33m=\u001b[0m \u001b[1;36m255\u001b[0m \u001b[1;32mif\u001b[0m \u001b[0mnp\u001b[0m\u001b[1;33m.\u001b[0m\u001b[0missubdtype\u001b[0m\u001b[1;33m(\u001b[0m\u001b[0mself\u001b[0m\u001b[1;33m.\u001b[0m\u001b[0m_A\u001b[0m\u001b[1;33m.\u001b[0m\u001b[0mdtype\u001b[0m\u001b[1;33m,\u001b[0m \u001b[0mnp\u001b[0m\u001b[1;33m.\u001b[0m\u001b[0minteger\u001b[0m\u001b[1;33m)\u001b[0m \u001b[1;32melse\u001b[0m \u001b[1;36m1\u001b[0m\u001b[1;33m\u001b[0m\u001b[1;33m\u001b[0m\u001b[0m\n\u001b[1;32m--> 698\u001b[1;33m             \u001b[1;32mif\u001b[0m \u001b[0mself\u001b[0m\u001b[1;33m.\u001b[0m\u001b[0m_A\u001b[0m\u001b[1;33m.\u001b[0m\u001b[0mmin\u001b[0m\u001b[1;33m(\u001b[0m\u001b[1;33m)\u001b[0m \u001b[1;33m<\u001b[0m \u001b[1;36m0\u001b[0m \u001b[1;32mor\u001b[0m \u001b[0mhigh\u001b[0m \u001b[1;33m<\u001b[0m \u001b[0mself\u001b[0m\u001b[1;33m.\u001b[0m\u001b[0m_A\u001b[0m\u001b[1;33m.\u001b[0m\u001b[0mmax\u001b[0m\u001b[1;33m(\u001b[0m\u001b[1;33m)\u001b[0m\u001b[1;33m:\u001b[0m\u001b[1;33m\u001b[0m\u001b[1;33m\u001b[0m\u001b[0m\n\u001b[0m\u001b[0;32m    699\u001b[0m                 _log.warning(\n\u001b[0;32m    700\u001b[0m                     \u001b[1;34m'Clipping input data to the valid range for imshow with '\u001b[0m\u001b[1;33m\u001b[0m\u001b[1;33m\u001b[0m\u001b[0m\n",
      "\u001b[1;32m~\\Anaconda3\\lib\\site-packages\\numpy\\ma\\core.py\u001b[0m in \u001b[0;36mmin\u001b[1;34m(self, axis, out, fill_value, keepdims)\u001b[0m\n\u001b[0;32m   5639\u001b[0m         \u001b[1;32mif\u001b[0m \u001b[0mout\u001b[0m \u001b[1;32mis\u001b[0m \u001b[1;32mNone\u001b[0m\u001b[1;33m:\u001b[0m\u001b[1;33m\u001b[0m\u001b[1;33m\u001b[0m\u001b[0m\n\u001b[0;32m   5640\u001b[0m             result = self.filled(fill_value).min(\n\u001b[1;32m-> 5641\u001b[1;33m                 axis=axis, out=out, **kwargs).view(type(self))\n\u001b[0m\u001b[0;32m   5642\u001b[0m             \u001b[1;32mif\u001b[0m \u001b[0mresult\u001b[0m\u001b[1;33m.\u001b[0m\u001b[0mndim\u001b[0m\u001b[1;33m:\u001b[0m\u001b[1;33m\u001b[0m\u001b[1;33m\u001b[0m\u001b[0m\n\u001b[0;32m   5643\u001b[0m                 \u001b[1;31m# Set the mask\u001b[0m\u001b[1;33m\u001b[0m\u001b[1;33m\u001b[0m\u001b[1;33m\u001b[0m\u001b[0m\n",
      "\u001b[1;32m~\\Anaconda3\\lib\\site-packages\\numpy\\core\\_methods.py\u001b[0m in \u001b[0;36m_amin\u001b[1;34m(a, axis, out, keepdims, initial, where)\u001b[0m\n\u001b[0;32m     32\u001b[0m def _amin(a, axis=None, out=None, keepdims=False,\n\u001b[0;32m     33\u001b[0m           initial=_NoValue, where=True):\n\u001b[1;32m---> 34\u001b[1;33m     \u001b[1;32mreturn\u001b[0m \u001b[0mumr_minimum\u001b[0m\u001b[1;33m(\u001b[0m\u001b[0ma\u001b[0m\u001b[1;33m,\u001b[0m \u001b[0maxis\u001b[0m\u001b[1;33m,\u001b[0m \u001b[1;32mNone\u001b[0m\u001b[1;33m,\u001b[0m \u001b[0mout\u001b[0m\u001b[1;33m,\u001b[0m \u001b[0mkeepdims\u001b[0m\u001b[1;33m,\u001b[0m \u001b[0minitial\u001b[0m\u001b[1;33m,\u001b[0m \u001b[0mwhere\u001b[0m\u001b[1;33m)\u001b[0m\u001b[1;33m\u001b[0m\u001b[1;33m\u001b[0m\u001b[0m\n\u001b[0m\u001b[0;32m     35\u001b[0m \u001b[1;33m\u001b[0m\u001b[0m\n\u001b[0;32m     36\u001b[0m def _sum(a, axis=None, dtype=None, out=None, keepdims=False,\n",
      "\u001b[1;31mValueError\u001b[0m: zero-size array to reduction operation minimum which has no identity"
     ]
    },
    {
     "data": {
      "text/plain": [
       "<Figure size 1440x1440 with 0 Axes>"
      ]
     },
     "metadata": {},
     "output_type": "display_data"
    },
    {
     "data": {
      "image/png": "[encoded data removed]",
      "text/plain": [
       "<Figure size 1080x1080 with 1 Axes>"
      ]
     },
     "metadata": {
      "needs_background": "light"
     },
     "output_type": "display_data"
    }
   ],
   "source": [
    "# example_image = ['1010.png','1159.png','4066.png','2368.png','3034.png']\n",
    "example_image = ['1010.png']\n",
    "img_list = []\n",
    "fig = plt.figure(figsize = (20,20))\n",
    "\n",
    "for example_img in example_image:\n",
    "    img_list.append(geteye(images_dir, example_img))\n",
    "    \n",
    "fig = plt.figure(figsize=(15,15))\n",
    "num_images = len(img_list)\n",
    "\n",
    "for image_idx in range(num_images):\n",
    "    # Keep an incrementing count of each image\n",
    "    a=fig.add_subplot(1, num_images, image_idx+1)\n",
    "    # Add the image to the plot\n",
    "    image_plot = plt.imshow(img_list[image_idx])\n",
    "    # Add a caption with the folder name\n",
    "    a.set_title(\"Image \" + example_image[image_idx])\n",
    "\n",
    "plt.show()"
   ]
  },
  {
   "cell_type": "code",
   "execution_count": null,
   "metadata": {},
   "outputs": [],
   "source": []
  },
  {
   "cell_type": "code",
   "execution_count": null,
   "metadata": {},
   "outputs": [],
   "source": []
  },
  {
   "cell_type": "code",
   "execution_count": null,
   "metadata": {},
   "outputs": [],
   "source": []
  },
  {
   "cell_type": "code",
   "execution_count": 8,
   "metadata": {},
   "outputs": [],
   "source": [
    "detector = dlib.get_frontal_face_detector()\n",
    "predictor = dlib.shape_predictor('shape_predictor_68_face_landmarks.dat')"
   ]
  },
  {
   "cell_type": "code",
   "execution_count": 9,
   "metadata": {},
   "outputs": [],
   "source": [
    "def extract_features_labels(images_dir, labels_dir): ## eye colour, face shape\n",
    "    \"\"\" return:\n",
    "        landmark_features:  an array containing 68 landmark points for each image in celeba folder\n",
    "        fshape_labels:      an array containing the face shape label (0,1,2,3,4) for each image\n",
    "    \"\"\"\n",
    "    image_paths = [os.path.join(images_dir, l) for l in os.listdir(images_dir)] ##filename in matrix\n",
    "    target_size = None\n",
    "    labels_file = open(labels_dir, 'r')\n",
    "    lines = labels_file.readlines()\n",
    "    fshape_labels = {line.split('\\t')[0] : int(line.split('\\t')[2]) for line in lines[1:]} ##fetch filename + faceshape\n",
    "#     ecolor_labels = {line.split('\\t')[0] : int(line.split('\\t')[1]) for line in lines[1:]} \n",
    "    if os.path.isdir(images_dir):\n",
    "        all_features = []\n",
    "        all_labels = []\n",
    "        error_features = []\n",
    "        for img_path in image_paths:\n",
    "            file_name= img_path.split('.')[0].split('\\\\')[-1] ##getting name of file; remove png/jpg + dir\n",
    "\n",
    "            # load image\n",
    "            img = image.img_to_array(\n",
    "                image.load_img(img_path,\n",
    "                               target_size=target_size,\n",
    "                               interpolation='bicubic'))\n",
    "            features, _ = run_dlib_shape(img)\n",
    "            if features is not None:\n",
    "                all_features.append(features)\n",
    "                all_labels.append(fshape_labels[file_name])\n",
    "            if features is None:\n",
    "                error_features.append(file_name)\n",
    "                \n",
    "\n",
    "    landmark_features = np.array(all_features)\n",
    "    fshape_labels = np.array(all_labels)\n",
    "    return landmark_features, fshape_labels, error_features\n",
    "\n",
    "def shape_to_np(shape, dtype=\"int\"):\n",
    "    # initialize the list of (x, y)-coordinates\n",
    "    coords = np.zeros((shape.num_parts, 2), dtype=dtype)\n",
    "\n",
    "    # loop over all facial landmarks and convert them\n",
    "    # to a 2-tuple of (x, y)-coordinates\n",
    "    for i in range(0, shape.num_parts):\n",
    "        coords[i] = (shape.part(i).x, shape.part(i).y)\n",
    "\n",
    "    # return the list of (x, y)-coordinates\n",
    "    return coords\n",
    "\n",
    "def rect_to_bb(rect):\n",
    "    # take a bounding predicted by dlib and convert it\n",
    "    # to the format (x, y, w, h) as we would normally do\n",
    "    # with OpenCV\n",
    "    x = rect.left()\n",
    "    y = rect.top()\n",
    "    w = rect.right() - x\n",
    "    h = rect.bottom() - y\n",
    "\n",
    "    # return a tuple of (x, y, w, h)\n",
    "    return (x, y, w, h)\n",
    "\n",
    "\n",
    "def run_dlib_shape(image):\n",
    "    # in this function we load the image, detect the landmarks of the face, and then return the image and the landmarks\n",
    "    # load the input image, resize it, and convert it to grayscale\n",
    "    resized_image = image.astype('uint8')\n",
    "\n",
    "    gray = cv2.cvtColor(resized_image, cv2.COLOR_BGR2GRAY)\n",
    "    gray = gray.astype('uint8')\n",
    "\n",
    "    # detect faces in the grayscale image\n",
    "    rects = detector(gray, 1)\n",
    "    num_faces = len(rects)\n",
    "\n",
    "    if num_faces == 0:\n",
    "        return None, resized_image\n",
    "\n",
    "    face_areas = np.zeros((1, num_faces))\n",
    "    face_shapes = np.zeros((136, num_faces), dtype=np.int64)\n",
    "\n",
    "    # loop over the face detections\n",
    "    for (i, rect) in enumerate(rects):\n",
    "        # determine the facial landmarks for the face region, then\n",
    "        # convert the facial landmark (x, y)-coordinates to a NumPy\n",
    "        # array\n",
    "        temp_shape = predictor(gray, rect)\n",
    "        temp_shape = shape_to_np(temp_shape)\n",
    "\n",
    "        # convert dlib's rectangle to a OpenCV-style bounding box\n",
    "        # [i.e., (x, y, w, h)],\n",
    "        #   (x, y, w, h) = face_utils.rect_to_bb(rect)\n",
    "        (x, y, w, h) = rect_to_bb(rect)\n",
    "        face_shapes[:, i] = np.reshape(temp_shape, [136])\n",
    "        face_areas[0, i] = w * h\n",
    "    # find largest face and keep\n",
    "    dlibout = np.reshape(np.transpose(face_shapes[:, np.argmax(face_areas)]), [68, 2])\n",
    "\n",
    "    return dlibout, resized_image\n",
    "    \n",
    "def totuple(a):\n",
    "    try:\n",
    "        return tuple(totuple(i) for i in a)\n",
    "    except TypeError:\n",
    "        return a"
   ]
  },
  {
   "cell_type": "code",
   "execution_count": 10,
   "metadata": {},
   "outputs": [
    {
     "data": {
      "image/png": "[encoded data removed]",
      "text/plain": [
       "<Figure size 1440x1440 with 5 Axes>"
      ]
     },
     "metadata": {
      "needs_background": "light"
     },
     "output_type": "display_data"
    }
   ],
   "source": [
    "example_image = ['1010.png','1159.png','4066.png','2368.png','3034.png']\n",
    "img_list = []\n",
    "img_id = 1\n",
    "fig = plt.figure(figsize = (20,20))\n",
    "\n",
    "for example_img in example_image:\n",
    "    path = os.path.join(images_dir, example_img)\n",
    "    ex_img = image.img_to_array(image.load_img(path, target_size = None, interpolation='bicubic'))\n",
    "    ex_feat,_ = run_dlib_shape(ex_img)\n",
    "    cv_img = cv2.imread(path)\n",
    "    \n",
    "    a=fig.add_subplot(1, len(example_image), img_id)\n",
    "    image_plot = plt.imshow(cv_img)\n",
    "    a.set_title(\"Image \" + example_img)\n",
    "    img_id = img_id+1\n",
    "    \n",
    "    if ex_feat is not None:\n",
    "        x,y = np.split(ex_feat, 2, axis=1)\n",
    "        plt.scatter(x,y,c='red', s=2)\n",
    "\n",
    "plt.show()"
   ]
  },
  {
   "cell_type": "code",
   "execution_count": 22,
   "metadata": {},
   "outputs": [
    {
     "data": {
      "image/png": "[encoded data removed]",
      "text/plain": [
       "<Figure size 432x288 with 1 Axes>"
      ]
     },
     "metadata": {
      "needs_background": "light"
     },
     "output_type": "display_data"
    }
   ],
   "source": [
    "def eye_crop_img(file_dir): ## Crop to get only right eye\n",
    "    orig = cv2.imread(file_dir)\n",
    "    crop = orig[240:280 , 180:230]\n",
    "    \n",
    "#     crop = orig[180:220 , 240:290]\n",
    "    return crop\n",
    "\n",
    "temp = eye_crop_img(os.path.join(images_dir, '102.png'))\n",
    "image_plot = plt.imshow(temp)"
   ]
  },
  {
   "cell_type": "code",
   "execution_count": null,
   "metadata": {},
   "outputs": [],
   "source": []
  }
 ],
 "metadata": {
  "kernelspec": {
   "display_name": "Python 3",
   "language": "python",
   "name": "python3"
  },
  "language_info": {
   "codemirror_mode": {
    "name": "ipython",
    "version": 3
   },
   "file_extension": ".py",
   "mimetype": "text/x-python",
   "name": "python",
   "nbconvert_exporter": "python",
   "pygments_lexer": "ipython3",
   "version": "3.6.9"
  }
 },
 "nbformat": 4,
 "nbformat_minor": 2
}
