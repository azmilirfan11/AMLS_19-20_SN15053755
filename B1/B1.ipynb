{
 "cells": [
  {
   "cell_type": "markdown",
   "metadata": {},
   "source": [
    "# Task B1 - Face Shape Detector\n",
    "\n",
    "by Mohamed Azmil Irfan Mohamed Amiruddin\n",
    "\n",
    "(AMLS 19/20 ASSIGNMENT)"
   ]
  },
  {
   "cell_type": "markdown",
   "metadata": {},
   "source": [
    "## Import Library"
   ]
  },
  {
   "cell_type": "code",
   "execution_count": 1,
   "metadata": {},
   "outputs": [
    {
     "name": "stderr",
     "output_type": "stream",
     "text": [
      "Using TensorFlow backend.\n",
      "C:\\Users\\Bear-\\Anaconda3\\lib\\site-packages\\tensorflow\\python\\framework\\dtypes.py:526: FutureWarning: Passing (type, 1) or '1type' as a synonym of type is deprecated; in a future version of numpy, it will be understood as (type, (1,)) / '(1,)type'.\n",
      "  _np_qint8 = np.dtype([(\"qint8\", np.int8, 1)])\n",
      "C:\\Users\\Bear-\\Anaconda3\\lib\\site-packages\\tensorflow\\python\\framework\\dtypes.py:527: FutureWarning: Passing (type, 1) or '1type' as a synonym of type is deprecated; in a future version of numpy, it will be understood as (type, (1,)) / '(1,)type'.\n",
      "  _np_quint8 = np.dtype([(\"quint8\", np.uint8, 1)])\n",
      "C:\\Users\\Bear-\\Anaconda3\\lib\\site-packages\\tensorflow\\python\\framework\\dtypes.py:528: FutureWarning: Passing (type, 1) or '1type' as a synonym of type is deprecated; in a future version of numpy, it will be understood as (type, (1,)) / '(1,)type'.\n",
      "  _np_qint16 = np.dtype([(\"qint16\", np.int16, 1)])\n",
      "C:\\Users\\Bear-\\Anaconda3\\lib\\site-packages\\tensorflow\\python\\framework\\dtypes.py:529: FutureWarning: Passing (type, 1) or '1type' as a synonym of type is deprecated; in a future version of numpy, it will be understood as (type, (1,)) / '(1,)type'.\n",
      "  _np_quint16 = np.dtype([(\"quint16\", np.uint16, 1)])\n",
      "C:\\Users\\Bear-\\Anaconda3\\lib\\site-packages\\tensorflow\\python\\framework\\dtypes.py:530: FutureWarning: Passing (type, 1) or '1type' as a synonym of type is deprecated; in a future version of numpy, it will be understood as (type, (1,)) / '(1,)type'.\n",
      "  _np_qint32 = np.dtype([(\"qint32\", np.int32, 1)])\n",
      "C:\\Users\\Bear-\\Anaconda3\\lib\\site-packages\\tensorflow\\python\\framework\\dtypes.py:535: FutureWarning: Passing (type, 1) or '1type' as a synonym of type is deprecated; in a future version of numpy, it will be understood as (type, (1,)) / '(1,)type'.\n",
      "  np_resource = np.dtype([(\"resource\", np.ubyte, 1)])\n"
     ]
    }
   ],
   "source": [
    "import os\n",
    "import cv2\n",
    "import dlib\n",
    "import numpy as np\n",
    "import pandas as pd\n",
    "import matplotlib.pyplot as plt\n",
    "\n",
    "from sklearn.model_selection import train_test_split\n",
    "from sklearn.metrics import confusion_matrix, accuracy_score, recall_score, precision_score, f1_score\n",
    "\n",
    "from keras import optimizers\n",
    "from keras.models import Sequential\n",
    "from keras.layers import Conv2D, MaxPooling2D, BatchNormalization\n",
    "from keras.layers import Activation, Dropout, Flatten, Dense\n",
    "from keras.preprocessing import image\n",
    "from keras.preprocessing.image import ImageDataGenerator\n",
    "\n",
    "\n",
    "%matplotlib inline\n",
    "# required magic function\n",
    "\n",
    "# import sys\n",
    "# np.set_printoptions(threshold=sys.maxsize)"
   ]
  },
  {
   "cell_type": "markdown",
   "metadata": {},
   "source": [
    "## Directory List\n",
    "relevant folder\n",
    "1. Image directory : ..\\AMLS_19-20_SN15053755\\dataset\\cartoon_set\\img\n",
    "2. Label CSV file directory : ..\\AMLS_19-20_SN15053755\\dataset\\cartoon_set\\labels.csv"
   ]
  },
  {
   "cell_type": "code",
   "execution_count": 2,
   "metadata": {},
   "outputs": [
    {
     "name": "stdout",
     "output_type": "stream",
     "text": [
      "C:\\Users\\Bear-\\Desktop\\AMLS_19-20_SN15053755\n"
     ]
    }
   ],
   "source": [
    "os.chdir(\"..\")\n",
    "print(os.path.abspath(os.curdir))"
   ]
  },
  {
   "cell_type": "code",
   "execution_count": 3,
   "metadata": {},
   "outputs": [],
   "source": [
    "labels_filename = 'labels.csv'\n",
    "\n",
    "basedir = os.path.abspath(os.curdir)\n",
    "dataset_dir = os.path.join(basedir,'dataset')\n",
    "cartoon_dir = os.path.join(dataset_dir,'cartoon_set')\n",
    "images_dir = os.path.join(cartoon_dir,'img')\n",
    "labels_dir = os.path.join(cartoon_dir,labels_filename)"
   ]
  },
  {
   "cell_type": "markdown",
   "metadata": {},
   "source": [
    "## Feature Extraction"
   ]
  },
  {
   "cell_type": "code",
   "execution_count": 4,
   "metadata": {},
   "outputs": [],
   "source": [
    "detector = dlib.get_frontal_face_detector()\n",
    "predictor = dlib.shape_predictor('shape_predictor_68_face_landmarks.dat')"
   ]
  },
  {
   "cell_type": "code",
   "execution_count": 5,
   "metadata": {},
   "outputs": [],
   "source": [
    "def extract_features_labels(images_dir, labels_dir): ## eye colour, face shape\n",
    "    \"\"\" return:\n",
    "        landmark_features:  an array containing 68 landmark points for each image in celeba folder\n",
    "        fshape_labels:      an array containing the face shape label (0,1,2,3,4) for each image\n",
    "    \"\"\"\n",
    "    image_paths = [os.path.join(images_dir, l) for l in os.listdir(images_dir)] ##filename in matrix\n",
    "    target_size = None\n",
    "    labels_file = open(labels_dir, 'r')\n",
    "    lines = labels_file.readlines()\n",
    "    fshape_labels = {line.split('\\t')[0] : int(line.split('\\t')[2]) for line in lines[1:]} ##fetch filename + faceshape\n",
    "#     ecolor_labels = {line.split('\\t')[0] : int(line.split('\\t')[1]) for line in lines[1:]} \n",
    "    if os.path.isdir(images_dir):\n",
    "        all_features = []\n",
    "        all_labels = []\n",
    "        error_features = []\n",
    "        for img_path in image_paths:\n",
    "            file_name= img_path.split('.')[0].split('\\\\')[-1] ##getting name of file; remove png/jpg + dir\n",
    "\n",
    "            # load image\n",
    "            img = image.img_to_array(\n",
    "                image.load_img(img_path,\n",
    "                               target_size=target_size,\n",
    "                               interpolation='bicubic'))\n",
    "            features, _ = run_dlib_shape(img)\n",
    "            if features is not None:\n",
    "                all_features.append(features)\n",
    "                all_labels.append(fshape_labels[file_name])\n",
    "            if features is None:\n",
    "                error_features.append(file_name)\n",
    "                \n",
    "\n",
    "    landmark_features = np.array(all_features)\n",
    "    fshape_labels = np.array(all_labels)\n",
    "    return landmark_features, fshape_labels, error_features\n",
    "\n",
    "def shape_to_np(shape, dtype=\"int\"):\n",
    "    # initialize the list of (x, y)-coordinates\n",
    "    coords = np.zeros((shape.num_parts, 2), dtype=dtype)\n",
    "\n",
    "    # loop over all facial landmarks and convert them\n",
    "    # to a 2-tuple of (x, y)-coordinates\n",
    "    for i in range(0, shape.num_parts):\n",
    "        coords[i] = (shape.part(i).x, shape.part(i).y)\n",
    "\n",
    "    # return the list of (x, y)-coordinates\n",
    "    return coords\n",
    "\n",
    "def rect_to_bb(rect):\n",
    "    # take a bounding predicted by dlib and convert it\n",
    "    # to the format (x, y, w, h) as we would normally do\n",
    "    # with OpenCV\n",
    "    x = rect.left()\n",
    "    y = rect.top()\n",
    "    w = rect.right() - x\n",
    "    h = rect.bottom() - y\n",
    "\n",
    "    # return a tuple of (x, y, w, h)\n",
    "    return (x, y, w, h)\n",
    "\n",
    "\n",
    "def run_dlib_shape(image):\n",
    "    # in this function we load the image, detect the landmarks of the face, and then return the image and the landmarks\n",
    "    # load the input image, resize it, and convert it to grayscale\n",
    "    resized_image = image.astype('uint8')\n",
    "\n",
    "    gray = cv2.cvtColor(resized_image, cv2.COLOR_BGR2GRAY)\n",
    "    gray = gray.astype('uint8')\n",
    "\n",
    "    # detect faces in the grayscale image\n",
    "    rects = detector(gray, 1)\n",
    "    num_faces = len(rects)\n",
    "\n",
    "    if num_faces == 0:\n",
    "        return None, resized_image\n",
    "\n",
    "    face_areas = np.zeros((1, num_faces))\n",
    "    face_shapes = np.zeros((136, num_faces), dtype=np.int64)\n",
    "\n",
    "    # loop over the face detections\n",
    "    for (i, rect) in enumerate(rects):\n",
    "        # determine the facial landmarks for the face region, then\n",
    "        # convert the facial landmark (x, y)-coordinates to a NumPy\n",
    "        # array\n",
    "        temp_shape = predictor(gray, rect)\n",
    "        temp_shape = shape_to_np(temp_shape)\n",
    "\n",
    "        # convert dlib's rectangle to a OpenCV-style bounding box\n",
    "        # [i.e., (x, y, w, h)],\n",
    "        #   (x, y, w, h) = face_utils.rect_to_bb(rect)\n",
    "        (x, y, w, h) = rect_to_bb(rect)\n",
    "        face_shapes[:, i] = np.reshape(temp_shape, [136])\n",
    "        face_areas[0, i] = w * h\n",
    "    # find largest face and keep\n",
    "    dlibout = np.reshape(np.transpose(face_shapes[:, np.argmax(face_areas)]), [68, 2])\n",
    "\n",
    "    return dlibout, resized_image\n",
    "    \n",
    "def totuple(a):\n",
    "    try:\n",
    "        return tuple(totuple(i) for i in a)\n",
    "    except TypeError:\n",
    "        return a"
   ]
  },
  {
   "cell_type": "code",
   "execution_count": 6,
   "metadata": {},
   "outputs": [],
   "source": [
    "feat , lab , err = extract_features_labels(images_dir, labels_dir)"
   ]
  },
  {
   "cell_type": "code",
   "execution_count": 7,
   "metadata": {},
   "outputs": [
    {
     "name": "stdout",
     "output_type": "stream",
     "text": [
      "7815\n",
      "2185\n"
     ]
    }
   ],
   "source": [
    "print(len(lab))\n",
    "print(len(err))"
   ]
  },
  {
   "cell_type": "markdown",
   "metadata": {},
   "source": [
    "Approximately a fifth of data cannot be feature extracted. Which is quite huge."
   ]
  },
  {
   "cell_type": "markdown",
   "metadata": {},
   "source": [
    "## Visualise some example"
   ]
  },
  {
   "cell_type": "code",
   "execution_count": 8,
   "metadata": {},
   "outputs": [
    {
     "data": {
      "image/png": "[encoded data removed]",
      "text/plain": [
       "<Figure size 1440x1440 with 5 Axes>"
      ]
     },
     "metadata": {
      "needs_background": "light"
     },
     "output_type": "display_data"
    }
   ],
   "source": [
    "example_image = ['1010.png','1159.png','4066.png','2368.png','3034.png']\n",
    "img_list = []\n",
    "img_id = 1\n",
    "fig = plt.figure(figsize = (20,20))\n",
    "\n",
    "for example_img in example_image:\n",
    "    path = os.path.join(images_dir, example_img)\n",
    "    ex_img = image.img_to_array(image.load_img(path, target_size = None, interpolation='bicubic'))\n",
    "    ex_feat,_ = run_dlib_shape(ex_img)\n",
    "    cv_img = cv2.imread(path)\n",
    "    \n",
    "    a=fig.add_subplot(1, len(example_image), img_id)\n",
    "    image_plot = plt.imshow(cv_img)\n",
    "    a.set_title(\"Image \" + example_img)\n",
    "    img_id = img_id+1\n",
    "    \n",
    "    if ex_feat is not None:\n",
    "        x,y = np.split(ex_feat, 2, axis=1)\n",
    "        plt.scatter(x,y,c='red', s=2)\n",
    "\n",
    "plt.show()"
   ]
  },
  {
   "cell_type": "markdown",
   "metadata": {},
   "source": [
    "Image 1010 can detect pretty well regardless of the beard. Image 1159 cant be detect due to glasses. Image 4066 perfectly fine but feature extraction cant detect. Image 2368 detect facial completely wrong. Image 3034 ignore the beard and take the jawline where it is visible."
   ]
  },
  {
   "cell_type": "markdown",
   "metadata": {},
   "source": [
    "## Using CNN from Keras"
   ]
  },
  {
   "cell_type": "markdown",
   "metadata": {},
   "source": [
    "### Convert labels to dataframe\n",
    "This is to use for dataflow_from_dataframe"
   ]
  },
  {
   "cell_type": "code",
   "execution_count": 9,
   "metadata": {},
   "outputs": [],
   "source": [
    "labels_file = open(labels_dir,'r')\n",
    "lines = labels_file.readlines()\n",
    "## Convert 0-4 to 1-5 and convert to string for categorical\n",
    "fshape_labels = {line.split('\\t')[3].split(\"\\n\")[0] : str(int(line.split('\\t')[2])+1) for line in lines[1:]} \n",
    "df=pd.DataFrame(list(fshape_labels.items()))\n",
    "df.columns = ['Filename', 'FaceShape']"
   ]
  },
  {
   "cell_type": "code",
   "execution_count": 10,
   "metadata": {},
   "outputs": [
    {
     "name": "stdout",
     "output_type": "stream",
     "text": [
      "  Filename FaceShape\n",
      "0    0.png         5\n",
      "1    1.png         5\n",
      "2    2.png         4\n",
      "3    3.png         1\n",
      "4    4.png         3\n"
     ]
    }
   ],
   "source": [
    "print(df.head())"
   ]
  },
  {
   "cell_type": "markdown",
   "metadata": {},
   "source": [
    "### Print labels count for each labels"
   ]
  },
  {
   "cell_type": "code",
   "execution_count": 11,
   "metadata": {},
   "outputs": [
    {
     "data": {
      "image/png": "[encoded data removed]",
      "text/plain": [
       "<Figure size 432x288 with 1 Axes>"
      ]
     },
     "metadata": {
      "needs_background": "light"
     },
     "output_type": "display_data"
    }
   ],
   "source": [
    "df.FaceShape.value_counts().plot(kind='bar')\n",
    "plt.title('Labels counts')\n",
    "plt.xlabel('Label')\n",
    "plt.ylabel('Count')\n",
    "plt.show()"
   ]
  },
  {
   "cell_type": "markdown",
   "metadata": {},
   "source": [
    "### Get Data"
   ]
  },
  {
   "cell_type": "code",
   "execution_count": 12,
   "metadata": {},
   "outputs": [],
   "source": [
    "train_df, test_df = train_test_split(df, random_state=24)"
   ]
  },
  {
   "cell_type": "code",
   "execution_count": 13,
   "metadata": {},
   "outputs": [
    {
     "name": "stdout",
     "output_type": "stream",
     "text": [
      "Getting Data..\n",
      "Preparing training dataset..\n",
      "Found 5625 validated image filenames belonging to 5 classes.\n",
      "Preparing validation dataset..\n",
      "Found 1875 validated image filenames belonging to 5 classes.\n"
     ]
    }
   ],
   "source": [
    "print(\"Getting Data..\")\n",
    "datagen = ImageDataGenerator(rescale=1./255.,\n",
    "                             validation_split=0.25,\n",
    "                             horizontal_flip=True,\n",
    "                             vertical_flip=True)\n",
    "\n",
    "print(\"Preparing training dataset..\")\n",
    "train_generator = datagen.flow_from_dataframe(dataframe=train_df,directory=images_dir,\n",
    "                                              x_col=\"Filename\", y_col=\"FaceShape\",\n",
    "                                              class_mode=\"categorical\", target_size=(32,32),\n",
    "                                              batch_size=32, subset = 'training')\n",
    "\n",
    "print(\"Preparing validation dataset..\")\n",
    "validation_generator = datagen.flow_from_dataframe(dataframe=train_df, directory=images_dir,\n",
    "                                                   x_col=\"Filename\", y_col=\"FaceShape\",\n",
    "                                                   class_mode=\"categorical\", target_size = (32,32),\n",
    "                                                   batch_size=32, subset= 'validation')"
   ]
  },
  {
   "cell_type": "markdown",
   "metadata": {},
   "source": [
    "### Define CNN layers"
   ]
  },
  {
   "cell_type": "code",
   "execution_count": 14,
   "metadata": {},
   "outputs": [
    {
     "name": "stdout",
     "output_type": "stream",
     "text": [
      "WARNING:tensorflow:From C:\\Users\\Bear-\\Anaconda3\\lib\\site-packages\\tensorflow\\python\\framework\\op_def_library.py:263: colocate_with (from tensorflow.python.framework.ops) is deprecated and will be removed in a future version.\n",
      "Instructions for updating:\n",
      "Colocations handled automatically by placer.\n",
      "_________________________________________________________________\n",
      "Layer (type)                 Output Shape              Param #   \n",
      "=================================================================\n",
      "conv2d_1 (Conv2D)            (None, 30, 30, 24)        672       \n",
      "_________________________________________________________________\n",
      "activation_1 (Activation)    (None, 30, 30, 24)        0         \n",
      "_________________________________________________________________\n",
      "max_pooling2d_1 (MaxPooling2 (None, 15, 15, 24)        0         \n",
      "_________________________________________________________________\n",
      "conv2d_2 (Conv2D)            (None, 13, 13, 24)        5208      \n",
      "_________________________________________________________________\n",
      "activation_2 (Activation)    (None, 13, 13, 24)        0         \n",
      "_________________________________________________________________\n",
      "conv2d_3 (Conv2D)            (None, 11, 11, 48)        10416     \n",
      "_________________________________________________________________\n",
      "activation_3 (Activation)    (None, 11, 11, 48)        0         \n",
      "_________________________________________________________________\n",
      "conv2d_4 (Conv2D)            (None, 9, 9, 96)          41568     \n",
      "_________________________________________________________________\n",
      "activation_4 (Activation)    (None, 9, 9, 96)          0         \n",
      "_________________________________________________________________\n",
      "max_pooling2d_2 (MaxPooling2 (None, 4, 4, 96)          0         \n",
      "_________________________________________________________________\n",
      "flatten_1 (Flatten)          (None, 1536)              0         \n",
      "_________________________________________________________________\n",
      "dense_1 (Dense)              (None, 5)                 7685      \n",
      "_________________________________________________________________\n",
      "activation_5 (Activation)    (None, 5)                 0         \n",
      "=================================================================\n",
      "Total params: 65,549\n",
      "Trainable params: 65,549\n",
      "Non-trainable params: 0\n",
      "_________________________________________________________________\n",
      "None\n"
     ]
    }
   ],
   "source": [
    "\n",
    "model = Sequential()\n",
    "\n",
    "model.add(Conv2D(24, (3,3), input_shape=train_generator.image_shape))\n",
    "model.add(Activation(\"relu\"))\n",
    "\n",
    "model.add(MaxPooling2D(pool_size=(2,2)))\n",
    "\n",
    "model.add(Conv2D(24, (3,3)))\n",
    "model.add(Activation(\"relu\"))\n",
    "\n",
    "model.add(Conv2D(48, (3,3)))\n",
    "model.add(Activation(\"relu\"))\n",
    "\n",
    "model.add(Conv2D(96, (3,3)))\n",
    "model.add(Activation(\"relu\"))\n",
    "model.add(MaxPooling2D(pool_size=(2,2)))\n",
    "\n",
    "model.add(Flatten())\n",
    "model.add(Dense(5))\n",
    "model.add(Activation(\"softmax\"))\n",
    "\n",
    "opt = optimizers.Adam(lr=0.001)\n",
    "model.compile(loss='categorical_crossentropy', optimizer=opt, metrics=['accuracy'])\n",
    "\n",
    "print(model.summary())"
   ]
  },
  {
   "cell_type": "markdown",
   "metadata": {},
   "source": [
    "### Training the Model"
   ]
  },
  {
   "cell_type": "code",
   "execution_count": 15,
   "metadata": {},
   "outputs": [
    {
     "name": "stdout",
     "output_type": "stream",
     "text": [
      "WARNING:tensorflow:From C:\\Users\\Bear-\\Anaconda3\\lib\\site-packages\\tensorflow\\python\\ops\\math_ops.py:3066: to_int32 (from tensorflow.python.ops.math_ops) is deprecated and will be removed in a future version.\n",
      "Instructions for updating:\n",
      "Use tf.cast instead.\n",
      "Epoch 1/25\n",
      "175/175 [==============================] - 41s 234ms/step - loss: 1.3972 - acc: 0.3716 - val_loss: 0.8981 - val_acc: 0.6277\n",
      "Epoch 2/25\n",
      "175/175 [==============================] - 38s 218ms/step - loss: 0.5640 - acc: 0.7943 - val_loss: 0.3741 - val_acc: 0.8736\n",
      "Epoch 3/25\n",
      "175/175 [==============================] - 38s 218ms/step - loss: 0.3247 - acc: 0.8896 - val_loss: 0.2859 - val_acc: 0.8991\n",
      "Epoch 4/25\n",
      "175/175 [==============================] - 38s 220ms/step - loss: 0.2403 - acc: 0.9184 - val_loss: 0.1934 - val_acc: 0.9300\n",
      "Epoch 5/25\n",
      "175/175 [==============================] - 38s 218ms/step - loss: 0.1707 - acc: 0.9415 - val_loss: 0.1465 - val_acc: 0.9468\n",
      "Epoch 6/25\n",
      "175/175 [==============================] - 38s 216ms/step - loss: 0.1490 - acc: 0.9472 - val_loss: 0.1467 - val_acc: 0.9501\n",
      "Epoch 7/25\n",
      "175/175 [==============================] - 37s 210ms/step - loss: 0.1066 - acc: 0.9617 - val_loss: 0.1291 - val_acc: 0.9555\n",
      "Epoch 8/25\n",
      "175/175 [==============================] - 37s 212ms/step - loss: 0.1023 - acc: 0.9651 - val_loss: 0.1073 - val_acc: 0.9598\n",
      "Epoch 9/25\n",
      "175/175 [==============================] - 37s 213ms/step - loss: 0.0823 - acc: 0.9694 - val_loss: 0.1034 - val_acc: 0.9636\n",
      "Epoch 10/25\n",
      "175/175 [==============================] - 38s 215ms/step - loss: 0.0722 - acc: 0.9755 - val_loss: 0.1032 - val_acc: 0.9609\n",
      "Epoch 11/25\n",
      "175/175 [==============================] - 37s 214ms/step - loss: 0.0717 - acc: 0.9748 - val_loss: 0.0820 - val_acc: 0.9729\n",
      "Epoch 12/25\n",
      "175/175 [==============================] - 37s 212ms/step - loss: 0.0565 - acc: 0.9829 - val_loss: 0.1021 - val_acc: 0.9674\n",
      "Epoch 13/25\n",
      "175/175 [==============================] - 38s 216ms/step - loss: 0.0489 - acc: 0.9836 - val_loss: 0.0791 - val_acc: 0.9750\n",
      "Epoch 14/25\n",
      "175/175 [==============================] - 37s 214ms/step - loss: 0.0502 - acc: 0.9830 - val_loss: 0.1040 - val_acc: 0.9653\n",
      "Epoch 15/25\n",
      "175/175 [==============================] - 38s 216ms/step - loss: 0.0478 - acc: 0.9832 - val_loss: 0.1176 - val_acc: 0.9593\n",
      "Epoch 16/25\n",
      "175/175 [==============================] - 37s 214ms/step - loss: 0.0433 - acc: 0.9866 - val_loss: 0.0504 - val_acc: 0.9826\n",
      "Epoch 17/25\n",
      "175/175 [==============================] - 38s 214ms/step - loss: 0.0436 - acc: 0.9862 - val_loss: 0.0931 - val_acc: 0.9702\n",
      "Epoch 18/25\n",
      "175/175 [==============================] - 38s 220ms/step - loss: 0.0358 - acc: 0.9868 - val_loss: 0.0655 - val_acc: 0.9788\n",
      "Epoch 19/25\n",
      "175/175 [==============================] - 38s 217ms/step - loss: 0.0262 - acc: 0.9925 - val_loss: 0.0546 - val_acc: 0.9832\n",
      "Epoch 20/25\n",
      "175/175 [==============================] - 38s 217ms/step - loss: 0.0346 - acc: 0.9877 - val_loss: 0.0723 - val_acc: 0.9729\n",
      "Epoch 21/25\n",
      "175/175 [==============================] - 38s 216ms/step - loss: 0.0265 - acc: 0.9914 - val_loss: 0.0795 - val_acc: 0.9691\n",
      "Epoch 22/25\n",
      "175/175 [==============================] - 37s 214ms/step - loss: 0.0244 - acc: 0.9930 - val_loss: 0.0446 - val_acc: 0.9848\n",
      "Epoch 23/25\n",
      "175/175 [==============================] - 38s 216ms/step - loss: 0.0219 - acc: 0.9920 - val_loss: 0.0577 - val_acc: 0.9821\n",
      "Epoch 24/25\n",
      "175/175 [==============================] - 37s 211ms/step - loss: 0.0333 - acc: 0.9889 - val_loss: 0.0997 - val_acc: 0.9674\n",
      "Epoch 25/25\n",
      "175/175 [==============================] - 38s 216ms/step - loss: 0.0247 - acc: 0.9911 - val_loss: 0.0776 - val_acc: 0.9750\n"
     ]
    }
   ],
   "source": [
    "num_epochs = 25\n",
    "batch_size = 32\n",
    "history = model.fit_generator(train_generator, steps_per_epoch = train_generator.samples // batch_size, validation_data = validation_generator, validation_steps = validation_generator.samples // batch_size, epochs = num_epochs)"
   ]
  },
  {
   "cell_type": "markdown",
   "metadata": {},
   "source": [
    "### Viewing Loss History"
   ]
  },
  {
   "cell_type": "code",
   "execution_count": 16,
   "metadata": {},
   "outputs": [
    {
     "data": {
      "image/png": "[encoded data removed]",
      "text/plain": [
       "<Figure size 432x288 with 1 Axes>"
      ]
     },
     "metadata": {
      "needs_background": "light"
     },
     "output_type": "display_data"
    }
   ],
   "source": [
    "%matplotlib inline\n",
    "from matplotlib import pyplot as plt\n",
    "\n",
    "epoch_nums = range(1,num_epochs+1)\n",
    "training_loss = history.history[\"loss\"]\n",
    "validation_loss = history.history[\"val_loss\"]\n",
    "plt.plot(epoch_nums, training_loss)\n",
    "plt.plot(epoch_nums, validation_loss)\n",
    "plt.xlabel('epoch')\n",
    "plt.ylabel('loss')\n",
    "plt.legend(['training', 'validation'], loc='upper right')\n",
    "plt.show()"
   ]
  },
  {
   "cell_type": "markdown",
   "metadata": {},
   "source": [
    "### View Model Performance"
   ]
  },
  {
   "cell_type": "code",
   "execution_count": 17,
   "metadata": {},
   "outputs": [
    {
     "name": "stdout",
     "output_type": "stream",
     "text": [
      "Generating predictions from validation data..\n"
     ]
    },
    {
     "data": {
      "image/png": "[encoded data removed]",
      "text/plain": [
       "<Figure size 432x288 with 2 Axes>"
      ]
     },
     "metadata": {
      "needs_background": "light"
     },
     "output_type": "display_data"
    }
   ],
   "source": [
    "print(\"Generating predictions from validation data..\")\n",
    "\n",
    "x_test = validation_generator[0][0]\n",
    "y_test = validation_generator[0][1]\n",
    "\n",
    "class_probabilities = model.predict(x_test)\n",
    "\n",
    "predictions = np.argmax(class_probabilities, axis=1)\n",
    "\n",
    "true_labels = np.argmax(y_test, axis=1)\n",
    "\n",
    "classes = [\"FaceShape 1\", \"FaceShape 2\", \"FaceShape 3\", \"FaceShape 4\" , \"FaceShape 5\"]\n",
    "\n",
    "cm = confusion_matrix(true_labels, predictions)\n",
    "plt.imshow(cm, interpolation=\"nearest\", cmap=plt.cm.Blues)\n",
    "plt.colorbar()\n",
    "tick_marks = np.arange(len(classes))\n",
    "plt.xticks(tick_marks, classes , rotation=85)\n",
    "plt.yticks(tick_marks, classes)\n",
    "plt.xlabel(\"Predicted Class\")\n",
    "plt.ylabel(\"True Class\")\n",
    "plt.show()"
   ]
  },
  {
   "cell_type": "markdown",
   "metadata": {},
   "source": [
    "### Metric Evaluation of model"
   ]
  },
  {
   "cell_type": "code",
   "execution_count": 18,
   "metadata": {},
   "outputs": [
    {
     "name": "stdout",
     "output_type": "stream",
     "text": [
      "Preparing testing dataset..\n",
      "Found 2500 validated image filenames belonging to 5 classes.\n"
     ]
    }
   ],
   "source": [
    "print(\"Preparing testing dataset..\")\n",
    "test_datagen = ImageDataGenerator(rescale=1./255)\n",
    "test_generator = test_datagen.flow_from_dataframe(dataframe=test_df, directory=images_dir,\n",
    "                                                  x_col=\"Filename\", y_col=\"FaceShape\",\n",
    "                                                  class_mode=\"categorical\", target_size = (32,32),\n",
    "                                                  batch_size=1, shuffle=False)\n",
    "\n",
    "filenames = test_generator.filenames\n",
    "nb_samples = len(filenames)\n",
    "\n",
    "prob = model.predict_generator(test_generator, steps=nb_samples)"
   ]
  },
  {
   "cell_type": "code",
   "execution_count": 20,
   "metadata": {},
   "outputs": [
    {
     "data": {
      "image/png": "[encoded data removed]",
      "text/plain": [
       "<Figure size 432x288 with 2 Axes>"
      ]
     },
     "metadata": {
      "needs_background": "light"
     },
     "output_type": "display_data"
    }
   ],
   "source": [
    "pred = np.argmax(prob, axis=1)\n",
    "true = np.array(test_generator.classes)\n",
    "\n",
    "testcm = confusion_matrix(true, pred)\n",
    "\n",
    "plt.imshow(testcm, interpolation=\"nearest\", cmap=plt.cm.Blues)\n",
    "plt.colorbar()\n",
    "tick_marks = np.arange(len(classes))\n",
    "plt.xticks(tick_marks, classes , rotation=85)\n",
    "plt.yticks(tick_marks, classes)\n",
    "plt.xlabel(\"Predicted Class\")\n",
    "plt.ylabel(\"True Class\")\n",
    "plt.show()"
   ]
  },
  {
   "cell_type": "code",
   "execution_count": 21,
   "metadata": {},
   "outputs": [
    {
     "name": "stdout",
     "output_type": "stream",
     "text": [
      "Accuracy :0.986\n",
      "Precision :0.9862587399599902\n",
      "Recall :0.985896086082171\n",
      "F1 Score :0.9860109780093504\n"
     ]
    },
    {
     "name": "stderr",
     "output_type": "stream",
     "text": [
      "C:\\Users\\Bear-\\Anaconda3\\lib\\site-packages\\sklearn\\metrics\\_classification.py:1317: UserWarning: Note that pos_label (set to 'positive') is ignored when average != 'binary' (got 'macro'). You may use labels=[pos_label] to specify a single positive class.\n",
      "  % (pos_label, average), UserWarning)\n"
     ]
    }
   ],
   "source": [
    "acc = accuracy_score(true, pred)\n",
    "rec = recall_score(true, pred, pos_label = 'positive', average ='macro') ## Weighted using macro\n",
    "pre = precision_score(true,pred, pos_label = 'positive', average ='macro') ## Weighted using macro\n",
    "f1 = f1_score(true,pred, pos_label = 'positive', average ='macro') ## Weighted using macro\n",
    "print(\"Accuracy :\" + str(acc))\n",
    "print(\"Precision :\" + str(pre))\n",
    "print(\"Recall :\" + str(rec))\n",
    "print(\"F1 Score :\" + str(f1))"
   ]
  },
  {
   "cell_type": "markdown",
   "metadata": {},
   "source": [
    "### Save Model"
   ]
  },
  {
   "cell_type": "code",
   "execution_count": null,
   "metadata": {},
   "outputs": [],
   "source": [
    "from keras.models import load_model\n",
    "\n",
    "modelFileName = 'faceshape-classifier.h5'\n",
    "os.chdir(\"./B1\")\n",
    "\n",
    "model.save(modelFileName) # saves the trained model\n",
    "print(\"Model saved.\")\n",
    "os.chdir(\"..\")"
   ]
  },
  {
   "cell_type": "code",
   "execution_count": 22,
   "metadata": {},
   "outputs": [
    {
     "name": "stdout",
     "output_type": "stream",
     "text": [
      "(32, 32, 3)\n"
     ]
    }
   ],
   "source": [
    "print(train_generator.image_shape)"
   ]
  },
  {
   "cell_type": "code",
   "execution_count": null,
   "metadata": {},
   "outputs": [],
   "source": []
  },
  {
   "cell_type": "markdown",
   "metadata": {},
   "source": [
    "## IGNORE CODE BELOW"
   ]
  },
  {
   "cell_type": "code",
   "execution_count": 88,
   "metadata": {},
   "outputs": [
    {
     "name": "stdout",
     "output_type": "stream",
     "text": [
      "Getting Data...\n",
      "Preparing training dataset...\n",
      "Found 7000 validated image filenames.\n",
      "Preparing validation dataset...\n",
      "Found 3000 validated image filenames.\n"
     ]
    }
   ],
   "source": [
    "print(\"Getting Data...\")\n",
    "datagen = ImageDataGenerator(rescale=1./255, validation_split = 0.3)\n",
    "\n",
    "print(\"Preparing training dataset...\")\n",
    "train_generator = datagen.flow_from_dataframe(dataframe=df, directory=images_dir, x_col=\"Filename\", y_col=\"FaceShape\", class_mode=\"raw\", target_size=(32,32), batch_size=32, subset = 'training')\n",
    "\n",
    "print(\"Preparing validation dataset...\")\n",
    "validation_generator = datagen.flow_from_dataframe(dataframe=df, directory=images_dir, x_col=\"Filename\", y_col=\"FaceShape\", class_mode=\"raw\", targe_size = (32,32), batch_size=32, subset= 'validation')\n",
    "\n",
    "# classes = sorted(train_generator.class_indices.keys())\n",
    "# print(\"classification name: \", classes)"
   ]
  },
  {
   "cell_type": "code",
   "execution_count": 7,
   "metadata": {},
   "outputs": [],
   "source": [
    "def crop_img(file_dir): ## Crop to get only jawline/faceshape\n",
    "    orig = cv2.imread(file_dir)\n",
    "    crop = orig[280:400 , 150:350]\n",
    "    return crop\n",
    "\n",
    "def getdata_CNN(images_dir, labes_dir):\n",
    "    image_paths = [os.path.join(images_dir, l) for l in os.listdir(images_dir)]\n",
    "    labels_file = open(labels_dir, 'r')\n",
    "    lines = labels_file.readlines()\n",
    "    fshape_labels = {line.split('\\t')[0] : int(line.split('\\t')[2]) for line in lines[1:]}\n",
    "    all_data = []\n",
    "    data_name = []\n",
    "    all_labels = []\n",
    "    \n",
    "    if os.path.isdir(images_dir):\n",
    "        \n",
    "        for img_path in image_paths:\n",
    "            file_name = img_path.split('.')[0].split('\\\\')[-1]\n",
    "            \n",
    "            cropped = crop_img(img_path)\n",
    "            cropped = cv2.resize(cropped, (28,28))\n",
    "            datacrop = image.img_to_array(cropped)\n",
    "            \n",
    "            all_data.append(datacrop)\n",
    "            data_name.append(file_name)\n",
    "            all_labels.append(fshape_labels[file_name])\n",
    "            \n",
    "    data = np.array(all_data, dtype=\"float\") /255.0\n",
    "    label = np.array(all_labels)\n",
    "    \n",
    "    return data, label\n",
    "\n",
    "data_CNN, label_CNN = getdata_CNN(images_dir, labels_dir)"
   ]
  },
  {
   "cell_type": "markdown",
   "metadata": {},
   "source": [
    "### Splitting Data into Training and Testing"
   ]
  },
  {
   "cell_type": "code",
   "execution_count": 9,
   "metadata": {},
   "outputs": [],
   "source": [
    "def split_data_CNN(image_feature, image_label):\n",
    "    k = int(len(x)*(80/100))\n",
    "    \n",
    "    train_image = image_feature[:k]\n",
    "    train_label = image_label[:k]\n",
    "    \n",
    "    test_image = image_feature[k:]\n",
    "    test_label = image_label[k:]\n",
    "    \n",
    "#     i,j,k,l = train_test_split(image_feature, image_label, test_size = 0.2, random_state=42)\n",
    "#     train_image = i.reshape((len(i), 68*2))\n",
    "# #     train_image = i\n",
    "#     train_label = totuple(k)\n",
    "#     test_image = j.reshape((len(j), 68*2))\n",
    "# #     test_image = j\n",
    "#     test_label = totuple(l)\n",
    "    \n",
    "    return train_image, train_label, test_image, test_label\n",
    "\n",
    "tr_imgCNN, tr_labCNN, te_imgCNN, te_labCNN = split_data_CNN(data_CNN, label_CNN)"
   ]
  },
  {
   "cell_type": "markdown",
   "metadata": {},
   "source": [
    "### Separating Training and Validation"
   ]
  },
  {
   "cell_type": "code",
   "execution_count": 10,
   "metadata": {},
   "outputs": [],
   "source": [
    "train_imageCNN, train_labelCNN, val_imgCNN, val_labCNN = split_data_CNN(tr_imgCNN, tr_labCNN)"
   ]
  }
 ],
 "metadata": {
  "kernelspec": {
   "display_name": "Python 3",
   "language": "python",
   "name": "python3"
  },
  "language_info": {
   "codemirror_mode": {
    "name": "ipython",
    "version": 3
   },
   "file_extension": ".py",
   "mimetype": "text/x-python",
   "name": "python",
   "nbconvert_exporter": "python",
   "pygments_lexer": "ipython3",
   "version": "3.6.9"
  }
 },
 "nbformat": 4,
 "nbformat_minor": 2
}
